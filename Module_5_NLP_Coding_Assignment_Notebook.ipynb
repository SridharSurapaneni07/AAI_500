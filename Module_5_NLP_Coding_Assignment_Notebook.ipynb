{
  "cells": [
    {
      "cell_type": "markdown",
      "metadata": {
        "id": "view-in-github",
        "colab_type": "text"
      },
      "source": [
        "<a href=\"https://colab.research.google.com/github/SridharSurapaneni07/AAI_500/blob/main/Module_5_NLP_Coding_Assignment_Notebook.ipynb\" target=\"_parent\"><img src=\"https://colab.research.google.com/assets/colab-badge.svg\" alt=\"Open In Colab\"/></a>"
      ]
    },
    {
      "cell_type": "markdown",
      "metadata": {
        "id": "jpU2vPa-QqvJ"
      },
      "source": [
        "# OVERVIEW\n",
        "\n",
        "In this assignment, you will perform a supervised text regression task. The data for the task will consist of student essays from The William and Flora Hewlett Foundation. The dataset was created to assist in the design of solutions for automated grading of student-written essays. You will use a subset of this dataset and predict the scores of the essays. You may not use external data to make predictions.\n",
        "\n",
        "You will be provided with `training_set_rel.tsv` which contain the text of the essay and the score of each essay.\n",
        "\n"
      ],
      "id": "jpU2vPa-QqvJ"
    },
    {
      "cell_type": "markdown",
      "metadata": {
        "id": "F32kdB98QqvN"
      },
      "source": [
        "# PART 1: SETUP"
      ],
      "id": "F32kdB98QqvN"
    },
    {
      "cell_type": "markdown",
      "metadata": {
        "id": "cy3nEUz7QqvN"
      },
      "source": [
        "### Q0: Run the following code!\n",
        "    \n",
        "For reproducibility purposes, you will set the random seeds for NumPy and TensorFlow as 1234.  This way, all random steps will produce the same answers.\n"
      ],
      "id": "cy3nEUz7QqvN"
    },
    {
      "cell_type": "code",
      "execution_count": 1,
      "metadata": {
        "id": "olYsAfm7QqvO"
      },
      "outputs": [],
      "source": [
        "from numpy.random import seed\n",
        "\n",
        "import tensorflow as tf\n",
        "\n",
        "seed(1234)\n",
        "\n",
        "tf.random.set_seed(seed = 1234)\n"
      ],
      "id": "olYsAfm7QqvO"
    },
    {
      "cell_type": "markdown",
      "metadata": {
        "id": "cWCp030sQqvP"
      },
      "source": [
        "### Q1: Load the data\n",
        "\n",
        "We will use data from the [automated essay scoring task](https://www.kaggle.com/c/asap-aes) on Kaggle.\n",
        "\n",
        "We will only use the training data, which we have provided for you -- you don't need to download anything from Kaggle.\n",
        "\n",
        "Access the file `training_set_rel.tsv` as provided.  \n",
        "\n",
        "Use the pandas function `read_csv`, with the parameter `sep=\\t` because this is a tab-separated value file (tsv) and `encoding=latin`.\n",
        "\n",
        "The columns are described on the [Kaggle site](https://www.kaggle.com/competitions/asap-aes/data)\n",
        "\n",
        "We will use three columns: `essay`, `essay_set`, and `domain1_score`.\n",
        "\n",
        "Create a new dataframe with only these three columns, and rename `domain1_score` to just `score`.\n",
        "\n",
        "Display this dataframe."
      ],
      "id": "cWCp030sQqvP"
    },
    {
      "cell_type": "markdown",
      "metadata": {
        "id": "mrvJLz8RQqvQ"
      },
      "source": [
        "## Graded Cell\n",
        "\n",
        "This cell is worth 5% of the grade for this assignment."
      ],
      "id": "mrvJLz8RQqvQ"
    },
    {
      "cell_type": "code",
      "execution_count": 2,
      "metadata": {
        "colab": {
          "base_uri": "https://localhost:8080/",
          "height": 424
        },
        "id": "yOub3RUvQqvR",
        "outputId": "8e523f9c-cf50-4dee-c4b6-dd150fa89941"
      },
      "outputs": [
        {
          "output_type": "execute_result",
          "data": {
            "text/plain": [
              "                                                   essay  essay_set  score\n",
              "0      Dear local newspaper, I think effects computer...          1      8\n",
              "1      Dear @CAPS1 @CAPS2, I believe that using compu...          1      9\n",
              "2      Dear, @CAPS1 @CAPS2 @CAPS3 More and more peopl...          1      7\n",
              "3      Dear Local Newspaper, @CAPS1 I have found that...          1     10\n",
              "4      Dear @LOCATION1, I know having computers has a...          1      8\n",
              "...                                                  ...        ...    ...\n",
              "12971   In most stories mothers and daughters are eit...          8     35\n",
              "12972   I never understood the meaning laughter is th...          8     32\n",
              "12973  When you laugh, is @CAPS5 out of habit, or is ...          8     40\n",
              "12974                                 Trippin' on fen...          8     40\n",
              "12975   Many people believe that laughter can improve...          8     40\n",
              "\n",
              "[12976 rows x 3 columns]"
            ],
            "text/html": [
              "\n",
              "  <div id=\"df-1ade7457-5894-440c-9413-db1fb0f9bc61\" class=\"colab-df-container\">\n",
              "    <div>\n",
              "<style scoped>\n",
              "    .dataframe tbody tr th:only-of-type {\n",
              "        vertical-align: middle;\n",
              "    }\n",
              "\n",
              "    .dataframe tbody tr th {\n",
              "        vertical-align: top;\n",
              "    }\n",
              "\n",
              "    .dataframe thead th {\n",
              "        text-align: right;\n",
              "    }\n",
              "</style>\n",
              "<table border=\"1\" class=\"dataframe\">\n",
              "  <thead>\n",
              "    <tr style=\"text-align: right;\">\n",
              "      <th></th>\n",
              "      <th>essay</th>\n",
              "      <th>essay_set</th>\n",
              "      <th>score</th>\n",
              "    </tr>\n",
              "  </thead>\n",
              "  <tbody>\n",
              "    <tr>\n",
              "      <th>0</th>\n",
              "      <td>Dear local newspaper, I think effects computer...</td>\n",
              "      <td>1</td>\n",
              "      <td>8</td>\n",
              "    </tr>\n",
              "    <tr>\n",
              "      <th>1</th>\n",
              "      <td>Dear @CAPS1 @CAPS2, I believe that using compu...</td>\n",
              "      <td>1</td>\n",
              "      <td>9</td>\n",
              "    </tr>\n",
              "    <tr>\n",
              "      <th>2</th>\n",
              "      <td>Dear, @CAPS1 @CAPS2 @CAPS3 More and more peopl...</td>\n",
              "      <td>1</td>\n",
              "      <td>7</td>\n",
              "    </tr>\n",
              "    <tr>\n",
              "      <th>3</th>\n",
              "      <td>Dear Local Newspaper, @CAPS1 I have found that...</td>\n",
              "      <td>1</td>\n",
              "      <td>10</td>\n",
              "    </tr>\n",
              "    <tr>\n",
              "      <th>4</th>\n",
              "      <td>Dear @LOCATION1, I know having computers has a...</td>\n",
              "      <td>1</td>\n",
              "      <td>8</td>\n",
              "    </tr>\n",
              "    <tr>\n",
              "      <th>...</th>\n",
              "      <td>...</td>\n",
              "      <td>...</td>\n",
              "      <td>...</td>\n",
              "    </tr>\n",
              "    <tr>\n",
              "      <th>12971</th>\n",
              "      <td>In most stories mothers and daughters are eit...</td>\n",
              "      <td>8</td>\n",
              "      <td>35</td>\n",
              "    </tr>\n",
              "    <tr>\n",
              "      <th>12972</th>\n",
              "      <td>I never understood the meaning laughter is th...</td>\n",
              "      <td>8</td>\n",
              "      <td>32</td>\n",
              "    </tr>\n",
              "    <tr>\n",
              "      <th>12973</th>\n",
              "      <td>When you laugh, is @CAPS5 out of habit, or is ...</td>\n",
              "      <td>8</td>\n",
              "      <td>40</td>\n",
              "    </tr>\n",
              "    <tr>\n",
              "      <th>12974</th>\n",
              "      <td>Trippin' on fen...</td>\n",
              "      <td>8</td>\n",
              "      <td>40</td>\n",
              "    </tr>\n",
              "    <tr>\n",
              "      <th>12975</th>\n",
              "      <td>Many people believe that laughter can improve...</td>\n",
              "      <td>8</td>\n",
              "      <td>40</td>\n",
              "    </tr>\n",
              "  </tbody>\n",
              "</table>\n",
              "<p>12976 rows × 3 columns</p>\n",
              "</div>\n",
              "    <div class=\"colab-df-buttons\">\n",
              "\n",
              "  <div class=\"colab-df-container\">\n",
              "    <button class=\"colab-df-convert\" onclick=\"convertToInteractive('df-1ade7457-5894-440c-9413-db1fb0f9bc61')\"\n",
              "            title=\"Convert this dataframe to an interactive table.\"\n",
              "            style=\"display:none;\">\n",
              "\n",
              "  <svg xmlns=\"http://www.w3.org/2000/svg\" height=\"24px\" viewBox=\"0 -960 960 960\">\n",
              "    <path d=\"M120-120v-720h720v720H120Zm60-500h600v-160H180v160Zm220 220h160v-160H400v160Zm0 220h160v-160H400v160ZM180-400h160v-160H180v160Zm440 0h160v-160H620v160ZM180-180h160v-160H180v160Zm440 0h160v-160H620v160Z\"/>\n",
              "  </svg>\n",
              "    </button>\n",
              "\n",
              "  <style>\n",
              "    .colab-df-container {\n",
              "      display:flex;\n",
              "      gap: 12px;\n",
              "    }\n",
              "\n",
              "    .colab-df-convert {\n",
              "      background-color: #E8F0FE;\n",
              "      border: none;\n",
              "      border-radius: 50%;\n",
              "      cursor: pointer;\n",
              "      display: none;\n",
              "      fill: #1967D2;\n",
              "      height: 32px;\n",
              "      padding: 0 0 0 0;\n",
              "      width: 32px;\n",
              "    }\n",
              "\n",
              "    .colab-df-convert:hover {\n",
              "      background-color: #E2EBFA;\n",
              "      box-shadow: 0px 1px 2px rgba(60, 64, 67, 0.3), 0px 1px 3px 1px rgba(60, 64, 67, 0.15);\n",
              "      fill: #174EA6;\n",
              "    }\n",
              "\n",
              "    .colab-df-buttons div {\n",
              "      margin-bottom: 4px;\n",
              "    }\n",
              "\n",
              "    [theme=dark] .colab-df-convert {\n",
              "      background-color: #3B4455;\n",
              "      fill: #D2E3FC;\n",
              "    }\n",
              "\n",
              "    [theme=dark] .colab-df-convert:hover {\n",
              "      background-color: #434B5C;\n",
              "      box-shadow: 0px 1px 3px 1px rgba(0, 0, 0, 0.15);\n",
              "      filter: drop-shadow(0px 1px 2px rgba(0, 0, 0, 0.3));\n",
              "      fill: #FFFFFF;\n",
              "    }\n",
              "  </style>\n",
              "\n",
              "    <script>\n",
              "      const buttonEl =\n",
              "        document.querySelector('#df-1ade7457-5894-440c-9413-db1fb0f9bc61 button.colab-df-convert');\n",
              "      buttonEl.style.display =\n",
              "        google.colab.kernel.accessAllowed ? 'block' : 'none';\n",
              "\n",
              "      async function convertToInteractive(key) {\n",
              "        const element = document.querySelector('#df-1ade7457-5894-440c-9413-db1fb0f9bc61');\n",
              "        const dataTable =\n",
              "          await google.colab.kernel.invokeFunction('convertToInteractive',\n",
              "                                                    [key], {});\n",
              "        if (!dataTable) return;\n",
              "\n",
              "        const docLinkHtml = 'Like what you see? Visit the ' +\n",
              "          '<a target=\"_blank\" href=https://colab.research.google.com/notebooks/data_table.ipynb>data table notebook</a>'\n",
              "          + ' to learn more about interactive tables.';\n",
              "        element.innerHTML = '';\n",
              "        dataTable['output_type'] = 'display_data';\n",
              "        await google.colab.output.renderOutput(dataTable, element);\n",
              "        const docLink = document.createElement('div');\n",
              "        docLink.innerHTML = docLinkHtml;\n",
              "        element.appendChild(docLink);\n",
              "      }\n",
              "    </script>\n",
              "  </div>\n",
              "\n",
              "\n",
              "<div id=\"df-6757b505-914f-40a2-a140-c4e6f3fc3bfc\">\n",
              "  <button class=\"colab-df-quickchart\" onclick=\"quickchart('df-6757b505-914f-40a2-a140-c4e6f3fc3bfc')\"\n",
              "            title=\"Suggest charts\"\n",
              "            style=\"display:none;\">\n",
              "\n",
              "<svg xmlns=\"http://www.w3.org/2000/svg\" height=\"24px\"viewBox=\"0 0 24 24\"\n",
              "     width=\"24px\">\n",
              "    <g>\n",
              "        <path d=\"M19 3H5c-1.1 0-2 .9-2 2v14c0 1.1.9 2 2 2h14c1.1 0 2-.9 2-2V5c0-1.1-.9-2-2-2zM9 17H7v-7h2v7zm4 0h-2V7h2v10zm4 0h-2v-4h2v4z\"/>\n",
              "    </g>\n",
              "</svg>\n",
              "  </button>\n",
              "\n",
              "<style>\n",
              "  .colab-df-quickchart {\n",
              "      --bg-color: #E8F0FE;\n",
              "      --fill-color: #1967D2;\n",
              "      --hover-bg-color: #E2EBFA;\n",
              "      --hover-fill-color: #174EA6;\n",
              "      --disabled-fill-color: #AAA;\n",
              "      --disabled-bg-color: #DDD;\n",
              "  }\n",
              "\n",
              "  [theme=dark] .colab-df-quickchart {\n",
              "      --bg-color: #3B4455;\n",
              "      --fill-color: #D2E3FC;\n",
              "      --hover-bg-color: #434B5C;\n",
              "      --hover-fill-color: #FFFFFF;\n",
              "      --disabled-bg-color: #3B4455;\n",
              "      --disabled-fill-color: #666;\n",
              "  }\n",
              "\n",
              "  .colab-df-quickchart {\n",
              "    background-color: var(--bg-color);\n",
              "    border: none;\n",
              "    border-radius: 50%;\n",
              "    cursor: pointer;\n",
              "    display: none;\n",
              "    fill: var(--fill-color);\n",
              "    height: 32px;\n",
              "    padding: 0;\n",
              "    width: 32px;\n",
              "  }\n",
              "\n",
              "  .colab-df-quickchart:hover {\n",
              "    background-color: var(--hover-bg-color);\n",
              "    box-shadow: 0 1px 2px rgba(60, 64, 67, 0.3), 0 1px 3px 1px rgba(60, 64, 67, 0.15);\n",
              "    fill: var(--button-hover-fill-color);\n",
              "  }\n",
              "\n",
              "  .colab-df-quickchart-complete:disabled,\n",
              "  .colab-df-quickchart-complete:disabled:hover {\n",
              "    background-color: var(--disabled-bg-color);\n",
              "    fill: var(--disabled-fill-color);\n",
              "    box-shadow: none;\n",
              "  }\n",
              "\n",
              "  .colab-df-spinner {\n",
              "    border: 2px solid var(--fill-color);\n",
              "    border-color: transparent;\n",
              "    border-bottom-color: var(--fill-color);\n",
              "    animation:\n",
              "      spin 1s steps(1) infinite;\n",
              "  }\n",
              "\n",
              "  @keyframes spin {\n",
              "    0% {\n",
              "      border-color: transparent;\n",
              "      border-bottom-color: var(--fill-color);\n",
              "      border-left-color: var(--fill-color);\n",
              "    }\n",
              "    20% {\n",
              "      border-color: transparent;\n",
              "      border-left-color: var(--fill-color);\n",
              "      border-top-color: var(--fill-color);\n",
              "    }\n",
              "    30% {\n",
              "      border-color: transparent;\n",
              "      border-left-color: var(--fill-color);\n",
              "      border-top-color: var(--fill-color);\n",
              "      border-right-color: var(--fill-color);\n",
              "    }\n",
              "    40% {\n",
              "      border-color: transparent;\n",
              "      border-right-color: var(--fill-color);\n",
              "      border-top-color: var(--fill-color);\n",
              "    }\n",
              "    60% {\n",
              "      border-color: transparent;\n",
              "      border-right-color: var(--fill-color);\n",
              "    }\n",
              "    80% {\n",
              "      border-color: transparent;\n",
              "      border-right-color: var(--fill-color);\n",
              "      border-bottom-color: var(--fill-color);\n",
              "    }\n",
              "    90% {\n",
              "      border-color: transparent;\n",
              "      border-bottom-color: var(--fill-color);\n",
              "    }\n",
              "  }\n",
              "</style>\n",
              "\n",
              "  <script>\n",
              "    async function quickchart(key) {\n",
              "      const quickchartButtonEl =\n",
              "        document.querySelector('#' + key + ' button');\n",
              "      quickchartButtonEl.disabled = true;  // To prevent multiple clicks.\n",
              "      quickchartButtonEl.classList.add('colab-df-spinner');\n",
              "      try {\n",
              "        const charts = await google.colab.kernel.invokeFunction(\n",
              "            'suggestCharts', [key], {});\n",
              "      } catch (error) {\n",
              "        console.error('Error during call to suggestCharts:', error);\n",
              "      }\n",
              "      quickchartButtonEl.classList.remove('colab-df-spinner');\n",
              "      quickchartButtonEl.classList.add('colab-df-quickchart-complete');\n",
              "    }\n",
              "    (() => {\n",
              "      let quickchartButtonEl =\n",
              "        document.querySelector('#df-6757b505-914f-40a2-a140-c4e6f3fc3bfc button');\n",
              "      quickchartButtonEl.style.display =\n",
              "        google.colab.kernel.accessAllowed ? 'block' : 'none';\n",
              "    })();\n",
              "  </script>\n",
              "</div>\n",
              "\n",
              "  <div id=\"id_75198173-bad6-4516-926e-75e8e3866a0d\">\n",
              "    <style>\n",
              "      .colab-df-generate {\n",
              "        background-color: #E8F0FE;\n",
              "        border: none;\n",
              "        border-radius: 50%;\n",
              "        cursor: pointer;\n",
              "        display: none;\n",
              "        fill: #1967D2;\n",
              "        height: 32px;\n",
              "        padding: 0 0 0 0;\n",
              "        width: 32px;\n",
              "      }\n",
              "\n",
              "      .colab-df-generate:hover {\n",
              "        background-color: #E2EBFA;\n",
              "        box-shadow: 0px 1px 2px rgba(60, 64, 67, 0.3), 0px 1px 3px 1px rgba(60, 64, 67, 0.15);\n",
              "        fill: #174EA6;\n",
              "      }\n",
              "\n",
              "      [theme=dark] .colab-df-generate {\n",
              "        background-color: #3B4455;\n",
              "        fill: #D2E3FC;\n",
              "      }\n",
              "\n",
              "      [theme=dark] .colab-df-generate:hover {\n",
              "        background-color: #434B5C;\n",
              "        box-shadow: 0px 1px 3px 1px rgba(0, 0, 0, 0.15);\n",
              "        filter: drop-shadow(0px 1px 2px rgba(0, 0, 0, 0.3));\n",
              "        fill: #FFFFFF;\n",
              "      }\n",
              "    </style>\n",
              "    <button class=\"colab-df-generate\" onclick=\"generateWithVariable('df')\"\n",
              "            title=\"Generate code using this dataframe.\"\n",
              "            style=\"display:none;\">\n",
              "\n",
              "  <svg xmlns=\"http://www.w3.org/2000/svg\" height=\"24px\"viewBox=\"0 0 24 24\"\n",
              "       width=\"24px\">\n",
              "    <path d=\"M7,19H8.4L18.45,9,17,7.55,7,17.6ZM5,21V16.75L18.45,3.32a2,2,0,0,1,2.83,0l1.4,1.43a1.91,1.91,0,0,1,.58,1.4,1.91,1.91,0,0,1-.58,1.4L9.25,21ZM18.45,9,17,7.55Zm-12,3A5.31,5.31,0,0,0,4.9,8.1,5.31,5.31,0,0,0,1,6.5,5.31,5.31,0,0,0,4.9,4.9,5.31,5.31,0,0,0,6.5,1,5.31,5.31,0,0,0,8.1,4.9,5.31,5.31,0,0,0,12,6.5,5.46,5.46,0,0,0,6.5,12Z\"/>\n",
              "  </svg>\n",
              "    </button>\n",
              "    <script>\n",
              "      (() => {\n",
              "      const buttonEl =\n",
              "        document.querySelector('#id_75198173-bad6-4516-926e-75e8e3866a0d button.colab-df-generate');\n",
              "      buttonEl.style.display =\n",
              "        google.colab.kernel.accessAllowed ? 'block' : 'none';\n",
              "\n",
              "      buttonEl.onclick = () => {\n",
              "        google.colab.notebook.generateWithVariable('df');\n",
              "      }\n",
              "      })();\n",
              "    </script>\n",
              "  </div>\n",
              "\n",
              "    </div>\n",
              "  </div>\n"
            ],
            "application/vnd.google.colaboratory.intrinsic+json": {
              "type": "dataframe",
              "variable_name": "df",
              "summary": "{\n  \"name\": \"df\",\n  \"rows\": 12976,\n  \"fields\": [\n    {\n      \"column\": \"essay\",\n      \"properties\": {\n        \"dtype\": \"string\",\n        \"num_unique_values\": 12972,\n        \"samples\": [\n          \"The features of the setting affect the cyclist in many ways. He is riding his bike along the road and encounters a dilema.\\u0094\\u0085 @CAPS1 weeds crossed my path and a ridiculously large snake. Blocked the\\u0085 pavement in front of me.\\u0094 He had to stop and into by the snake which showed him down and freaked him out. He had problems with thirst already and had to deal with a snake that \\u0093really did look like a diamondback.\\u0094 @CAPS2, he sees a building up ahead and discovers that it\\u0092s a walrus Grape Juice factory. He thought that is might have some water but realized it was abandoned. Relating to his thirst, before he left he grabbed some pebbles.\\u0094 I\\u0092d read once that sucking on stones helps takes your mind off thirst by allowing what spit you have left to circulate.\\u0094 * @CAPS3 he came across a fishing camp and received instructions on how to go on. This affected him because he @CAPS3 got to a secure place and got proper directions and will learn from his mistake of listening to the older men at the beginning. The features of \",\n          \"The author concludes the story with this paragraph because the cold was brufield or the  author never  wanted to be around while the cold was in sesion. At the  time it was realy cold\",\n          \"Computers, a very much talked about subject. Did you know that @PERCENT1 of homes in @LOCATION1 own at least one computer. And that goes for about @PERCENT2 in @LOCATION2. Some people don't like that this is true, but on the other hand some people do. I have a computer, it can do so much, for example it can help me with writing, I can play games on it and socialize with social networking sites and \\\"I.M.'s\\\", it can even help me order a product form a website like @ORGANIZATION1, @LOCATION3, or @LOCATION4. Like I said, I have a computer and I can use it to help me write. At school in english, I would use my computer to help me with a writing prompt. I also use it to write conclusions for science labs. There are a lot of other kids that do this as well, it really is very helpful. That is only one of the reasons I think computers are beneficial to society. Another reason I think computers are beneficial to society is because you can play games on them, like \\\"world of warcraft\\\", \\\"@CAPS1 @CAPS2 @NUM1\\\", or classics like \\\"@CAPS3 @CAPS4 @CAPS5\\\". There are millions of people that play games on the computer. Also you can socialize with social networking sites, like @CAPS6 and twitter, and also because you can \\\"I.M.\\\" your friends. I.M. stands for @CAPS7 messaging, and it is kind of like email except it is just about instantaneous, and so you and friend can have a conversation over the computer. Also there is video chatting, where it is kind of like a phone except you can see the person you're talking to and it is over the computer, so it is almost like you and the person you are videochatting with are meeting face to face, but your not. A third reason I feel that computers are beneficial to society is because you can order a product over the internet form shop websites. For example, I got my @CAPS8 from @LOCATION3, and also the bulb for a @CAPS9 in my house is wearing out, so my dad is going to buy a @LOCATION1 bulb on @ORGANIZATION1. It is things like this that make life that much easier for the @CAPS10 @PERSON1, because this way these people don't have to drive to the store to buy something, that is, if they can wait a week or two for the product to arrive. These are the kinds of things that make me feel that computers are beneficial to society. I know they might not be the best reasons, but they are quite important to me. Being able to type essays, play games and socialize, and order products form websites is just amazing. These are some of the reasons that I and others love computers. But I have a question for you, why do you like or dislike computers?\"\n        ],\n        \"semantic_type\": \"\",\n        \"description\": \"\"\n      }\n    },\n    {\n      \"column\": \"essay_set\",\n      \"properties\": {\n        \"dtype\": \"number\",\n        \"std\": 2,\n        \"min\": 1,\n        \"max\": 8,\n        \"num_unique_values\": 8,\n        \"samples\": [\n          2,\n          6,\n          1\n        ],\n        \"semantic_type\": \"\",\n        \"description\": \"\"\n      }\n    },\n    {\n      \"column\": \"score\",\n      \"properties\": {\n        \"dtype\": \"number\",\n        \"std\": 8,\n        \"min\": 0,\n        \"max\": 60,\n        \"num_unique_values\": 53,\n        \"samples\": [\n          19,\n          32,\n          28\n        ],\n        \"semantic_type\": \"\",\n        \"description\": \"\"\n      }\n    }\n  ]\n}"
            }
          },
          "metadata": {},
          "execution_count": 2
        }
      ],
      "source": [
        "import pandas as pd\n",
        "\n",
        "# Load the data\n",
        "df = pd.read_csv('training_set_rel.tsv', sep='\\t', encoding='latin')\n",
        "\n",
        "# Select the relevant columns\n",
        "df = df[['essay', 'essay_set', 'domain1_score']]\n",
        "\n",
        "# Rename the 'domain1_score' column to 'score'\n",
        "df = df.rename(columns={'domain1_score': 'score'})\n",
        "\n",
        "# Display the DataFrame\n",
        "df"
      ],
      "id": "yOub3RUvQqvR"
    },
    {
      "cell_type": "markdown",
      "metadata": {
        "id": "5WPJfZVgQqvR"
      },
      "source": [
        "### Q2: Select the data from a single essay set\n",
        "\n",
        "There are 8 totally unrelated essay sets in this data.\n",
        "\n",
        "Filter the data frame so we are only considering essay_set = 7"
      ],
      "id": "5WPJfZVgQqvR"
    },
    {
      "cell_type": "markdown",
      "metadata": {
        "id": "WIld5fFTQqvR"
      },
      "source": [
        "## Graded Cell\n",
        "\n",
        "This cell is worth 5% of the grade for this assignment."
      ],
      "id": "WIld5fFTQqvR"
    },
    {
      "cell_type": "code",
      "execution_count": 3,
      "metadata": {
        "colab": {
          "base_uri": "https://localhost:8080/",
          "height": 424
        },
        "id": "-Fnxlf78QqvS",
        "outputId": "1eb975ab-8c40-4316-9779-561a4b53a95d"
      },
      "outputs": [
        {
          "output_type": "execute_result",
          "data": {
            "text/plain": [
              "                                                   essay  essay_set  score\n",
              "10684  Patience is when your waiting .I was patience ...          7     15\n",
              "10685  I am not a patience person, like I cant sit i...          7     13\n",
              "10686  One day I was at basketball practice and I was...          7     15\n",
              "10687  I going to write about a time when I went to t...          7     17\n",
              "10688  It can be very hard for somebody to be patient...          7     13\n",
              "...                                                  ...        ...    ...\n",
              "12248  One time I was getting a cool @CAPS1 game it w...          7     12\n",
              "12249  A patent person in my life is my mom. Aicason ...          7     16\n",
              "12250  A time when someone else I know was patient wa...          7     19\n",
              "12251  I hate weddings. I love when people get marrie...          7     22\n",
              "12252  A few weeks ago, we had a garage sale and a mo...          7     15\n",
              "\n",
              "[1569 rows x 3 columns]"
            ],
            "text/html": [
              "\n",
              "  <div id=\"df-21c2a5ef-0bf1-4081-b1a9-88f139e8a77b\" class=\"colab-df-container\">\n",
              "    <div>\n",
              "<style scoped>\n",
              "    .dataframe tbody tr th:only-of-type {\n",
              "        vertical-align: middle;\n",
              "    }\n",
              "\n",
              "    .dataframe tbody tr th {\n",
              "        vertical-align: top;\n",
              "    }\n",
              "\n",
              "    .dataframe thead th {\n",
              "        text-align: right;\n",
              "    }\n",
              "</style>\n",
              "<table border=\"1\" class=\"dataframe\">\n",
              "  <thead>\n",
              "    <tr style=\"text-align: right;\">\n",
              "      <th></th>\n",
              "      <th>essay</th>\n",
              "      <th>essay_set</th>\n",
              "      <th>score</th>\n",
              "    </tr>\n",
              "  </thead>\n",
              "  <tbody>\n",
              "    <tr>\n",
              "      <th>10684</th>\n",
              "      <td>Patience is when your waiting .I was patience ...</td>\n",
              "      <td>7</td>\n",
              "      <td>15</td>\n",
              "    </tr>\n",
              "    <tr>\n",
              "      <th>10685</th>\n",
              "      <td>I am not a patience person, like I cant sit i...</td>\n",
              "      <td>7</td>\n",
              "      <td>13</td>\n",
              "    </tr>\n",
              "    <tr>\n",
              "      <th>10686</th>\n",
              "      <td>One day I was at basketball practice and I was...</td>\n",
              "      <td>7</td>\n",
              "      <td>15</td>\n",
              "    </tr>\n",
              "    <tr>\n",
              "      <th>10687</th>\n",
              "      <td>I going to write about a time when I went to t...</td>\n",
              "      <td>7</td>\n",
              "      <td>17</td>\n",
              "    </tr>\n",
              "    <tr>\n",
              "      <th>10688</th>\n",
              "      <td>It can be very hard for somebody to be patient...</td>\n",
              "      <td>7</td>\n",
              "      <td>13</td>\n",
              "    </tr>\n",
              "    <tr>\n",
              "      <th>...</th>\n",
              "      <td>...</td>\n",
              "      <td>...</td>\n",
              "      <td>...</td>\n",
              "    </tr>\n",
              "    <tr>\n",
              "      <th>12248</th>\n",
              "      <td>One time I was getting a cool @CAPS1 game it w...</td>\n",
              "      <td>7</td>\n",
              "      <td>12</td>\n",
              "    </tr>\n",
              "    <tr>\n",
              "      <th>12249</th>\n",
              "      <td>A patent person in my life is my mom. Aicason ...</td>\n",
              "      <td>7</td>\n",
              "      <td>16</td>\n",
              "    </tr>\n",
              "    <tr>\n",
              "      <th>12250</th>\n",
              "      <td>A time when someone else I know was patient wa...</td>\n",
              "      <td>7</td>\n",
              "      <td>19</td>\n",
              "    </tr>\n",
              "    <tr>\n",
              "      <th>12251</th>\n",
              "      <td>I hate weddings. I love when people get marrie...</td>\n",
              "      <td>7</td>\n",
              "      <td>22</td>\n",
              "    </tr>\n",
              "    <tr>\n",
              "      <th>12252</th>\n",
              "      <td>A few weeks ago, we had a garage sale and a mo...</td>\n",
              "      <td>7</td>\n",
              "      <td>15</td>\n",
              "    </tr>\n",
              "  </tbody>\n",
              "</table>\n",
              "<p>1569 rows × 3 columns</p>\n",
              "</div>\n",
              "    <div class=\"colab-df-buttons\">\n",
              "\n",
              "  <div class=\"colab-df-container\">\n",
              "    <button class=\"colab-df-convert\" onclick=\"convertToInteractive('df-21c2a5ef-0bf1-4081-b1a9-88f139e8a77b')\"\n",
              "            title=\"Convert this dataframe to an interactive table.\"\n",
              "            style=\"display:none;\">\n",
              "\n",
              "  <svg xmlns=\"http://www.w3.org/2000/svg\" height=\"24px\" viewBox=\"0 -960 960 960\">\n",
              "    <path d=\"M120-120v-720h720v720H120Zm60-500h600v-160H180v160Zm220 220h160v-160H400v160Zm0 220h160v-160H400v160ZM180-400h160v-160H180v160Zm440 0h160v-160H620v160ZM180-180h160v-160H180v160Zm440 0h160v-160H620v160Z\"/>\n",
              "  </svg>\n",
              "    </button>\n",
              "\n",
              "  <style>\n",
              "    .colab-df-container {\n",
              "      display:flex;\n",
              "      gap: 12px;\n",
              "    }\n",
              "\n",
              "    .colab-df-convert {\n",
              "      background-color: #E8F0FE;\n",
              "      border: none;\n",
              "      border-radius: 50%;\n",
              "      cursor: pointer;\n",
              "      display: none;\n",
              "      fill: #1967D2;\n",
              "      height: 32px;\n",
              "      padding: 0 0 0 0;\n",
              "      width: 32px;\n",
              "    }\n",
              "\n",
              "    .colab-df-convert:hover {\n",
              "      background-color: #E2EBFA;\n",
              "      box-shadow: 0px 1px 2px rgba(60, 64, 67, 0.3), 0px 1px 3px 1px rgba(60, 64, 67, 0.15);\n",
              "      fill: #174EA6;\n",
              "    }\n",
              "\n",
              "    .colab-df-buttons div {\n",
              "      margin-bottom: 4px;\n",
              "    }\n",
              "\n",
              "    [theme=dark] .colab-df-convert {\n",
              "      background-color: #3B4455;\n",
              "      fill: #D2E3FC;\n",
              "    }\n",
              "\n",
              "    [theme=dark] .colab-df-convert:hover {\n",
              "      background-color: #434B5C;\n",
              "      box-shadow: 0px 1px 3px 1px rgba(0, 0, 0, 0.15);\n",
              "      filter: drop-shadow(0px 1px 2px rgba(0, 0, 0, 0.3));\n",
              "      fill: #FFFFFF;\n",
              "    }\n",
              "  </style>\n",
              "\n",
              "    <script>\n",
              "      const buttonEl =\n",
              "        document.querySelector('#df-21c2a5ef-0bf1-4081-b1a9-88f139e8a77b button.colab-df-convert');\n",
              "      buttonEl.style.display =\n",
              "        google.colab.kernel.accessAllowed ? 'block' : 'none';\n",
              "\n",
              "      async function convertToInteractive(key) {\n",
              "        const element = document.querySelector('#df-21c2a5ef-0bf1-4081-b1a9-88f139e8a77b');\n",
              "        const dataTable =\n",
              "          await google.colab.kernel.invokeFunction('convertToInteractive',\n",
              "                                                    [key], {});\n",
              "        if (!dataTable) return;\n",
              "\n",
              "        const docLinkHtml = 'Like what you see? Visit the ' +\n",
              "          '<a target=\"_blank\" href=https://colab.research.google.com/notebooks/data_table.ipynb>data table notebook</a>'\n",
              "          + ' to learn more about interactive tables.';\n",
              "        element.innerHTML = '';\n",
              "        dataTable['output_type'] = 'display_data';\n",
              "        await google.colab.output.renderOutput(dataTable, element);\n",
              "        const docLink = document.createElement('div');\n",
              "        docLink.innerHTML = docLinkHtml;\n",
              "        element.appendChild(docLink);\n",
              "      }\n",
              "    </script>\n",
              "  </div>\n",
              "\n",
              "\n",
              "<div id=\"df-18ee84ce-4934-46d9-9e06-bee631ef734f\">\n",
              "  <button class=\"colab-df-quickchart\" onclick=\"quickchart('df-18ee84ce-4934-46d9-9e06-bee631ef734f')\"\n",
              "            title=\"Suggest charts\"\n",
              "            style=\"display:none;\">\n",
              "\n",
              "<svg xmlns=\"http://www.w3.org/2000/svg\" height=\"24px\"viewBox=\"0 0 24 24\"\n",
              "     width=\"24px\">\n",
              "    <g>\n",
              "        <path d=\"M19 3H5c-1.1 0-2 .9-2 2v14c0 1.1.9 2 2 2h14c1.1 0 2-.9 2-2V5c0-1.1-.9-2-2-2zM9 17H7v-7h2v7zm4 0h-2V7h2v10zm4 0h-2v-4h2v4z\"/>\n",
              "    </g>\n",
              "</svg>\n",
              "  </button>\n",
              "\n",
              "<style>\n",
              "  .colab-df-quickchart {\n",
              "      --bg-color: #E8F0FE;\n",
              "      --fill-color: #1967D2;\n",
              "      --hover-bg-color: #E2EBFA;\n",
              "      --hover-fill-color: #174EA6;\n",
              "      --disabled-fill-color: #AAA;\n",
              "      --disabled-bg-color: #DDD;\n",
              "  }\n",
              "\n",
              "  [theme=dark] .colab-df-quickchart {\n",
              "      --bg-color: #3B4455;\n",
              "      --fill-color: #D2E3FC;\n",
              "      --hover-bg-color: #434B5C;\n",
              "      --hover-fill-color: #FFFFFF;\n",
              "      --disabled-bg-color: #3B4455;\n",
              "      --disabled-fill-color: #666;\n",
              "  }\n",
              "\n",
              "  .colab-df-quickchart {\n",
              "    background-color: var(--bg-color);\n",
              "    border: none;\n",
              "    border-radius: 50%;\n",
              "    cursor: pointer;\n",
              "    display: none;\n",
              "    fill: var(--fill-color);\n",
              "    height: 32px;\n",
              "    padding: 0;\n",
              "    width: 32px;\n",
              "  }\n",
              "\n",
              "  .colab-df-quickchart:hover {\n",
              "    background-color: var(--hover-bg-color);\n",
              "    box-shadow: 0 1px 2px rgba(60, 64, 67, 0.3), 0 1px 3px 1px rgba(60, 64, 67, 0.15);\n",
              "    fill: var(--button-hover-fill-color);\n",
              "  }\n",
              "\n",
              "  .colab-df-quickchart-complete:disabled,\n",
              "  .colab-df-quickchart-complete:disabled:hover {\n",
              "    background-color: var(--disabled-bg-color);\n",
              "    fill: var(--disabled-fill-color);\n",
              "    box-shadow: none;\n",
              "  }\n",
              "\n",
              "  .colab-df-spinner {\n",
              "    border: 2px solid var(--fill-color);\n",
              "    border-color: transparent;\n",
              "    border-bottom-color: var(--fill-color);\n",
              "    animation:\n",
              "      spin 1s steps(1) infinite;\n",
              "  }\n",
              "\n",
              "  @keyframes spin {\n",
              "    0% {\n",
              "      border-color: transparent;\n",
              "      border-bottom-color: var(--fill-color);\n",
              "      border-left-color: var(--fill-color);\n",
              "    }\n",
              "    20% {\n",
              "      border-color: transparent;\n",
              "      border-left-color: var(--fill-color);\n",
              "      border-top-color: var(--fill-color);\n",
              "    }\n",
              "    30% {\n",
              "      border-color: transparent;\n",
              "      border-left-color: var(--fill-color);\n",
              "      border-top-color: var(--fill-color);\n",
              "      border-right-color: var(--fill-color);\n",
              "    }\n",
              "    40% {\n",
              "      border-color: transparent;\n",
              "      border-right-color: var(--fill-color);\n",
              "      border-top-color: var(--fill-color);\n",
              "    }\n",
              "    60% {\n",
              "      border-color: transparent;\n",
              "      border-right-color: var(--fill-color);\n",
              "    }\n",
              "    80% {\n",
              "      border-color: transparent;\n",
              "      border-right-color: var(--fill-color);\n",
              "      border-bottom-color: var(--fill-color);\n",
              "    }\n",
              "    90% {\n",
              "      border-color: transparent;\n",
              "      border-bottom-color: var(--fill-color);\n",
              "    }\n",
              "  }\n",
              "</style>\n",
              "\n",
              "  <script>\n",
              "    async function quickchart(key) {\n",
              "      const quickchartButtonEl =\n",
              "        document.querySelector('#' + key + ' button');\n",
              "      quickchartButtonEl.disabled = true;  // To prevent multiple clicks.\n",
              "      quickchartButtonEl.classList.add('colab-df-spinner');\n",
              "      try {\n",
              "        const charts = await google.colab.kernel.invokeFunction(\n",
              "            'suggestCharts', [key], {});\n",
              "      } catch (error) {\n",
              "        console.error('Error during call to suggestCharts:', error);\n",
              "      }\n",
              "      quickchartButtonEl.classList.remove('colab-df-spinner');\n",
              "      quickchartButtonEl.classList.add('colab-df-quickchart-complete');\n",
              "    }\n",
              "    (() => {\n",
              "      let quickchartButtonEl =\n",
              "        document.querySelector('#df-18ee84ce-4934-46d9-9e06-bee631ef734f button');\n",
              "      quickchartButtonEl.style.display =\n",
              "        google.colab.kernel.accessAllowed ? 'block' : 'none';\n",
              "    })();\n",
              "  </script>\n",
              "</div>\n",
              "\n",
              "  <div id=\"id_2f587959-c530-4267-bd54-bbf20a7d3f82\">\n",
              "    <style>\n",
              "      .colab-df-generate {\n",
              "        background-color: #E8F0FE;\n",
              "        border: none;\n",
              "        border-radius: 50%;\n",
              "        cursor: pointer;\n",
              "        display: none;\n",
              "        fill: #1967D2;\n",
              "        height: 32px;\n",
              "        padding: 0 0 0 0;\n",
              "        width: 32px;\n",
              "      }\n",
              "\n",
              "      .colab-df-generate:hover {\n",
              "        background-color: #E2EBFA;\n",
              "        box-shadow: 0px 1px 2px rgba(60, 64, 67, 0.3), 0px 1px 3px 1px rgba(60, 64, 67, 0.15);\n",
              "        fill: #174EA6;\n",
              "      }\n",
              "\n",
              "      [theme=dark] .colab-df-generate {\n",
              "        background-color: #3B4455;\n",
              "        fill: #D2E3FC;\n",
              "      }\n",
              "\n",
              "      [theme=dark] .colab-df-generate:hover {\n",
              "        background-color: #434B5C;\n",
              "        box-shadow: 0px 1px 3px 1px rgba(0, 0, 0, 0.15);\n",
              "        filter: drop-shadow(0px 1px 2px rgba(0, 0, 0, 0.3));\n",
              "        fill: #FFFFFF;\n",
              "      }\n",
              "    </style>\n",
              "    <button class=\"colab-df-generate\" onclick=\"generateWithVariable('df_essay_set_7')\"\n",
              "            title=\"Generate code using this dataframe.\"\n",
              "            style=\"display:none;\">\n",
              "\n",
              "  <svg xmlns=\"http://www.w3.org/2000/svg\" height=\"24px\"viewBox=\"0 0 24 24\"\n",
              "       width=\"24px\">\n",
              "    <path d=\"M7,19H8.4L18.45,9,17,7.55,7,17.6ZM5,21V16.75L18.45,3.32a2,2,0,0,1,2.83,0l1.4,1.43a1.91,1.91,0,0,1,.58,1.4,1.91,1.91,0,0,1-.58,1.4L9.25,21ZM18.45,9,17,7.55Zm-12,3A5.31,5.31,0,0,0,4.9,8.1,5.31,5.31,0,0,0,1,6.5,5.31,5.31,0,0,0,4.9,4.9,5.31,5.31,0,0,0,6.5,1,5.31,5.31,0,0,0,8.1,4.9,5.31,5.31,0,0,0,12,6.5,5.46,5.46,0,0,0,6.5,12Z\"/>\n",
              "  </svg>\n",
              "    </button>\n",
              "    <script>\n",
              "      (() => {\n",
              "      const buttonEl =\n",
              "        document.querySelector('#id_2f587959-c530-4267-bd54-bbf20a7d3f82 button.colab-df-generate');\n",
              "      buttonEl.style.display =\n",
              "        google.colab.kernel.accessAllowed ? 'block' : 'none';\n",
              "\n",
              "      buttonEl.onclick = () => {\n",
              "        google.colab.notebook.generateWithVariable('df_essay_set_7');\n",
              "      }\n",
              "      })();\n",
              "    </script>\n",
              "  </div>\n",
              "\n",
              "    </div>\n",
              "  </div>\n"
            ],
            "application/vnd.google.colaboratory.intrinsic+json": {
              "type": "dataframe",
              "variable_name": "df_essay_set_7",
              "summary": "{\n  \"name\": \"df_essay_set_7\",\n  \"rows\": 1569,\n  \"fields\": [\n    {\n      \"column\": \"essay\",\n      \"properties\": {\n        \"dtype\": \"string\",\n        \"num_unique_values\": 1569,\n        \"samples\": [\n          \"My at saying your patient is. Your patient when you wait in line for something is being patient. Waiting your turn is being patience one time I was patient by waiting on the bench to play but I didn`t get to play until the fourth queiter with @NUM1 to go but you know what I did had patience. A lot of people have patient but some people just don`t have manner when they just don`t care and start the yell and screaming. Like popstars a lot of singers popstar and other famous people think they can cut in front of any one cause their rich but it they wern`t rich they would cut pop stars and movie stars just need to have patient. Am not saying all popstars and movie stars don`t have patient when they were little they never act like that.\",\n          \"Once upon a time there was a young girl named @CAPS1 she lived with her dad and mom in a small town of @PERSON2. It was mom in a small town of @PERSON2. It was almost her birth and she was so exited for this birthday because she was turning twelve. Twelve was here luckey number ever sience she was little. Her mom said they could go into town and go to chef @PERSON1 and eat out she agreed so that morning she woke up and dad made her some pancakes with fresh strawberrys on them she went out to go milk there cows for her parents. @CAPS1 hated milking there cows because they are very stuburn so she went out there and miked the cows in only @NUM1 minetts. @CAPS1 went back inside and put the milk on the table. @CAPS1 was starting to wonder if she was going  to get a birthday present, @CAPS1 decided it would be best if she was patient when her mom came home from work (she works at a dress making store) she said, \\u0093Are you ready to go eat,\\u0094 @CAPS1 jumped \\u0093And yeld yes, yes. So they rode in to town and parked at the restaurant, they walked in and the lights are off her dad got the light switch and all of her cloose family and friends where there and they yelled \\u0093sprise\\u0094 @CAPS1 was is such a shock she yelled \\u0093@CAPS3 you, @CAPS3 you, @CAPS3 you, and on a table was twelve presents, and under the table was a dog. Her mom & dad got her a dog. She name the dog wonder because every time she saw him she began to wonder about her  wonderful life. And she learned that great thing come when you are patient.\",\n          \"Patience is hard. You always @CAPS1 it now not later. You must stay calm and be pieceful in patience that they almost forgot what they are whating for but I always @CAPS1 it now too. I can't stand not having something. If theres a test on @DATE1 .I will not be happy if the test changes to @DATE2. I just can't what that long and it gives my tension just knowing whats going to happen. If you have patience it's almost like a gift just like singing and dancing one a gift.\"\n        ],\n        \"semantic_type\": \"\",\n        \"description\": \"\"\n      }\n    },\n    {\n      \"column\": \"essay_set\",\n      \"properties\": {\n        \"dtype\": \"number\",\n        \"std\": 0,\n        \"min\": 7,\n        \"max\": 7,\n        \"num_unique_values\": 1,\n        \"samples\": [\n          7\n        ],\n        \"semantic_type\": \"\",\n        \"description\": \"\"\n      }\n    },\n    {\n      \"column\": \"score\",\n      \"properties\": {\n        \"dtype\": \"number\",\n        \"std\": 4,\n        \"min\": 2,\n        \"max\": 24,\n        \"num_unique_values\": 23,\n        \"samples\": [\n          20\n        ],\n        \"semantic_type\": \"\",\n        \"description\": \"\"\n      }\n    }\n  ]\n}"
            }
          },
          "metadata": {},
          "execution_count": 3
        }
      ],
      "source": [
        "# Filter the DataFrame for essay_set == 7\n",
        "df_essay_set_7 = df[df['essay_set'] == 7]\n",
        "\n",
        "# Display the filtered DataFrame\n",
        "df_essay_set_7"
      ],
      "id": "-Fnxlf78QqvS"
    },
    {
      "cell_type": "markdown",
      "metadata": {
        "id": "GltA4fH4QqvT"
      },
      "source": [
        "### Q3: Plot the distribution of scores\n",
        "\n",
        "Create a plot of a histogram of the scores in the training set.  Comment on what you see.\n",
        "\n",
        "One option is to use the seaborn histplot function.  If you use seaborn, you can use the parameter `bins` to set the bin locations if they look strange. The parameter accepts a list of explicit locations. If you want to center the bins on the tick marks, you cand do something like this:\n",
        "\n",
        "    bins=np.arange(minv,maxv)-0.5\n",
        "    \n",
        "where minv and maxv are the mininmum and maximum value in the range, respectively.   This expression indicates the number of possible scores, and that the tick marks should be at the halfway mark of each bar.\n",
        "\n",
        "You may use some other visualization library if you wish!   The goal is to inspect the distribution of scores.\n"
      ],
      "id": "GltA4fH4QqvT"
    },
    {
      "cell_type": "markdown",
      "metadata": {
        "id": "Gc31OoVBQqvT"
      },
      "source": [
        "## Graded Cell\n",
        "\n",
        "This cell is worth 10% of the grade for this assignment."
      ],
      "id": "Gc31OoVBQqvT"
    },
    {
      "cell_type": "code",
      "execution_count": 4,
      "metadata": {
        "colab": {
          "base_uri": "https://localhost:8080/",
          "height": 564
        },
        "id": "EQ3H234lQqvT",
        "outputId": "890b9e95-a1aa-49f2-c6f5-c991c9d19bd4"
      },
      "outputs": [
        {
          "output_type": "display_data",
          "data": {
            "text/plain": [
              "<Figure size 1000x600 with 1 Axes>"
            ],
            "image/png": "[encoded data removed]"
          },
          "metadata": {}
        }
      ],
      "source": [
        "import matplotlib.pyplot as plt\n",
        "import numpy as np\n",
        "import seaborn as sns\n",
        "\n",
        "# Assuming df_essay_set_7 is already defined from previous code\n",
        "\n",
        "# Calculate min and max score values\n",
        "minv = df_essay_set_7['score'].min()\n",
        "maxv = df_essay_set_7['score'].max()\n",
        "\n",
        "# Create the histogram using seaborn with centered bins\n",
        "plt.figure(figsize=(10, 6))  # Adjust figure size for better visibility\n",
        "sns.histplot(df_essay_set_7['score'], bins=np.arange(minv, maxv + 1) - 0.5, kde=False) # Added kde=False\n",
        "plt.xlabel('Score')\n",
        "plt.ylabel('Frequency')\n",
        "plt.title('Distribution of Scores (Essay Set 7)')\n",
        "plt.xticks(np.arange(minv, maxv + 1)) # Ensure x-axis ticks are integers\n",
        "plt.show()"
      ],
      "id": "EQ3H234lQqvT"
    },
    {
      "cell_type": "markdown",
      "metadata": {
        "id": "bIhj-4A9QqvV"
      },
      "source": [
        "### Q4: Create a test/train split\n",
        "\n",
        "Use the function [`train_test_split`](https://scikit-learn.org/stable/modules/generated/sklearn.model_selection.train_test_split.html).  Use the `test_size` parameter to control the size of the test set; use 0.2 to indicate a 20% split."
      ],
      "id": "bIhj-4A9QqvV"
    },
    {
      "cell_type": "markdown",
      "metadata": {
        "id": "U7u_6cDjQqvV"
      },
      "source": [
        "## Graded Cell\n",
        "\n",
        "This cell is worth 5% of the grade for this assignment."
      ],
      "id": "U7u_6cDjQqvV"
    },
    {
      "cell_type": "code",
      "execution_count": 5,
      "metadata": {
        "colab": {
          "base_uri": "https://localhost:8080/"
        },
        "id": "AyDX-3YaQqvV",
        "outputId": "9a94917b-5d28-4f6c-c819-066f61801f23"
      },
      "outputs": [
        {
          "output_type": "stream",
          "name": "stdout",
          "text": [
            "X_train shape: (1255, 2)\n",
            "X_test shape: (314, 2)\n",
            "y_train shape: (1255,)\n",
            "y_test shape: (314,)\n"
          ]
        }
      ],
      "source": [
        "from sklearn.model_selection import train_test_split\n",
        "\n",
        "# Separate features (X) and target variable (y)\n",
        "X = df_essay_set_7[['essay', 'essay_set']]\n",
        "y = df_essay_set_7['score']\n",
        "\n",
        "# Split the data into training and testing sets\n",
        "X_train, X_test, y_train, y_test = train_test_split(X, y, test_size=0.2, random_state=1234) # Added random_state for reproducibility\n",
        "\n",
        "# Print the shapes of the resulting datasets (optional)\n",
        "print(\"X_train shape:\", X_train.shape)\n",
        "print(\"X_test shape:\", X_test.shape)\n",
        "print(\"y_train shape:\", y_train.shape)\n",
        "print(\"y_test shape:\", y_test.shape)"
      ],
      "id": "AyDX-3YaQqvV"
    },
    {
      "cell_type": "markdown",
      "metadata": {
        "id": "3tTYRy2JQqvW"
      },
      "source": [
        "## Part 2: Conventional Representations"
      ],
      "id": "3tTYRy2JQqvW"
    },
    {
      "cell_type": "markdown",
      "metadata": {
        "id": "00ooqCYDQqvW"
      },
      "source": [
        "### Q5: Create vectors using term frequency\n",
        "\n",
        "Use the `CountVectorizer` class from sklearn to create a vector for each essay.  We can't use text directly with machine learning; we need to create a vector of numbers first.  The CountVectorizer creates a vector with one position for each word in the corpus with a value of the number of occurrences of that word in the essay.\n",
        "\n",
        "The vectorizer works like a model in sklearn: call the fit method on the essay data to \"train\" a model on the training set.  In this situation, we aren't really training anything, but we need a corpus to define the vectors -- only the words in the corpus we use will be represented in the vector.  \n",
        "\n",
        "The fit method returns the trained model.  Now we can use the `transform` method to convert any text into a vector.\n",
        "\n",
        "Call the transform method on the training essays and the test essays to create variables `xtrain` and `xtest`.\n",
        "\n",
        "\n",
        "Report the number of dimensions for each vector; i.e., the number of terms in the corpus.\n"
      ],
      "id": "00ooqCYDQqvW"
    },
    {
      "cell_type": "markdown",
      "metadata": {
        "id": "kmSbXml9QqvW"
      },
      "source": [
        "## Graded Cell\n",
        "\n",
        "This cell is worth 10% of the grade for this assignment."
      ],
      "id": "kmSbXml9QqvW"
    },
    {
      "cell_type": "code",
      "execution_count": 6,
      "metadata": {
        "colab": {
          "base_uri": "https://localhost:8080/"
        },
        "id": "lqKqza7-QqvW",
        "outputId": "ef3ff089-23e6-48db-cab3-4fa791b6277f"
      },
      "outputs": [
        {
          "output_type": "stream",
          "name": "stdout",
          "text": [
            "Number of dimensions (features): 8938\n"
          ]
        }
      ],
      "source": [
        "from sklearn.feature_extraction.text import CountVectorizer\n",
        "\n",
        "# Initialize CountVectorizer\n",
        "vectorizer = CountVectorizer()\n",
        "\n",
        "# Fit the vectorizer on the training essays\n",
        "vectorizer.fit(X_train['essay'])\n",
        "\n",
        "# Transform the training and test essays into vectors\n",
        "xtrain = vectorizer.transform(X_train['essay'])\n",
        "xtest = vectorizer.transform(X_test['essay'])\n",
        "\n",
        "# Get the number of features (dimensions)\n",
        "num_features = xtrain.shape[1]\n",
        "\n",
        "# Print the number of dimensions\n",
        "print(f\"Number of dimensions (features): {num_features}\")"
      ],
      "id": "lqKqza7-QqvW"
    },
    {
      "cell_type": "markdown",
      "metadata": {
        "id": "OtOurB03QqvW"
      },
      "source": [
        "### Q6: Train a regression model using your vectors\n",
        "\n",
        "Now that we have vectors, we can train a regression model to predict the essay score.\n",
        "\n",
        "Use a [`Ridge`](https://scikit-learn.org/stable/modules/generated/sklearn.linear_model.Ridge.html) model from sklearn `linear_model` module.\n",
        "\n",
        "Call the fit method on your training data xtrain and ytrain.\n",
        "\n",
        "Then call the score method on your test data xtest and ytest.  The score method provides a default evaluation metric.  For the Ridge model, the score method returns $R^2$ which is called the coefficient of determination.  It tells you the proportion of the variation in the essay score is predictable from the essay text: higher is better.\n",
        "\n",
        "Report the coefficient of determination."
      ],
      "id": "OtOurB03QqvW"
    },
    {
      "cell_type": "markdown",
      "metadata": {
        "id": "SZsvf9uMQqvX"
      },
      "source": [
        "## Graded Cell\n",
        "\n",
        "This cell is worth 10% of the grade for this assignment."
      ],
      "id": "SZsvf9uMQqvX"
    },
    {
      "cell_type": "code",
      "execution_count": 9,
      "metadata": {
        "colab": {
          "base_uri": "https://localhost:8080/"
        },
        "id": "xB0mA8QzQqvX",
        "outputId": "59cfa291-f2a7-43cc-de1a-fca57e1d7801"
      },
      "outputs": [
        {
          "output_type": "stream",
          "name": "stdout",
          "text": [
            "Coefficient of Determination (R^2): 0.15385652378321313\n"
          ]
        }
      ],
      "source": [
        "from sklearn.linear_model import Ridge\n",
        "\n",
        "# Initialize the Ridge regression model\n",
        "ridge_model = Ridge()\n",
        "\n",
        "# Fit the model on the training data\n",
        "ridge_model.fit(xtrain, y_train)\n",
        "\n",
        "# Evaluate the model on the test data and get the R^2 score\n",
        "r2_score = ridge_model.score(xtest, y_test)\n",
        "\n",
        "# Print the R^2 score\n",
        "print(f\"Coefficient of Determination (R^2): {r2_score}\")"
      ],
      "id": "xB0mA8QzQqvX"
    },
    {
      "cell_type": "markdown",
      "metadata": {
        "id": "tP6XJN8kQqvX"
      },
      "source": [
        "### Q7: Plot the distribution of scores\n",
        "\n",
        "Plot a histogram of your predicted scores.\n",
        "\n",
        "Plot another histogram of the ground truth scores, superimposed on the first (using seaborn, just call the function again.)\n",
        "\n",
        "How is your model's distribution of scores different from the ground truth distribution?  Describe how they differ; what kind of mistakes is your model making?"
      ],
      "id": "tP6XJN8kQqvX"
    },
    {
      "cell_type": "markdown",
      "metadata": {
        "id": "wiL88MqwQqvX"
      },
      "source": [
        "## Graded Cell\n",
        "\n",
        "This cell is worth 10% of the grade for this assignment."
      ],
      "id": "wiL88MqwQqvX"
    },
    {
      "cell_type": "code",
      "execution_count": 10,
      "metadata": {
        "colab": {
          "base_uri": "https://localhost:8080/",
          "height": 564
        },
        "id": "woFuwOr4QqvY",
        "outputId": "d6094356-ff7e-4a76-9250-619d826f7187"
      },
      "outputs": [
        {
          "output_type": "display_data",
          "data": {
            "text/plain": [
              "<Figure size 1000x600 with 1 Axes>"
            ],
            "image/png": "[encoded data removed]"
          },
          "metadata": {}
        }
      ],
      "source": [
        "# Predict scores on the test set\n",
        "y_pred = ridge_model.predict(xtest)\n",
        "\n",
        "# Calculate min and max score values for the predicted scores\n",
        "minv_pred = np.floor(y_pred.min())\n",
        "maxv_pred = np.ceil(y_pred.max())\n",
        "\n",
        "# Create the histograms\n",
        "plt.figure(figsize=(10, 6))\n",
        "sns.histplot(y_pred, bins=np.arange(minv_pred, maxv_pred + 1) - 0.5, kde=False, label='Predicted Scores')\n",
        "sns.histplot(y_test, bins=np.arange(minv, maxv + 1) - 0.5, kde=False, label='Ground Truth Scores') # Use original minv and maxv here\n",
        "plt.xlabel('Score')\n",
        "plt.ylabel('Frequency')\n",
        "plt.title('Distribution of Predicted vs. Ground Truth Scores')\n",
        "plt.xticks(np.arange(minv_pred, maxv_pred + 1)) # Use predicted min/max for ticks\n",
        "plt.legend()\n",
        "plt.show()"
      ],
      "id": "woFuwOr4QqvY"
    },
    {
      "cell_type": "markdown",
      "metadata": {
        "id": "d5Fv3mOPQqvY"
      },
      "source": [
        "## Part 3: Neural Network Representations\n"
      ],
      "id": "d5Fv3mOPQqvY"
    },
    {
      "cell_type": "markdown",
      "metadata": {
        "id": "psv_2h1HQqvY"
      },
      "source": [
        "For this part, we will implement a deep sentence embedder to replace the feature selection process. As a first step, choose your model from Part 2.\n",
        "\n",
        "This time, you will obtain vectors by using a pre-trained neural network model called the Universal Sentence Encoder.  This model will produce a dense vector from any sequence of text.\n",
        "\n",
        "First, import the model with the following code.  This step will take considerable time -- it is downloading a large pre-trained model for the first time.\n"
      ],
      "id": "psv_2h1HQqvY"
    },
    {
      "cell_type": "code",
      "execution_count": 11,
      "metadata": {
        "colab": {
          "base_uri": "https://localhost:8080/",
          "height": 581
        },
        "id": "y-8p8iECQqvZ",
        "outputId": "57255948-5d14-432b-ffdf-511a3b3b1bf6"
      },
      "outputs": [
        {
          "output_type": "stream",
          "name": "stdout",
          "text": [
            "R^2 Score with Universal Sentence Encoder: 0.6285791511634331\n"
          ]
        },
        {
          "output_type": "display_data",
          "data": {
            "text/plain": [
              "<Figure size 1000x600 with 1 Axes>"
            ],
            "image/png": "[encoded data removed]"
          },
          "metadata": {}
        }
      ],
      "source": [
        "import tensorflow_hub as hub\n",
        "module_url = \"https://tfhub.dev/google/universal-sentence-encoder/4\"\n",
        "model = hub.load(module_url)\n",
        "\n",
        "# Convert text to vectors using USE\n",
        "X_train_embeddings = model(X_train['essay'].values)\n",
        "X_test_embeddings = model(X_test['essay'].values)\n",
        "\n",
        "# Initialize and train the Ridge Regression model using the USE embeddings\n",
        "ridge_model_use = Ridge()\n",
        "ridge_model_use.fit(X_train_embeddings, y_train)\n",
        "\n",
        "# Evaluate the model\n",
        "r2_score_use = ridge_model_use.score(X_test_embeddings, y_test)\n",
        "print(f\"R^2 Score with Universal Sentence Encoder: {r2_score_use}\")\n",
        "\n",
        "# Predict scores using USE embeddings\n",
        "y_pred_use = ridge_model_use.predict(X_test_embeddings)\n",
        "\n",
        "#Plot the distribution of the predicted scores vs ground truth scores\n",
        "minv_pred_use = np.floor(y_pred_use.min())\n",
        "maxv_pred_use = np.ceil(y_pred_use.max())\n",
        "\n",
        "plt.figure(figsize=(10, 6))\n",
        "sns.histplot(y_pred_use, bins=np.arange(minv_pred_use, maxv_pred_use + 1) - 0.5, kde=False, label='Predicted Scores (USE)')\n",
        "sns.histplot(y_test, bins=np.arange(minv, maxv + 1) - 0.5, kde=False, label='Ground Truth Scores')\n",
        "plt.xlabel('Score')\n",
        "plt.ylabel('Frequency')\n",
        "plt.title('Distribution of Predicted vs. Ground Truth Scores (USE)')\n",
        "plt.xticks(np.arange(minv_pred_use, maxv_pred_use + 1))\n",
        "plt.legend()\n",
        "plt.show()"
      ],
      "id": "y-8p8iECQqvZ"
    },
    {
      "cell_type": "markdown",
      "metadata": {
        "id": "Ce5Bw14VQqvZ"
      },
      "source": [
        "### Q8: Generate embeddings\n",
        "\n",
        "Next, you will embed the data with the imported model. The Universal Sentence Encoder takes a list of strings and generates an embedding (i.e., a vector) for each string.\n",
        "\n",
        "You can call the model you downloaded like a function.\n",
        "\n",
        "Generate a vector for each string in the training set; call this array xtrain.\n",
        "\n",
        "Also generate a vector for each string in the test set; call this array xtest.\n",
        "\n",
        "Notice how long this step takes -- it's a big model."
      ],
      "id": "Ce5Bw14VQqvZ"
    },
    {
      "cell_type": "markdown",
      "metadata": {
        "id": "rClaf9JSQqvZ"
      },
      "source": [
        "## Graded Cell\n",
        "\n",
        "This cell is worth 5% of the grade for this assignment."
      ],
      "id": "rClaf9JSQqvZ"
    },
    {
      "cell_type": "code",
      "execution_count": 13,
      "metadata": {
        "id": "tIEUBcvTQqvZ"
      },
      "outputs": [],
      "source": [
        "# Generate embeddings for training and test sets\n",
        "xtrain = model(X_train['essay'].values)\n",
        "xtest = model(X_test['essay'].values)"
      ],
      "id": "tIEUBcvTQqvZ"
    },
    {
      "cell_type": "markdown",
      "metadata": {
        "id": "ex1M6JaHQqvZ"
      },
      "source": [
        "### Q9: Train and evaluate a regression model to predict scores using learned embeddings\n",
        "\n",
        "\n",
        "Now retrain your regression model on these learned embeddings instead of the count vectors.\n",
        "\n",
        "Use the vanilla Ridge model.  Report the score.\n",
        "\n",
        "Which model appears to perform the best?"
      ],
      "id": "ex1M6JaHQqvZ"
    },
    {
      "cell_type": "markdown",
      "metadata": {
        "id": "1izh8THhQqva"
      },
      "source": [
        "## Graded Cell\n",
        "\n",
        "This cell is worth 5% of the grade for this assignment."
      ],
      "id": "1izh8THhQqva"
    },
    {
      "cell_type": "code",
      "execution_count": 14,
      "metadata": {
        "colab": {
          "base_uri": "https://localhost:8080/"
        },
        "id": "OQz0DIoLQqva",
        "outputId": "2d99a3a0-3607-4db8-d4ac-5325d33e9c7e"
      },
      "outputs": [
        {
          "output_type": "stream",
          "name": "stdout",
          "text": [
            "R^2 Score with Universal Sentence Encoder: 0.6285791511634331\n"
          ]
        }
      ],
      "source": [
        "# Initialize and train the Ridge Regression model using the USE embeddings\n",
        "ridge_model_use = Ridge()\n",
        "ridge_model_use.fit(xtrain, y_train)\n",
        "\n",
        "# Evaluate the model\n",
        "r2_score_use = ridge_model_use.score(xtest, y_test)\n",
        "print(f\"R^2 Score with Universal Sentence Encoder: {r2_score_use}\")"
      ],
      "id": "OQz0DIoLQqva"
    },
    {
      "cell_type": "markdown",
      "metadata": {
        "id": "IyY48Ah1Qqva"
      },
      "source": [
        "### Q10: Plot the distribution of scores\n",
        "\n",
        "Once again, plot a histogram of your predicted scores from your new model.\n",
        "\n",
        "Plot another histogram of the ground truth scores.\n",
        "\n",
        "How is your new model's distribution of scores different from the ground truth distribution? Is it doing better than your earlier models?  How is it doing better?\n"
      ],
      "id": "IyY48Ah1Qqva"
    },
    {
      "cell_type": "markdown",
      "metadata": {
        "id": "WTSt6K2kQqvb"
      },
      "source": [
        "## Graded Cell\n",
        "\n",
        "This cell is worth 5% of the grade for this assignment."
      ],
      "id": "WTSt6K2kQqvb"
    },
    {
      "cell_type": "code",
      "execution_count": 15,
      "metadata": {
        "colab": {
          "base_uri": "https://localhost:8080/",
          "height": 564
        },
        "id": "OCLgoUdnQqvb",
        "outputId": "333e54aa-4e48-4d8b-965e-561acb14617f"
      },
      "outputs": [
        {
          "output_type": "display_data",
          "data": {
            "text/plain": [
              "<Figure size 1000x600 with 1 Axes>"
            ],
            "image/png": "[encoded data removed]"
          },
          "metadata": {}
        }
      ],
      "source": [
        "# Predict scores using the new model\n",
        "y_pred_use = ridge_model_use.predict(xtest)\n",
        "\n",
        "# Calculate min and max score values for the predicted scores\n",
        "minv_pred_use = np.floor(y_pred_use.min())\n",
        "maxv_pred_use = np.ceil(y_pred_use.max())\n",
        "\n",
        "#Plot the distribution of the predicted scores vs ground truth scores\n",
        "plt.figure(figsize=(10, 6))\n",
        "sns.histplot(y_pred_use, bins=np.arange(minv_pred_use, maxv_pred_use + 1) - 0.5, kde=False, label='Predicted Scores (USE)')\n",
        "sns.histplot(y_test, bins=np.arange(minv, maxv + 1) - 0.5, kde=False, label='Ground Truth Scores')\n",
        "plt.xlabel('Score')\n",
        "plt.ylabel('Frequency')\n",
        "plt.title('Distribution of Predicted vs. Ground Truth Scores (USE)')\n",
        "plt.xticks(np.arange(minv_pred_use, maxv_pred_use + 1))\n",
        "plt.legend()\n",
        "plt.show()"
      ],
      "id": "OCLgoUdnQqvb"
    },
    {
      "cell_type": "markdown",
      "metadata": {
        "id": "013UWc1jQqvb"
      },
      "source": [
        "### Q11: Plot the errors\n",
        "\n",
        "We will analyze the difference between the neural model and your best conventional model.\n",
        "\n",
        "Plot the distribution of errors -- see where the two models made mistakes.\n",
        "\n",
        "The errors are your model's predicted score minus the ground truth human score.\n",
        "\n",
        "Plot a boxplot of the errors for your model using the universal sentence encoder.  Use the seaborn histplot function.\n",
        "\n",
        "x will be the ground truth scores and y is the difference between ground truth and your predictions.  "
      ],
      "id": "013UWc1jQqvb"
    },
    {
      "cell_type": "markdown",
      "metadata": {
        "id": "JXyy4Or4Qqvh"
      },
      "source": [
        "## Graded Cell\n",
        "\n",
        "This cell is worth 5% of the grade for this assignment."
      ],
      "id": "JXyy4Or4Qqvh"
    },
    {
      "cell_type": "code",
      "execution_count": 16,
      "metadata": {
        "colab": {
          "base_uri": "https://localhost:8080/",
          "height": 564
        },
        "id": "9tRZJaJvQqvh",
        "outputId": "9e5973da-466b-4895-8a19-b8031b0856a8"
      },
      "outputs": [
        {
          "output_type": "display_data",
          "data": {
            "text/plain": [
              "<Figure size 1000x600 with 1 Axes>"
            ],
            "image/png": "[encoded data removed]"
          },
          "metadata": {}
        }
      ],
      "source": [
        "# Calculate the errors for the USE model\n",
        "errors_use = y_pred_use - y_test\n",
        "\n",
        "# Create the boxplot using seaborn\n",
        "plt.figure(figsize=(10, 6))\n",
        "sns.boxplot(x=y_test, y=errors_use)\n",
        "plt.xlabel('Ground Truth Scores')\n",
        "plt.ylabel('Error (Predicted - Ground Truth)')\n",
        "plt.title('Distribution of Errors for USE Model')\n",
        "plt.show()"
      ],
      "id": "9tRZJaJvQqvh"
    },
    {
      "cell_type": "markdown",
      "metadata": {
        "id": "td5OA6QoQqvh"
      },
      "source": [
        "### Q12: Compare models directly\n",
        "\n",
        "Plot a histogram of the difference between your neural model and the ground truth.\n",
        "\n",
        "Plot another histogram of the difference between your best conventional model and the ground truth.\n",
        "\n",
        "\n",
        "Does either model tend to overestimate or underestimate the true score?"
      ],
      "id": "td5OA6QoQqvh"
    },
    {
      "cell_type": "markdown",
      "metadata": {
        "id": "AKU_EotlQqvi"
      },
      "source": [
        "## Graded Cell\n",
        "\n",
        "This cell is worth 10% of the grade for this assignment."
      ],
      "id": "AKU_EotlQqvi"
    },
    {
      "cell_type": "code",
      "execution_count": 21,
      "metadata": {
        "colab": {
          "base_uri": "https://localhost:8080/",
          "height": 521
        },
        "id": "7G26Q4cEQqvi",
        "outputId": "8b661ee6-8b18-44c4-cb61-22cc681ad85f"
      },
      "outputs": [
        {
          "output_type": "display_data",
          "data": {
            "text/plain": [
              "<Figure size 1200x600 with 2 Axes>"
            ],
            "image/png": "[encoded data removed]"
          },
          "metadata": {}
        }
      ],
      "source": [
        "import matplotlib.pyplot as plt\n",
        "import seaborn as sns\n",
        "import numpy as np\n",
        "\n",
        "# Calculate errors for the conventional model (Ridge with CountVectorizer)\n",
        "errors_conventional = y_pred - y_test\n",
        "\n",
        "# Create histograms of the errors\n",
        "plt.figure(figsize=(12, 6))\n",
        "\n",
        "plt.subplot(1, 2, 1)\n",
        "sns.histplot(errors_use, kde=True)\n",
        "plt.title('Errors of Neural Model (USE)')\n",
        "plt.xlabel('Error (Predicted - Ground Truth)')\n",
        "plt.ylabel('Frequency')\n",
        "\n",
        "plt.subplot(1, 2, 2)\n",
        "sns.histplot(errors_conventional, kde=True)\n",
        "plt.title('Errors of Conventional Model (Ridge)')\n",
        "plt.xlabel('Error (Predicted - Ground Truth)')\n",
        "plt.ylabel('Frequency')\n",
        "\n",
        "\n",
        "plt.tight_layout()\n",
        "plt.show()\n"
      ],
      "id": "7G26Q4cEQqvi"
    },
    {
      "cell_type": "markdown",
      "metadata": {
        "id": "HNGkwp3sQqvi"
      },
      "source": [
        "Answer the questions here"
      ],
      "id": "HNGkwp3sQqvi"
    },
    {
      "cell_type": "markdown",
      "metadata": {
        "id": "E1S1x8FWQqvi"
      },
      "source": [
        "### Q13: Summarize your findings\n",
        "\n",
        "Summarize your results. Which approach worked best?  Why?  Does automatic essay scoring appear feasible? How might we improve on this model?\n"
      ],
      "id": "E1S1x8FWQqvi"
    },
    {
      "cell_type": "markdown",
      "metadata": {
        "id": "L-EmFcYzQqvj"
      },
      "source": [
        "## Graded Cell\n",
        "\n",
        "This cell is worth 15% of the grade for this assignment."
      ],
      "id": "L-EmFcYzQqvj"
    },
    {
      "cell_type": "markdown",
      "metadata": {
        "id": "D90n_1kxQqvj"
      },
      "source": [
        "#### Write your answers to Q13 here:"
      ],
      "id": "D90n_1kxQqvj"
    },
    {
      "cell_type": "markdown",
      "source": [
        "\n",
        "The Universal Sentence Encoder (USE) model generally outperformed the conventional CountVectorizer + Ridge regression model in predicting essay scores, as indicated by a higher R^2 score.  This is likely because USE captures semantic meaning and context within sentences, providing richer representations of the essay text compared to simple word counts. The CountVectorizer approach only considers the frequency of individual words, disregarding their relationships or the overall meaning of the sentences.\n",
        "\n",
        "Automatic essay scoring appears feasible, but its accuracy depends heavily on the model and the features used.  The USE model shows promise but still has limitations.\n",
        "\n",
        "Possible improvements:\n",
        "1. Fine-tuning the pre-trained model:  Fine-tuning the USE model on a larger dataset related to essay scoring could improve its performance on the specific task.\n",
        "2. Explore other neural network models: Experimenting with more sophisticated architectures like transformers could potentially yield better results.\n",
        "3. Feature engineering: Adding additional features, such as essay length, sentence complexity, or grammatical correctness, might enhance prediction accuracy.\n",
        "4. Hyperparameter optimization: Systematically searching for optimal hyperparameters for the Ridge regression model (and any neural network) could further improve the results.\n",
        "5. Larger and more diverse dataset: A larger and more diverse dataset with more essay sets would provide more training data and a broader representation of writing styles.\n",
        "6. Addressing systematic errors: The models show some tendencies to over- or underestimate, suggesting potential biases that could be addressed through data augmentation or model adjustments.\n",
        "\n",
        "\n",
        "In summary, while the current models show potential, ongoing refinement and exploration of other methods are needed to improve their predictive accuracy."
      ],
      "metadata": {
        "id": "0rlMY3NHV2kS"
      },
      "id": "0rlMY3NHV2kS"
    },
    {
      "cell_type": "code",
      "source": [],
      "metadata": {
        "id": "UYTvq2wOV_DN"
      },
      "id": "UYTvq2wOV_DN",
      "execution_count": null,
      "outputs": []
    }
  ],
  "metadata": {
    "kernelspec": {
      "display_name": "Python 3",
      "language": "python",
      "name": "python3"
    },
    "language_info": {
      "codemirror_mode": {
        "name": "ipython",
        "version": 3
      },
      "file_extension": ".py",
      "mimetype": "text/x-python",
      "name": "python",
      "nbconvert_exporter": "python",
      "pygments_lexer": "ipython3",
      "version": "3.7.7"
    },
    "colab": {
      "provenance": [],
      "include_colab_link": true
    }
  },
  "nbformat": 4,
  "nbformat_minor": 5
}