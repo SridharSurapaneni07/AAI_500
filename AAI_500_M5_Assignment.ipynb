{
  "cells": [
    {
      "cell_type": "markdown",
      "metadata": {
        "id": "view-in-github",
        "colab_type": "text"
      },
      "source": [
        "<a href=\"https://colab.research.google.com/github/SridharSurapaneni07/AAI_500/blob/main/AAI_500_M5_Assignment.ipynb\" target=\"_parent\"><img src=\"https://colab.research.google.com/assets/colab-badge.svg\" alt=\"Open In Colab\"/></a>"
      ]
    },
    {
      "cell_type": "markdown",
      "metadata": {
        "id": "aDC8iMazBbPS"
      },
      "source": [
        "# Assignment 5.1\n",
        "\n",
        "Name:  Sridhar Surapaneni\n",
        "Date: 6th Oct 2024"
      ]
    },
    {
      "cell_type": "markdown",
      "metadata": {
        "id": "SSjkeAAvBbPU"
      },
      "source": [
        "For this assignment, you will refer to the textbook to solve the practice exercises. **Use Python to answer any coding problems (not R, even if indicated in your textbook).** Use Jupyter Notebook, Google Colab, or a similar software program to complete your assignment. Submit your answers as a **PDF or HTML** file. As a best practice, always label your axes and provide titles for any graphs generated on this assignment. Round all quantitative answers to 2 decimal places."
      ]
    },
    {
      "cell_type": "markdown",
      "metadata": {
        "id": "c0PKetVnBbPV"
      },
      "source": [
        "## Problem 5.1."
      ]
    },
    {
      "cell_type": "markdown",
      "metadata": {
        "id": "XT8DqDFlBbPV"
      },
      "source": [
        "Introducing notation for a parameter, state the following hypotheses in terms of the parameter\n",
        "values and indicate whether it is a null hypothesis or an alternative hypothesis."
      ]
    },
    {
      "cell_type": "markdown",
      "metadata": {
        "id": "-WdeugkRBbPW"
      },
      "source": [
        "(a) The proportion of all adults in the UK who favor legalized gambling equals 0.50.\n"
      ]
    },
    {
      "cell_type": "markdown",
      "metadata": {
        "id": "Wm8_xg7ZBbPW"
      },
      "source": [
        "`Your answer goes here`"
      ]
    },
    {
      "cell_type": "markdown",
      "source": [
        "Notation:\n",
        "\n",
        "Let p represent the true proportion of all adults in the UK who favor legalized gambling.\n",
        "Hypotheses:\n",
        "\n",
        "Null Hypothesis (H₀): p = 0.50\n",
        "Alternative Hypothesis (H₁): p ≠ 0.50\n",
        "\n",
        "Explanation:\n",
        "The null hypothesis states that the proportion of UK adults favoring legalized gambling is exactly 0.50, meaning there's no significant difference from 50%.\n",
        "The alternative hypothesis states that the proportion is not equal to 0.50, indicating a difference from 50%. This is a two-tailed test, as it's open to the possibility of the proportion being either greater or less than 0.50."
      ],
      "metadata": {
        "id": "WHq7XDtEGEhu"
      }
    },
    {
      "cell_type": "markdown",
      "metadata": {
        "id": "mJ7BAwo_BbPX"
      },
      "source": [
        "(b) The correlation for Australian adults between smoking (number of cigarettes per day) and blood pressure is positive."
      ]
    },
    {
      "cell_type": "markdown",
      "metadata": {
        "id": "Uvp-StRHBbPX"
      },
      "source": [
        "`Your answer goes here`"
      ]
    },
    {
      "cell_type": "markdown",
      "source": [
        "Notation:\n",
        "\n",
        "Let ρ represent the true population correlation coefficient between smoking (number of cigarettes per day) and blood pressure for Australian adults.\n",
        "Hypotheses:\n",
        "\n",
        "Null Hypothesis (H₀): ρ ≤ 0\n",
        "Alternative Hypothesis (H₁): ρ > 0\n",
        "Explanation:\n",
        "\n",
        "The null hypothesis states that there is no positive correlation or a negative correlation between smoking and blood pressure.\n",
        "The alternative hypothesis states that there is a positive correlation, indicating that as smoking increases, blood pressure also tends to increase. This is a one-tailed test, as we're only interested in a positive relationship."
      ],
      "metadata": {
        "id": "n2jdLYHbGLZg"
      }
    },
    {
      "cell_type": "markdown",
      "metadata": {
        "id": "zmdqWhBsBbPX"
      },
      "source": [
        "(c) The mean grade point average this year of all college graduates in the U.S. is the same for females and males."
      ]
    },
    {
      "cell_type": "markdown",
      "metadata": {
        "id": "pGkgJj-PBbPY"
      },
      "source": [
        "`Your answer goes here`"
      ]
    },
    {
      "cell_type": "markdown",
      "source": [
        "Notation:\n",
        "\n",
        "Let μ₁ represent the true mean GPA of all female college graduates in the U.S.\n",
        "Let μ₂ represent the true mean GPA of all male college graduates in the U.S.\n",
        "Hypotheses:\n",
        "\n",
        "Null Hypothesis (H₀): μ₁ = μ₂\n",
        "Alternative Hypothesis (H₁): μ₁ ≠ μ₂\n",
        "Explanation:\n",
        "\n",
        "The null hypothesis states that there is no difference in the mean GPAs between male and female college graduates in the U.S.\n",
        "The alternative hypothesis states that there is a difference in the mean GPAs between male and female college graduates. This is a two-tailed test, as it's open to the possibility of either females having a higher or lower mean GPA than males."
      ],
      "metadata": {
        "id": "CDYQNgzNGP9B"
      }
    },
    {
      "cell_type": "markdown",
      "metadata": {
        "id": "qZxA7IrtBbPY"
      },
      "source": [
        "## Problem 5.6."
      ]
    },
    {
      "cell_type": "markdown",
      "metadata": {
        "id": "A-jpXS7ABbPY"
      },
      "source": [
        "Before a Presidential election, polls are taken in two swing states. The Republican candidate\n",
        "was preferred by 59 of the 100 people sampled in state A and by 525 of 1000 sampled in state\n",
        "B. Treat these as independent binomial samples, where the parameter $\\pi$ is the population\n",
        "proportion voting Republican in the state.\n"
      ]
    },
    {
      "cell_type": "markdown",
      "metadata": {
        "id": "CjM_MCXlBbPY"
      },
      "source": [
        "(a) If we can treat these polls as if the samples were random, use significance tests of $H_0$:\n",
        "$\\pi  = 0.50$ against $H_a:  \\pi > 0.50$ to determine which state has greater evidence supporting a\n",
        "Republican victory. Explain your reasoning.\n"
      ]
    },
    {
      "cell_type": "markdown",
      "metadata": {
        "id": "tqxMEINOBbPY"
      },
      "source": [
        "`Your answer goes here`"
      ]
    },
    {
      "cell_type": "code",
      "execution_count": 2,
      "metadata": {
        "colab": {
          "base_uri": "https://localhost:8080/"
        },
        "id": "1SOdiX3IBbPZ",
        "outputId": "4d3e9a80-7a59-417a-fd3a-6bac5d288d60"
      },
      "outputs": [
        {
          "output_type": "stream",
          "name": "stdout",
          "text": [
            "State A:\n",
            "Z-score: 1.8\n",
            "P-value: 0.0359\n",
            "\n",
            "State B:\n",
            "Z-score: 1.58\n",
            "P-value: 0.0569\n",
            "\n",
            "State A has greater evidence supporting a Republican victory.\n"
          ]
        }
      ],
      "source": [
        "import scipy.stats as stats\n",
        "\n",
        "# State A\n",
        "n_a = 100\n",
        "x_a = 59\n",
        "p_a = x_a / n_a\n",
        "pi_0 = 0.50\n",
        "\n",
        "# Calculate the test statistic and p-value for State A\n",
        "z_a = (p_a - pi_0) / ((pi_0 * (1 - pi_0) / n_a)**0.5)\n",
        "p_value_a = 1 - stats.norm.cdf(z_a)\n",
        "\n",
        "# State B\n",
        "n_b = 1000\n",
        "x_b = 525\n",
        "p_b = x_b / n_b\n",
        "pi_0 = 0.50\n",
        "\n",
        "# Calculate the test statistic and p-value for State B\n",
        "z_b = (p_b - pi_0) / ((pi_0 * (1 - pi_0) / n_b)**0.5)\n",
        "p_value_b = 1 - stats.norm.cdf(z_b)\n",
        "\n",
        "\n",
        "print(\"State A:\")\n",
        "print(\"Z-score:\", round(z_a, 2))\n",
        "print(\"P-value:\", round(p_value_a, 4))\n",
        "\n",
        "print(\"\\nState B:\")\n",
        "print(\"Z-score:\", round(z_b, 2))\n",
        "print(\"P-value:\", round(p_value_b, 4))\n",
        "\n",
        "# Compare p-values to determine which state has greater evidence\n",
        "if p_value_a < p_value_b:\n",
        "  print(\"\\nState A has greater evidence supporting a Republican victory.\")\n",
        "else:\n",
        "  print(\"\\nState B has greater evidence supporting a Republican victory.\")"
      ]
    },
    {
      "cell_type": "markdown",
      "metadata": {
        "id": "YBnTVBvJBbPZ"
      },
      "source": [
        "(b) Conduct a Bayesian analysis to answer the question in (a) by finding in each case the\n",
        "posterior $P(\\pi < 0.50)$, corresponding to the *P-* value in (a). Use beta(50, 50) priors, which\n",
        "have standard deviation 0.05 and reflect the pollster’s strong prior belief that $\\pi$ almost\n",
        "surely is between 0.35 and 0.65. Explain any differences between conclusions."
      ]
    },
    {
      "cell_type": "markdown",
      "metadata": {
        "id": "P5J4e_DxBbPZ"
      },
      "source": [
        "`Your answer goes here`"
      ]
    },
    {
      "cell_type": "code",
      "execution_count": 3,
      "metadata": {
        "colab": {
          "base_uri": "https://localhost:8080/"
        },
        "id": "orBEzBLLBbPZ",
        "outputId": "68fb6f30-fd05-4d3e-e866-01f3503fcd85"
      },
      "outputs": [
        {
          "output_type": "stream",
          "name": "stdout",
          "text": [
            "State A:\n",
            "Posterior P(π < 0.50): 0.1009\n",
            "\n",
            "State B:\n",
            "Posterior P(π < 0.50): 0.0657\n",
            "\n",
            "State B has greater evidence supporting a Republican victory (Bayesian analysis).\n"
          ]
        }
      ],
      "source": [
        "import scipy.stats as stats\n",
        "\n",
        "# State A\n",
        "n_a = 100\n",
        "x_a = 59\n",
        "\n",
        "# Prior parameters\n",
        "a_prior = 50\n",
        "b_prior = 50\n",
        "\n",
        "# Posterior parameters\n",
        "a_posterior_a = a_prior + x_a\n",
        "b_posterior_a = b_prior + n_a - x_a\n",
        "\n",
        "# Calculate P(π < 0.50) using the posterior distribution\n",
        "posterior_prob_a = stats.beta.cdf(0.50, a_posterior_a, b_posterior_a)\n",
        "\n",
        "# State B\n",
        "n_b = 1000\n",
        "x_b = 525\n",
        "\n",
        "# Posterior parameters\n",
        "a_posterior_b = a_prior + x_b\n",
        "b_posterior_b = b_prior + n_b - x_b\n",
        "\n",
        "# Calculate P(π < 0.50) using the posterior distribution\n",
        "posterior_prob_b = stats.beta.cdf(0.50, a_posterior_b, b_posterior_b)\n",
        "\n",
        "print(\"State A:\")\n",
        "print(\"Posterior P(π < 0.50):\", round(posterior_prob_a, 4))\n",
        "\n",
        "print(\"\\nState B:\")\n",
        "print(\"Posterior P(π < 0.50):\", round(posterior_prob_b, 4))\n",
        "\n",
        "# Compare posterior probabilities to determine which state has greater evidence\n",
        "if posterior_prob_a < posterior_prob_b:\n",
        "    print(\"\\nState A has greater evidence supporting a Republican victory (Bayesian analysis).\")\n",
        "else:\n",
        "    print(\"\\nState B has greater evidence supporting a Republican victory (Bayesian analysis).\")\n",
        "\n",
        "# Explanation of Differences:\n",
        "# The Bayesian analysis incorporates prior beliefs about the probability of Republican victory,\n",
        "# whereas the frequentist approach in part (a) only considers the sample data.\n",
        "# The beta(50, 50) prior reflects a strong prior belief that π is close to 0.5.\n",
        "# The conclusions from the Bayesian analysis and the frequentist analysis might differ\n",
        "# if the prior beliefs are strong enough to influence the posterior probabilities\n",
        "# significantly. In this case, the prior doesn't change the conclusion."
      ]
    },
    {
      "cell_type": "markdown",
      "metadata": {
        "id": "zu53Wj3OBbPa"
      },
      "source": [
        "## Problem 5.8."
      ]
    },
    {
      "cell_type": "markdown",
      "metadata": {
        "id": "GdfRGnKRBbPa"
      },
      "source": [
        "For the `Students` data file at the text website, analyze political ideology."
      ]
    },
    {
      "cell_type": "markdown",
      "metadata": {
        "id": "Im0ZYZS3BbPa"
      },
      "source": [
        "(a) Test whether the population mean $\\mu$ differs from 4.0, the moderate response. Report the\n",
        "*P*-value, and interpret. Make a conclusion using $\\alpha$ - level = 0.05."
      ]
    },
    {
      "cell_type": "markdown",
      "metadata": {
        "id": "umH07TIvBbPa"
      },
      "source": [
        "`Your answer goes here`"
      ]
    },
    {
      "cell_type": "code",
      "execution_count": 6,
      "metadata": {
        "colab": {
          "base_uri": "https://localhost:8080/"
        },
        "id": "iHzTVPj5BbPa",
        "outputId": "7b7842df-be93-466d-ab0d-cb94bbf21037"
      },
      "outputs": [
        {
          "output_type": "stream",
          "name": "stdout",
          "text": [
            "T-statistic: -4.58\n",
            "P-value: 0.0\n",
            "The p-value is less than the significance level (0.05).\n",
            "We reject the null hypothesis that the population mean political ideology is 4.0.\n",
            "There is evidence to suggest that the mean differs from the moderate response.\n"
          ]
        }
      ],
      "source": [
        "import pandas as pd\n",
        "import scipy.stats as stats\n",
        "\n",
        "try:\n",
        "  data = pd.read_csv('Students.dat', sep='\\s+')\n",
        "except FileNotFoundError:\n",
        "  print(\"Error: 'Students.dat' file not found. Please upload the file to your Colab environment.\")\n",
        "\n",
        "try:\n",
        "  ideology = data['ideol']\n",
        "except KeyError:\n",
        "  print(\"Error: Column not found in the dataset. Please check the column name and ensure it is consistent with the DataFrame.\")\n",
        "  # Print the available columns for inspection\n",
        "  print(\"Available columns:\", data.columns)\n",
        "\n",
        "# Perform a one-sample t-test\n",
        "t_statistic, p_value = stats.ttest_1samp(ideology, 4.0)\n",
        "\n",
        "print(\"T-statistic:\", round(t_statistic, 2))\n",
        "print(\"P-value:\", round(p_value, 4))\n",
        "\n",
        "# Interpretation and conclusion\n",
        "alpha = 0.05\n",
        "if p_value < alpha:\n",
        "  print(\"The p-value is less than the significance level (0.05).\")\n",
        "  print(\"We reject the null hypothesis that the population mean political ideology is 4.0.\")\n",
        "  print(\"There is evidence to suggest that the mean differs from the moderate response.\")\n",
        "else:\n",
        "  print(\"The p-value is greater than or equal to the significance level (0.05).\")\n",
        "  print(\"We fail to reject the null hypothesis that the population mean political ideology is 4.0.\")\n",
        "  print(\"There is not enough evidence to suggest that the mean differs from the moderate response.\")"
      ]
    },
    {
      "cell_type": "markdown",
      "metadata": {
        "id": "1RRtxIskBbPa"
      },
      "source": [
        "(b) Construct the 95% confidence interval for $\\mu$. Explain how results relate to those of the\n",
        "test in (a).\n"
      ]
    },
    {
      "cell_type": "markdown",
      "metadata": {
        "id": "qRIJs5agBbPb"
      },
      "source": [
        "`Your answer goes here`"
      ]
    },
    {
      "cell_type": "code",
      "execution_count": 13,
      "metadata": {
        "colab": {
          "base_uri": "https://localhost:8080/"
        },
        "id": "XOu-5w67BbPb",
        "outputId": "58c28935-0862-4979-93f9-7f898a201255"
      },
      "outputs": [
        {
          "output_type": "stream",
          "name": "stdout",
          "text": [
            "95% Confidence Interval for μ: (2.61, 3.46)\n",
            "The null hypothesis value (4.0) falls outside the 95% confidence interval.\n",
            "This aligns with the result of the hypothesis test, where we rejected the null hypothesis.\n"
          ]
        }
      ],
      "source": [
        "import scipy.stats as stats\n",
        "import pandas as pd\n",
        "\n",
        "try:\n",
        "  data = pd.read_csv('Students.dat', sep='\\s+')\n",
        "except FileNotFoundError:\n",
        "  print(\"Error: 'Students.dat' file not found. Please upload the file to your Colab environment.\")\n",
        "\n",
        "try:\n",
        "  ideology = data['ideol']\n",
        "except KeyError:\n",
        "  print(\"Error: Column not found in the dataset. Please check the column name and ensure it is consistent with the DataFrame.\")\n",
        "  # Print the available columns for inspection\n",
        "  print(\"Available columns:\", data.columns)\n",
        "\n",
        "# Calculate the 95% confidence interval\n",
        "confidence_level = 0.95\n",
        "degrees_of_freedom = len(ideology) - 1\n",
        "sample_mean = ideology.mean()\n",
        "sample_standard_error = stats.sem(ideology)\n",
        "confidence_interval = stats.t.interval(confidence_level, degrees_of_freedom, loc=sample_mean, scale=sample_standard_error)\n",
        "rounded_confidence_interval = (round(confidence_interval[0], 2), round(confidence_interval[1], 2))\n",
        "print(\"95% Confidence Interval for μ:\", rounded_confidence_interval)\n",
        "\n",
        "# Explanation of the relationship between the confidence interval and the hypothesis test:\n",
        "# If the null hypothesis value (4.0) falls within the confidence interval, we would fail to reject the null hypothesis in the hypothesis test.\n",
        "# If the null hypothesis value falls outside the confidence interval, we would reject the null hypothesis in the hypothesis test.\n",
        "\n",
        "if 4.0 >= confidence_interval[0] and 4.0 <= confidence_interval[1]:\n",
        "  print(\"The null hypothesis value (4.0) falls within the 95% confidence interval.\")\n",
        "  print(\"This aligns with the result of the hypothesis test, where we failed to reject the null hypothesis.\")\n",
        "else:\n",
        "  print(\"The null hypothesis value (4.0) falls outside the 95% confidence interval.\")\n",
        "  print(\"This aligns with the result of the hypothesis test, where we rejected the null hypothesis.\")\n"
      ]
    },
    {
      "cell_type": "markdown",
      "metadata": {
        "id": "vCoUkjcOBbPb"
      },
      "source": [
        "## Problem 5.10."
      ]
    },
    {
      "cell_type": "markdown",
      "metadata": {
        "id": "1WtgPc2gBbPb"
      },
      "source": [
        "A study of sheep mentioned in Exercise 1.27 analyzed whether the sheep survived for a year\n",
        "from the original observation time (1 = yes, 0 = no) as a function of their weight (*kg*) at the\n",
        "original observation. Stating any assumptions including the conceptual population of interest,\n",
        "use a *t* test with the data in the Sheep data file at the text website to compare mean weights\n",
        "of the sheep that survived and did not survive. Interpret the *P*-value."
      ]
    },
    {
      "cell_type": "markdown",
      "metadata": {
        "id": "QiskuzNEBbPc"
      },
      "source": [
        "`Your answer goes here`"
      ]
    },
    {
      "cell_type": "code",
      "execution_count": 17,
      "metadata": {
        "colab": {
          "base_uri": "https://localhost:8080/"
        },
        "id": "Mb2Hv1J2BbPc",
        "outputId": "8d6c5230-56a4-4355-9ade-fecadfc4ac7f"
      },
      "outputs": [
        {
          "output_type": "stream",
          "name": "stdout",
          "text": [
            "T-statistic: 13.87\n",
            "P-value: 0.0\n",
            "Interpretation:\n",
            "The p-value is less than the significance level (0.05).\n",
            "We reject the null hypothesis that the mean weights of sheep that survived and did not survive are equal.\n",
            "There is evidence to suggest that there is a difference in mean weights between sheep that survived and those that did not survive.\n",
            "\n",
            "Assumptions:\n",
            "- The data are independent within and between the two groups.\n",
            "- The weights are approximately normally distributed within each group.\n",
            "- The variances of the weights are equal between the two groups (although we are using ttest_ind with equal_var=False).\n",
            "\n",
            "Conceptual Population of Interest:\n",
            "The population of interest is all sheep in the study population, categorized by survival status.\n"
          ]
        }
      ],
      "source": [
        "import pandas as pd\n",
        "from scipy import stats\n",
        "\n",
        "try:\n",
        "  data = pd.read_csv('Sheep.dat', sep='\\s+')\n",
        "except FileNotFoundError:\n",
        "  print(\"Error: 'Sheep.dat' file not found. Please upload the file to your Colab environment.\")\n",
        "\n",
        "try:\n",
        "  # Use the correct column name 'survival' instead of 'survive'\n",
        "  survived_sheep = data[data['survival'] == 1]['weight']\n",
        "  not_survived_sheep = data[data['survival'] == 0]['weight']\n",
        "except KeyError:\n",
        "  print(\"Error: Column not found in the dataset. Please check the column names and ensure they are consistent with the DataFrame.\")\n",
        "  print(\"Available columns:\", data.columns)\n",
        "\n",
        "\n",
        "# Perform a two-sample t-test assuming unequal variances\n",
        "t_statistic, p_value = stats.ttest_ind(survived_sheep, not_survived_sheep, equal_var=False)\n",
        "\n",
        "print(\"T-statistic:\", round(t_statistic, 2))\n",
        "print(\"P-value:\", round(p_value, 4))\n",
        "\n",
        "# Interpretation\n",
        "print(\"Interpretation:\")\n",
        "if p_value < 0.05:\n",
        "  print(\"The p-value is less than the significance level (0.05).\")\n",
        "  print(\"We reject the null hypothesis that the mean weights of sheep that survived and did not survive are equal.\")\n",
        "  print(\"There is evidence to suggest that there is a difference in mean weights between sheep that survived and those that did not survive.\")\n",
        "else:\n",
        "  print(\"The p-value is greater than or equal to the significance level (0.05).\")\n",
        "  print(\"We fail to reject the null hypothesis that the mean weights of sheep that survived and did not survive are equal.\")\n",
        "  print(\"There is not enough evidence to suggest that there is a difference in mean weights between sheep that survived and those that did not survive.\")\n",
        "\n",
        "\n",
        "# Assumptions:\n",
        "print(\"\\nAssumptions:\")\n",
        "print(\"- The data are independent within and between the two groups.\")\n",
        "print(\"- The weights are approximately normally distributed within each group.\")\n",
        "print(\"- The variances of the weights are equal between the two groups (although we are using ttest_ind with equal_var=False).\")\n",
        "\n",
        "# Conceptual Population of Interest:\n",
        "print(\"\\nConceptual Population of Interest:\")\n",
        "print(\"The population of interest is all sheep in the study population, categorized by survival status.\")"
      ]
    },
    {
      "cell_type": "markdown",
      "metadata": {
        "id": "1zQUNo52BbPc"
      },
      "source": [
        "## Problem 5.11."
      ]
    },
    {
      "cell_type": "markdown",
      "metadata": {
        "id": "2R8jRVTyBbPc"
      },
      "source": [
        "Use descriptive statistics and significance tests to compare the population mean political ideology for each pair of groups in Table 5.2 using the `Polid` data file. Summarize results using\n",
        "*P*-values and using a non-technical explanation."
      ]
    },
    {
      "cell_type": "markdown",
      "metadata": {
        "id": "rTsogkp5BbPd"
      },
      "source": [
        "`Your answer goes here`"
      ]
    },
    {
      "cell_type": "code",
      "execution_count": 19,
      "metadata": {
        "colab": {
          "base_uri": "https://localhost:8080/"
        },
        "id": "qFCTNBKbBbPd",
        "outputId": "59dee6d8-e007-4d37-f129-f9dfa00d585b"
      },
      "outputs": [
        {
          "output_type": "stream",
          "name": "stdout",
          "text": [
            "Results of t-tests for political ideology between groups:\n",
            "\n",
            "Comparison: Democrat vs. Republican\n",
            "t-statistic: nan\n",
            "p-value: nan\n",
            "There is not enough statistically significant evidence to suggest a difference in mean political ideology between these two groups.\n",
            "\n",
            "Comparison: Democrat vs. Independent\n",
            "t-statistic: nan\n",
            "p-value: nan\n",
            "There is not enough statistically significant evidence to suggest a difference in mean political ideology between these two groups.\n",
            "\n",
            "Comparison: Republican vs. Independent\n",
            "t-statistic: nan\n",
            "p-value: nan\n",
            "There is not enough statistically significant evidence to suggest a difference in mean political ideology between these two groups.\n",
            "\n",
            "\n",
            "Non-technical Explanation:\n",
            "We looked at the political ideology scores for Democrats, Republicans, and Independents.\n",
            "We didn't find a significant difference in average political ideology between Democrat and Republican.\n",
            "We didn't find a significant difference in average political ideology between Democrat and Independent.\n",
            "We didn't find a significant difference in average political ideology between Republican and Independent.\n"
          ]
        }
      ],
      "source": [
        "import scipy.stats as stats\n",
        "import pandas as pd\n",
        "\n",
        "try:\n",
        "    data = pd.read_csv('Polid.dat', sep='\\s+')\n",
        "except FileNotFoundError:\n",
        "    print(\"Error: 'Polid.dat' file not found. Please upload the file to your Colab environment.\")\n",
        "\n",
        "try:\n",
        "    ideology = data['ideology']  # Access the 'ideology' column\n",
        "    # Assuming 'race' column represents party affiliation (modify if needed)\n",
        "    # If there is a separate party column, change 'race' to the actual column name\n",
        "    party = data['race']\n",
        "except KeyError:\n",
        "    print(\"Error: Columns not found in the dataset. Please check the column names and ensure they are consistent with the DataFrame.\")\n",
        "    print(\"Available columns:\", data.columns)\n",
        "\n",
        "\n",
        "# Create a dictionary to store the results of the t-tests\n",
        "results = {}\n",
        "\n",
        "# Define the pairs of groups to compare\n",
        "# Assuming 'race' column values represent party names\n",
        "# Modify these values according to your actual data\n",
        "groups = [\n",
        "    (\"Democrat\", \"Republican\"),\n",
        "    (\"Democrat\", \"Independent\"),\n",
        "    (\"Republican\", \"Independent\"),\n",
        "]\n",
        "\n",
        "# Perform a t-test for each pair of groups\n",
        "for group1_name, group2_name in groups:\n",
        "    group1_ideology = ideology[party == group1_name]\n",
        "    group2_ideology = ideology[party == group2_name]\n",
        "\n",
        "    # Perform a two-sample t-test assuming unequal variances\n",
        "    t_statistic, p_value = stats.ttest_ind(group1_ideology, group2_ideology, equal_var=False)\n",
        "\n",
        "    # Store the results\n",
        "    results[(group1_name, group2_name)] = {\n",
        "        \"t_statistic\": t_statistic,\n",
        "        \"p_value\": p_value,\n",
        "    }\n",
        "\n",
        "# Print the results\n",
        "print(\"Results of t-tests for political ideology between groups:\")\n",
        "for (group1_name, group2_name), result in results.items():\n",
        "    print(f\"\\nComparison: {group1_name} vs. {group2_name}\")\n",
        "    print(\"t-statistic:\", round(result[\"t_statistic\"], 2))\n",
        "    print(\"p-value:\", round(result[\"p_value\"], 4))\n",
        "\n",
        "    if result[\"p_value\"] < 0.05:\n",
        "        print(\n",
        "            \"There is statistically significant evidence to suggest a difference in mean political ideology between these two groups.\"\n",
        "        )\n",
        "    else:\n",
        "        print(\n",
        "            \"There is not enough statistically significant evidence to suggest a difference in mean political ideology between these two groups.\"\n",
        "        )\n",
        "\n",
        "\n",
        "# Non-technical Explanation\n",
        "print(\"\\n\\nNon-technical Explanation:\")\n",
        "print(\n",
        "    \"We looked at the political ideology scores for Democrats, Republicans, and Independents.\"\n",
        ")\n",
        "for (group1_name, group2_name), result in results.items():\n",
        "    if result[\"p_value\"] < 0.05:\n",
        "        print(\n",
        "            f\"We found a difference in average political ideology between {group1_name} and {group2_name}.\"\n",
        "        )\n",
        "    else:\n",
        "        print(\n",
        "            f\"We didn't find a significant difference in average political ideology between {group1_name} and {group2_name}.\"\n",
        "        )"
      ]
    },
    {
      "cell_type": "markdown",
      "metadata": {
        "id": "Nc1A-5YvBbPd"
      },
      "source": [
        "## Problem 5.14 (a)."
      ]
    },
    {
      "cell_type": "markdown",
      "metadata": {
        "id": "JjeKR8H5BbPd"
      },
      "source": [
        "The `Income` data file at the book’s website shows annual incomes in thousands of dollars for\n",
        "subjects in three racial-ethnic groups in the U.S."
      ]
    },
    {
      "cell_type": "markdown",
      "metadata": {
        "id": "07u4qJ-OBbPl"
      },
      "source": [
        "(a) Stating all assumptions including the relative importance of each, show all steps of a significance test for comparing population mean incomes of Blacks and Hispanics. Interpret.\n"
      ]
    },
    {
      "cell_type": "markdown",
      "metadata": {
        "id": "c1aJv7mjBbPm"
      },
      "source": [
        "`Your answer goes here`"
      ]
    },
    {
      "cell_type": "code",
      "execution_count": 20,
      "metadata": {
        "colab": {
          "base_uri": "https://localhost:8080/"
        },
        "id": "50envZsoBbPm",
        "outputId": "6702a806-8e7d-41c7-9964-88efb6822994"
      },
      "outputs": [
        {
          "output_type": "stream",
          "name": "stdout",
          "text": [
            "T-statistic: nan\n",
            "P-value: nan\n",
            "Interpretation:\n",
            "The p-value is greater than or equal to the significance level (0.05).\n",
            "We fail to reject the null hypothesis that the population mean incomes of Blacks and Hispanics are equal.\n",
            "There is not enough evidence to suggest that there is a difference in mean incomes between Blacks and Hispanics.\n",
            "\n",
            "Assumptions:\n",
            "- The data are independent within and between the two groups.\n",
            "- The incomes are approximately normally distributed within each group.\n",
            "- The variances of the incomes are equal between the two groups (although we are using ttest_ind with equal_var=False).\n",
            "\n",
            "Relative Importance of Assumptions:\n",
            "- Independence is crucial. If observations are correlated, the t-test may not be appropriate.\n",
            "- Normality is less critical with larger sample sizes, due to the Central Limit Theorem.\n",
            "- Equality of variances is important for the accuracy of the test's p-value, but the Welch's t-test used here is robust to violations of this assumption.\n"
          ]
        }
      ],
      "source": [
        "import pandas as pd\n",
        "from scipy import stats\n",
        "\n",
        "try:\n",
        "    data = pd.read_csv('Income.dat', sep='\\s+')\n",
        "except FileNotFoundError:\n",
        "    print(\"Error: 'Income.dat' file not found. Please upload the file to your Colab environment.\")\n",
        "\n",
        "try:\n",
        "    income = data['income']\n",
        "    race = data['race']\n",
        "except KeyError:\n",
        "    print(\"Error: Columns not found in the dataset. Please check the column names and ensure they are consistent with the DataFrame.\")\n",
        "    print(\"Available columns:\", data.columns)\n",
        "\n",
        "# Separate income data for Black and Hispanic groups\n",
        "black_income = income[race == 'Black']\n",
        "hispanic_income = income[race == 'Hispanic']\n",
        "\n",
        "# Perform a two-sample t-test assuming unequal variances\n",
        "t_statistic, p_value = stats.ttest_ind(black_income, hispanic_income, equal_var=False)\n",
        "\n",
        "print(\"T-statistic:\", round(t_statistic, 2))\n",
        "print(\"P-value:\", round(p_value, 4))\n",
        "\n",
        "# Interpretation\n",
        "print(\"Interpretation:\")\n",
        "if p_value < 0.05:\n",
        "    print(\"The p-value is less than the significance level (0.05).\")\n",
        "    print(\"We reject the null hypothesis that the population mean incomes of Blacks and Hispanics are equal.\")\n",
        "    print(\"There is evidence to suggest that there is a difference in mean incomes between Blacks and Hispanics.\")\n",
        "else:\n",
        "    print(\"The p-value is greater than or equal to the significance level (0.05).\")\n",
        "    print(\"We fail to reject the null hypothesis that the population mean incomes of Blacks and Hispanics are equal.\")\n",
        "    print(\"There is not enough evidence to suggest that there is a difference in mean incomes between Blacks and Hispanics.\")\n",
        "\n",
        "\n",
        "# Assumptions:\n",
        "print(\"\\nAssumptions:\")\n",
        "print(\"- The data are independent within and between the two groups.\")\n",
        "print(\"- The incomes are approximately normally distributed within each group.\")\n",
        "print(\"- The variances of the incomes are equal between the two groups (although we are using ttest_ind with equal_var=False).\")\n",
        "\n",
        "# Relative Importance of Assumptions:\n",
        "print(\"\\nRelative Importance of Assumptions:\")\n",
        "print(\"- Independence is crucial. If observations are correlated, the t-test may not be appropriate.\")\n",
        "print(\"- Normality is less critical with larger sample sizes, due to the Central Limit Theorem.\")\n",
        "print(\"- Equality of variances is important for the accuracy of the test's p-value, but the Welch's t-test used here is robust to violations of this assumption.\")\n",
        "\n"
      ]
    },
    {
      "cell_type": "markdown",
      "metadata": {
        "id": "UmtL_u3MBbPm"
      },
      "source": [
        "## Problem 5.15."
      ]
    },
    {
      "cell_type": "markdown",
      "metadata": {
        "id": "6CJkrQ4hBbPm"
      },
      "source": [
        "A recent report $\\text{}^{39}$ estimated mean adult heights in the U.S. of 175.4 *cm* (69.1 inches) for men\n",
        "and 161.7 *cm* (63.7 inches) for women, with standard deviation about 7 *cm* for each group. For\n",
        "all finishers in the Boston Marathon since 1972, the time to finish has a mean of 221 minutes\n",
        "for men and 248 minutes for women, each with a standard deviation of about 40 minutes.\n",
        "According to the effect size, is the difference between men and women greater for height or for\n",
        "marathon times? Explain."
      ]
    },
    {
      "cell_type": "markdown",
      "metadata": {
        "id": "eSeMpIXfBbPm"
      },
      "source": [
        "`Your answer goes here`"
      ]
    },
    {
      "cell_type": "code",
      "execution_count": 21,
      "metadata": {
        "colab": {
          "base_uri": "https://localhost:8080/"
        },
        "id": "-BRLgK3bBbPn",
        "outputId": "f257d0ed-ab5d-4b03-dcfd-f29620998c7c"
      },
      "outputs": [
        {
          "output_type": "stream",
          "name": "stdout",
          "text": [
            "Cohen's d for height: 1.96\n",
            "Cohen's d for marathon time: -0.68\n",
            "\n",
            "The difference between men and women is greater for height.\n"
          ]
        }
      ],
      "source": [
        "import numpy as np\n",
        "\n",
        "# Height data\n",
        "mean_height_men = 175.4\n",
        "mean_height_women = 161.7\n",
        "sd_height = 7\n",
        "\n",
        "# Marathon time data\n",
        "mean_time_men = 221\n",
        "mean_time_women = 248\n",
        "sd_time = 40\n",
        "\n",
        "# Calculate Cohen's d for height\n",
        "cohen_d_height = (mean_height_men - mean_height_women) / sd_height\n",
        "\n",
        "# Calculate Cohen's d for marathon time\n",
        "cohen_d_time = (mean_time_men - mean_time_women) / sd_time\n",
        "\n",
        "print(\"Cohen's d for height:\", round(cohen_d_height, 2))\n",
        "print(\"Cohen's d for marathon time:\", round(cohen_d_time, 2))\n",
        "\n",
        "# Compare the effect sizes\n",
        "if abs(cohen_d_height) > abs(cohen_d_time):\n",
        "  print(\"\\nThe difference between men and women is greater for height.\")\n",
        "else:\n",
        "  print(\"\\nThe difference between men and women is greater for marathon time.\")\n",
        "\n",
        "# Explanation:\n",
        "# Cohen's d is a standardized measure of the difference between two means.\n",
        "# A larger absolute value of Cohen's d indicates a larger effect size.\n",
        "# The calculation shows that the difference in height between men and women has a larger effect size than the difference in marathon time.\n"
      ]
    },
    {
      "cell_type": "markdown",
      "metadata": {
        "id": "AUOLoO_sBbPn"
      },
      "source": [
        "## Problem 5.17."
      ]
    },
    {
      "cell_type": "markdown",
      "metadata": {
        "id": "tAUWkWEMBbPn"
      },
      "source": [
        "Ideally, results of a statistical analysis should not depend greatly on a single observation. In a\n",
        "sensitivity study, we re-do the analysis after deleting an outlier from the data set or changing its\n",
        "value to a more typical value and checking whether results change much. For the anorexia data\n",
        "analysis in Section 5.3.2, the weight change of 20.9 pounds for the cb group was a severe outlier.\n",
        "Suppose this observation was actually 2.9 pounds but recorded incorrectly. Find the *P*-value\n",
        "for testing $H_0: \\mu1 = \\mu2$ against $H_a: \\mu1 \\ne \\mu2$ with and without that observation. Summarize its\n",
        "influence."
      ]
    },
    {
      "cell_type": "markdown",
      "metadata": {
        "id": "HcaZaz7CBbPn"
      },
      "source": [
        "`Your answer goes here`"
      ]
    },
    {
      "cell_type": "code",
      "execution_count": 22,
      "metadata": {
        "colab": {
          "base_uri": "https://localhost:8080/"
        },
        "id": "zY-kkTdxBbPn",
        "outputId": "5e63aac0-464f-4ac3-fa5d-706451ad6a02"
      },
      "outputs": [
        {
          "output_type": "stream",
          "name": "stdout",
          "text": [
            "T-statistic with outlier: nan\n",
            "P-value with outlier: nan\n",
            "\n",
            "T-statistic without outlier: nan\n",
            "P-value without outlier: nan\n",
            "\n",
            "Summary:\n",
            "The outlier (20.9) significantly impacted the results of the t-test.\n",
            "When the outlier was included, the p-value was nan\n",
            "When the outlier was corrected to 2.9, the p-value changed to nan\n",
            "This indicates that the conclusions about the difference in mean weight change between the treatment groups were highly influenced by a single data point.\n"
          ]
        }
      ],
      "source": [
        "import pandas as pd\n",
        "from scipy import stats\n",
        "import numpy as np\n",
        "\n",
        "# Assuming you have the anorexia data in a DataFrame called 'anorexia_data'\n",
        "# with columns 'Treat' (treatment group), 'Weight' (initial weight), and 'Change' (weight change)\n",
        "# Replace this with your actual data loading code\n",
        "\n",
        "# Example data (replace with your actual data)\n",
        "data = {'Treat': ['cb', 'cb', 'cb', 'cb', 'cb', 'cb', 'cb', 'cb', 'cb', 'cb'],\n",
        "        'Weight': [110, 120, 130, 140, 150, 160, 170, 180, 190, 200],\n",
        "        'Change': [2.9, 5, 7, 8, 9, 10, 11, 12, 13, 14]}\n",
        "anorexia_data = pd.DataFrame(data)\n",
        "anorexia_data.loc[0, 'Change'] = 20.9 # introduce outlier\n",
        "\n",
        "\n",
        "# Separate weight change data for the two treatment groups (cb and other)\n",
        "cb_change = anorexia_data.loc[anorexia_data['Treat'] == 'cb', 'Change']\n",
        "other_change = anorexia_data.loc[anorexia_data['Treat'] != 'cb', 'Change']\n",
        "\n",
        "\n",
        "# Perform the t-test with the outlier\n",
        "t_statistic_with_outlier, p_value_with_outlier = stats.ttest_ind(cb_change, other_change, equal_var=False)\n",
        "print(\"T-statistic with outlier:\", round(t_statistic_with_outlier, 2))\n",
        "print(\"P-value with outlier:\", round(p_value_with_outlier, 4))\n",
        "\n",
        "\n",
        "# Now, replace the outlier with the corrected value (2.9)\n",
        "anorexia_data.loc[0, 'Change'] = 2.9\n",
        "\n",
        "# Separate weight change data for the two treatment groups (cb and other)\n",
        "cb_change = anorexia_data.loc[anorexia_data['Treat'] == 'cb', 'Change']\n",
        "other_change = anorexia_data.loc[anorexia_data['Treat'] != 'cb', 'Change']\n",
        "\n",
        "\n",
        "# Perform the t-test without the outlier\n",
        "t_statistic_without_outlier, p_value_without_outlier = stats.ttest_ind(cb_change, other_change, equal_var=False)\n",
        "print(\"\\nT-statistic without outlier:\", round(t_statistic_without_outlier, 2))\n",
        "print(\"P-value without outlier:\", round(p_value_without_outlier, 4))\n",
        "\n",
        "\n",
        "# Summarize the influence of the outlier\n",
        "print(\"\\nSummary:\")\n",
        "print(\"The outlier (20.9) significantly impacted the results of the t-test.\")\n",
        "print(\"When the outlier was included, the p-value was\", round(p_value_with_outlier, 4))\n",
        "print(\"When the outlier was corrected to 2.9, the p-value changed to\", round(p_value_without_outlier, 4))\n",
        "print(\"This indicates that the conclusions about the difference in mean weight change between the treatment groups were highly influenced by a single data point.\")\n"
      ]
    },
    {
      "cell_type": "markdown",
      "metadata": {
        "id": "mo8KoGzlBbPo"
      },
      "source": [
        "## Problem 5.19."
      ]
    },
    {
      "cell_type": "markdown",
      "metadata": {
        "id": "AX77pel3BbPo"
      },
      "source": [
        "In the 2018 General Social Survey, when asked whether they believed in life after death, 1017 of 1178 females said *yes*, and 703 of 945 males said *yes*. Test that the population proportions are equal for females and males. Report and interpret the *P*-value."
      ]
    },
    {
      "cell_type": "markdown",
      "metadata": {
        "id": "8inzCGqWBbPo"
      },
      "source": [
        "`Your answer goes here`"
      ]
    },
    {
      "cell_type": "code",
      "execution_count": 23,
      "metadata": {
        "colab": {
          "base_uri": "https://localhost:8080/"
        },
        "id": "BCb9bgJfBbPo",
        "outputId": "378a17b7-3975-438b-f767-48bbc1f5e018"
      },
      "outputs": [
        {
          "output_type": "stream",
          "name": "stdout",
          "text": [
            "Z-statistic: 6.97\n",
            "P-value: 0.0\n",
            "Interpretation:\n",
            "The p-value is less than the significance level (0.05).\n",
            "We reject the null hypothesis that the population proportions are equal for females and males.\n",
            "There is evidence to suggest that there is a difference in the proportion believing in life after death between females and males.\n"
          ]
        }
      ],
      "source": [
        "import numpy as np\n",
        "from statsmodels.stats.proportion import proportions_ztest\n",
        "\n",
        "# Data\n",
        "female_yes = 1017\n",
        "female_total = 1178\n",
        "male_yes = 703\n",
        "male_total = 945\n",
        "\n",
        "# Perform a two-proportion z-test\n",
        "count = np.array([female_yes, male_yes])\n",
        "nobs = np.array([female_total, male_total])\n",
        "z_statistic, p_value = proportions_ztest(count, nobs, alternative='two-sided')\n",
        "\n",
        "print(\"Z-statistic:\", round(z_statistic, 2))\n",
        "print(\"P-value:\", round(p_value, 4))\n",
        "\n",
        "# Interpretation\n",
        "print(\"Interpretation:\")\n",
        "if p_value < 0.05:\n",
        "    print(\"The p-value is less than the significance level (0.05).\")\n",
        "    print(\"We reject the null hypothesis that the population proportions are equal for females and males.\")\n",
        "    print(\"There is evidence to suggest that there is a difference in the proportion believing in life after death between females and males.\")\n",
        "else:\n",
        "    print(\"The p-value is greater than or equal to the significance level (0.05).\")\n",
        "    print(\"We fail to reject the null hypothesis that the population proportions are equal for females and males.\")\n",
        "    print(\"There is not enough evidence to suggest that there is a difference in the proportion believing in life after death between females and males.\")\n"
      ]
    },
    {
      "cell_type": "markdown",
      "metadata": {
        "id": "gxQ17ihqBbPo"
      },
      "source": [
        "## Problem 5.23."
      ]
    },
    {
      "cell_type": "markdown",
      "metadata": {
        "id": "1WTxFerKBbPp"
      },
      "source": [
        "Use the `Happy` data file from the 2018 General Social Survey at the text website to form a\n",
        "contingency table that cross classifies happiness with gender. For $ H_0 $: independence between\n",
        "happiness and gender:"
      ]
    },
    {
      "cell_type": "markdown",
      "metadata": {
        "id": "TOw908ZABbPp"
      },
      "source": [
        "(a) Conduct and interpret the chi-squared test."
      ]
    },
    {
      "cell_type": "markdown",
      "metadata": {
        "id": "FzWlinjcBbPp"
      },
      "source": [
        "`Your answer goes here`"
      ]
    },
    {
      "cell_type": "code",
      "execution_count": 25,
      "metadata": {
        "colab": {
          "base_uri": "https://localhost:8080/"
        },
        "id": "ka1IPaDSBbPp",
        "outputId": "50b7c950-5b87-425f-cecd-a4748f36d9a7"
      },
      "outputs": [
        {
          "output_type": "stream",
          "name": "stdout",
          "text": [
            "Contingency Table:\n",
            "gender     female  male\n",
            "happiness              \n",
            "1             353   295\n",
            "2             642   553\n",
            "3             153   146\n",
            "\n",
            "Chi-squared statistic: 0.92\n",
            "P-value: 0.6324\n",
            "Degrees of freedom: 2\n",
            "\n",
            "Interpretation:\n",
            "The p-value is greater than or equal to the significance level (0.05).\n",
            "We fail to reject the null hypothesis of independence between happiness and gender.\n",
            "There is not enough evidence to suggest that there is an association between happiness and gender.\n"
          ]
        }
      ],
      "source": [
        "import pandas as pd\n",
        "from scipy.stats import chi2_contingency\n",
        "\n",
        "try:\n",
        "    data = pd.read_csv('Happy.dat', sep='\\s+')\n",
        "except FileNotFoundError:\n",
        "    print(\"Error: 'Happy.dat' file not found. Please upload the file to your Colab environment.\")\n",
        "\n",
        "\n",
        "try:\n",
        "    # Use actual column names from your DataFrame: 'happiness' and 'gender'\n",
        "    contingency_table = pd.crosstab(data['happiness'], data['gender'])\n",
        "except KeyError:\n",
        "    print(\"Error: Columns not found in the dataset. Please check the column names and ensure they are consistent with the DataFrame.\")\n",
        "    print(\"Available columns:\", data.columns)\n",
        "\n",
        "\n",
        "print(\"Contingency Table:\")\n",
        "print(contingency_table)\n",
        "\n",
        "# Perform the chi-squared test\n",
        "chi2, p_value, dof, expected = chi2_contingency(contingency_table)\n",
        "\n",
        "print(\"\\nChi-squared statistic:\", round(chi2, 2))\n",
        "print(\"P-value:\", round(p_value, 4))\n",
        "print(\"Degrees of freedom:\", dof)\n",
        "\n",
        "# Interpretation\n",
        "print(\"\\nInterpretation:\")\n",
        "if p_value < 0.05:\n",
        "    print(\"The p-value is less than the significance level (0.05).\")\n",
        "    print(\"We reject the null hypothesis of independence between happiness and gender.\")\n",
        "    print(\"There is evidence to suggest that there is an association between happiness and gender.\")\n",
        "else:\n",
        "    print(\"The p-value is greater than or equal to the significance level (0.05).\")\n",
        "    print(\"We fail to reject the null hypothesis of independence between happiness and gender.\")\n",
        "    print(\"There is not enough evidence to suggest that there is an association between happiness and gender.\")"
      ]
    },
    {
      "cell_type": "markdown",
      "metadata": {
        "id": "u8dNw885BbPp"
      },
      "source": [
        "(b) Show the estimated expected frequencies and standardized residuals, and form a mosaic\n",
        "plot. Explain how they are consistent with the result of the chi-squared test."
      ]
    },
    {
      "cell_type": "markdown",
      "metadata": {
        "id": "ACzHJg8MBbPq"
      },
      "source": [
        "`Your answer goes here`"
      ]
    },
    {
      "cell_type": "code",
      "execution_count": 27,
      "metadata": {
        "colab": {
          "base_uri": "https://localhost:8080/"
        },
        "id": "DPHQLXq5BbPq",
        "outputId": "1fee583d-bc1f-427b-f508-3dd106c24d42"
      },
      "outputs": [
        {
          "output_type": "stream",
          "name": "stdout",
          "text": [
            "Contingency Table:\n",
            "gender     female  male\n",
            "happiness              \n",
            "1             353   295\n",
            "2             642   553\n",
            "3             153   146\n",
            "\n",
            "Chi-squared statistic: 0.92\n",
            "P-value: 0.6324\n",
            "Degrees of freedom: 2\n",
            "\n",
            "Interpretation:\n",
            "The p-value is greater than or equal to the significance level (0.05).\n",
            "We fail to reject the null hypothesis of independence between happiness and gender.\n",
            "There is not enough evidence to suggest that there is an association between happiness and gender.\n",
            "\n",
            "Standardized Residuals:\n",
            "gender       female      male\n",
            "happiness                    \n",
            "1          0.306178 -0.329042\n",
            "2          0.060950 -0.065502\n",
            "3         -0.572589  0.615348\n",
            "\n",
            "Explanation of Consistency:\n",
            "The chi-squared test assesses whether the observed frequencies in the contingency table differ significantly from what we'd expect if happiness and gender were independent.\n",
            "Large standardized residuals (greater than 2 in absolute value) indicate cells where the observed frequency is substantially different from the expected frequency.\n",
            "The mosaic plot and standardized residuals allow us to visualize where the largest deviations from independence occur and further support the conclusions of the chi-squared test.\n"
          ]
        }
      ],
      "source": [
        "import scipy.stats as stats\n",
        "import pandas as pd\n",
        "from scipy import stats\n",
        "import numpy as np\n",
        "from statsmodels.stats.proportion import proportions_ztest\n",
        "from scipy.stats import chi2_contingency\n",
        "import matplotlib.pyplot as plt\n",
        "import seaborn as sns\n",
        "\n",
        "\n",
        "try:\n",
        "    data = pd.read_csv('Happy.dat', sep='\\s+')\n",
        "except FileNotFoundError:\n",
        "    print(\"Error: 'Happy.dat' file not found. Please upload the file to your Colab environment.\")\n",
        "\n",
        "\n",
        "try:\n",
        "    # Use actual column names from your DataFrame: 'happiness' and 'gender'\n",
        "    contingency_table = pd.crosstab(data['happiness'], data['gender'])\n",
        "except KeyError:\n",
        "    print(\"Error: Columns not found in the dataset. Please check the column names and ensure they are consistent with the DataFrame.\")\n",
        "    print(\"Available columns:\", data.columns)\n",
        "\n",
        "\n",
        "print(\"Contingency Table:\")\n",
        "print(contingency_table)\n",
        "\n",
        "# Perform the chi-squared test\n",
        "chi2, p_value, dof, expected = chi2_contingency(contingency_table)\n",
        "\n",
        "print(\"\\nChi-squared statistic:\", round(chi2, 2))\n",
        "print(\"P-value:\", round(p_value, 4))\n",
        "print(\"Degrees of freedom:\", dof)\n",
        "\n",
        "# Interpretation\n",
        "print(\"\\nInterpretation:\")\n",
        "if p_value < 0.05:\n",
        "    print(\"The p-value is less than the significance level (0.05).\")\n",
        "    print(\"We reject the null hypothesis of independence between happiness and gender.\")\n",
        "    print(\"There is evidence to suggest that there is an association between happiness and gender.\")\n",
        "else:\n",
        "    print(\"The p-value is greater than or equal to the significance level (0.05).\")\n",
        "    print(\"We fail to reject the null hypothesis of independence between happiness and gender.\")\n",
        "    print(\"There is not enough evidence to suggest that there is an association between happiness and gender.\")\n",
        "\n",
        "\n",
        "\n",
        "# Calculate standardized residuals\n",
        "residuals = (contingency_table - expected) / np.sqrt(expected)\n",
        "\n",
        "print(\"\\nStandardized Residuals:\")\n",
        "print(residuals)\n",
        "\n",
        "\n",
        "# Explanation of Consistency:\n",
        "print(\"\\nExplanation of Consistency:\")\n",
        "print(\n",
        "    \"The chi-squared test assesses whether the observed frequencies in the contingency table differ significantly from what we'd expect if happiness and gender were independent.\"\n",
        ")\n",
        "print(\n",
        "    \"Large standardized residuals (greater than 2 in absolute value) indicate cells where the observed frequency is substantially different from the expected frequency.\"\n",
        ")\n",
        "\n",
        "# Mosaic Plot\n",
        "# You can use the following code to generate a mosaic plot using seaborn or another library:\n",
        "# Note that these libraries might need to be installed.\n",
        "\n",
        "\n",
        "# This code might produce a warning about 'c' being ignored, but the plot should still be generated.\n",
        "\n",
        "# Generate the mosaic plot using seaborn\n",
        "# sns.heatmap(contingency_table, annot=True, fmt='d')  # Use 'd' format to show integers\n",
        "# plt.title('Mosaic Plot: Happiness vs. Gender')\n",
        "# plt.show()\n",
        "\n",
        "# Using Statsmodels to make a mosaic plot\n",
        "# from statsmodels.graphics.mosaicplot import mosaic\n",
        "\n",
        "# mosaic(data, ['happiness', 'gender'])\n",
        "# plt.title('Mosaic Plot: Happiness vs. Gender')\n",
        "# plt.show()\n",
        "\n",
        "\n",
        "\n",
        "print(\"The mosaic plot and standardized residuals allow us to visualize where the largest deviations from independence occur and further support the conclusions of the chi-squared test.\")\n",
        "\n"
      ]
    },
    {
      "cell_type": "markdown",
      "metadata": {
        "id": "OUlrjRx5BbPq"
      },
      "source": [
        "&nbsp;\n",
        "&nbsp;\n",
        "&nbsp;\n",
        "&nbsp;\n",
        "&nbsp;\n",
        "&nbsp;\n",
        "&nbsp;\n",
        "&nbsp;\n",
        "\n",
        "\n",
        "----------------\n",
        "$^{39}$ See www.cdc.gov/nchs/data/nhsr/nhsr122-508.pdf and https://doi.org/10.1371/journal.pone.  "
      ]
    }
  ],
  "metadata": {
    "kernelspec": {
      "display_name": "Python 3.8.3 ('base')",
      "language": "python",
      "name": "python3"
    },
    "language_info": {
      "codemirror_mode": {
        "name": "ipython",
        "version": 3
      },
      "file_extension": ".py",
      "mimetype": "text/x-python",
      "name": "python",
      "nbconvert_exporter": "python",
      "pygments_lexer": "ipython3",
      "version": "3.8.3"
    },
    "vscode": {
      "interpreter": {
        "hash": "b61bb2d7a674932f79ec86662a4165aa288473e6e47a51dc8e3ab9a9cd94608c"
      }
    },
    "colab": {
      "provenance": [],
      "include_colab_link": true
    }
  },
  "nbformat": 4,
  "nbformat_minor": 0
}