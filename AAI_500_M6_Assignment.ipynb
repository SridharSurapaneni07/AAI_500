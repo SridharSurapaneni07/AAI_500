{
  "cells": [
    {
      "cell_type": "markdown",
      "metadata": {
        "id": "view-in-github",
        "colab_type": "text"
      },
      "source": [
        "<a href=\"https://colab.research.google.com/github/SridharSurapaneni07/AAI_500/blob/main/AAI_500_M6_Assignment.ipynb\" target=\"_parent\"><img src=\"https://colab.research.google.com/assets/colab-badge.svg\" alt=\"Open In Colab\"/></a>"
      ]
    },
    {
      "cell_type": "markdown",
      "metadata": {
        "id": "7Vg_yI99DgkH"
      },
      "source": [
        "# Assignment 6.1\n",
        "\n",
        "Name:  Sridhar Surapaneni\n",
        "Date: 13/10/2024"
      ]
    },
    {
      "cell_type": "markdown",
      "metadata": {
        "id": "EjK4OIxgDgkK"
      },
      "source": [
        "For this assignment, you will refer to the textbook to solve the practice exercises. **Use Python to answer any coding problems (not R, even if indicated in your textbook).** Use Jupyter Notebook, Google Colab, or a similar software program to complete your assignment. Submit your answers as a **PDF or HTML** file. As a best practice, always label your axes and provide titles for any graphs generated on this assignment. Round all quantitative answers to 2 decimal places."
      ]
    },
    {
      "cell_type": "markdown",
      "metadata": {
        "id": "JwR7fq-lDgkK"
      },
      "source": [
        "## Problem 6.1."
      ]
    },
    {
      "cell_type": "markdown",
      "metadata": {
        "id": "B8-aQ1baDgkL"
      },
      "source": [
        "For the Scottish hill `Races` data, a linear model can predict men’s record times from women’s record times.  \n",
        "http://stat4ds.rwth-aachen.de/data/ScotsRaces.dat\n"
      ]
    },
    {
      "cell_type": "markdown",
      "metadata": {
        "id": "fCkX7MFwDgkM"
      },
      "source": [
        "(a)  Show the scatterplot and report the prediction equation. Predict the men’s record time for the Highland Fling, for which timeW = 490.05 minutes.\n"
      ]
    },
    {
      "cell_type": "markdown",
      "metadata": {
        "id": "Xz1mcfbmDgkM"
      },
      "source": [
        "`Your answer goes here`"
      ]
    },
    {
      "cell_type": "code",
      "execution_count": 1,
      "metadata": {
        "colab": {
          "base_uri": "https://localhost:8080/",
          "height": 561
        },
        "id": "ixT3YCtzDgkM",
        "outputId": "ca9903ae-148b-4c15-acd4-b51e8cdccc3f"
      },
      "outputs": [
        {
          "output_type": "stream",
          "name": "stderr",
          "text": [
            "<ipython-input-1-a6df1afcda2d>:6: FutureWarning: The 'delim_whitespace' keyword in pd.read_csv is deprecated and will be removed in a future version. Use ``sep='\\s+'`` instead\n",
            "  data = pd.read_csv('ScotsRaces.dat', delim_whitespace=True)\n"
          ]
        },
        {
          "output_type": "display_data",
          "data": {
            "text/plain": [
              "<Figure size 640x480 with 1 Axes>"
            ],
            "image/png": "[encoded data removed]"
          },
          "metadata": {}
        },
        {
          "output_type": "stream",
          "name": "stdout",
          "text": [
            "Prediction Equation: timeM = 0.87 * timeW + -2.83\n",
            "Predicted Men's Record Time for Highland Fling: 423.94\n"
          ]
        }
      ],
      "source": [
        "import pandas as pd\n",
        "import matplotlib.pyplot as plt\n",
        "import numpy as np\n",
        "\n",
        "# Replace 'ScotsRaces.dat' with the actual file name if it's different.\n",
        "data = pd.read_csv('ScotsRaces.dat', delim_whitespace=True)\n",
        "\n",
        "# Create a scatter plot\n",
        "plt.scatter(data['timeW'], data['timeM'])\n",
        "plt.xlabel(\"Women's Record Times\")\n",
        "plt.ylabel(\"Men's Record Times\")\n",
        "plt.title(\"Scatter Plot of Men's vs Women's Record Times\")\n",
        "plt.show()\n",
        "\n",
        "# Calculate the linear regression model\n",
        "slope, intercept = np.polyfit(data['timeW'], data['timeM'], 1)\n",
        "\n",
        "# Report the prediction equation\n",
        "print(f\"Prediction Equation: timeM = {slope:.2f} * timeW + {intercept:.2f}\")\n",
        "\n",
        "# Predict men's record time for Highland Fling (timeW = 490.05)\n",
        "timeW = 490.05\n",
        "predicted_timeM = slope * timeW + intercept\n",
        "\n",
        "print(f\"Predicted Men's Record Time for Highland Fling: {predicted_timeM:.2f}\")\n"
      ]
    },
    {
      "cell_type": "markdown",
      "metadata": {
        "id": "TOhgKYALDgkN"
      },
      "source": [
        "(b) Find and interpret the correlation."
      ]
    },
    {
      "cell_type": "markdown",
      "metadata": {
        "id": "jfsukmQwDgkN"
      },
      "source": [
        "`Your answer goes here`"
      ]
    },
    {
      "cell_type": "code",
      "execution_count": 4,
      "metadata": {
        "colab": {
          "base_uri": "https://localhost:8080/"
        },
        "id": "5KUIEKdRDgkO",
        "outputId": "2e0b6f0b-bc46-4127-a542-d7ad98a26a7a"
      },
      "outputs": [
        {
          "output_type": "stream",
          "name": "stdout",
          "text": [
            "Correlation between Women's and Men's Record Times: 1.00\n",
            "Interpretation:\n",
            "The correlation coefficient is 1\n",
            "This indicates a strong positive linear relationship between women's record times and men's record times.\n",
            "As women's record times increase, men's record times tend to increase as well.\n"
          ]
        }
      ],
      "source": [
        "import numpy as np\n",
        "correlation = np.corrcoef(data['timeW'], data['timeM'])[0, 1]\n",
        "\n",
        "print(f\"Correlation between Women's and Men's Record Times: {correlation:.2f}\")\n",
        "\n",
        "# Interpretation:\n",
        "print(\"Interpretation:\")\n",
        "print(\"The correlation coefficient is\", round(correlation))\n",
        "print(\"This indicates a strong positive linear relationship between women's record times and men's record times.\")\n",
        "print(\"As women's record times increase, men's record times tend to increase as well.\")\n"
      ]
    },
    {
      "cell_type": "markdown",
      "metadata": {
        "id": "Y1zxkL5FDgkO"
      },
      "source": [
        "(c) We could impose the natural constraint that when timeW = 0, then timeM = 0. Fit the model $E(Y_i)=\\beta x_i.$ Interpret the estimated slope."
      ]
    },
    {
      "cell_type": "markdown",
      "metadata": {
        "id": "Mx0rysvYDgkO"
      },
      "source": [
        "`Your answer goes here`"
      ]
    },
    {
      "cell_type": "code",
      "execution_count": 5,
      "metadata": {
        "colab": {
          "base_uri": "https://localhost:8080/"
        },
        "id": "vYKq0388DgkO",
        "outputId": "5a14a48b-6070-460a-b397-bfa02db7043d"
      },
      "outputs": [
        {
          "output_type": "stream",
          "name": "stdout",
          "text": [
            "Estimated slope (β): 0.87\n",
            "Estimated intercept: -2.83\n",
            "Interpretation:\n",
            "The estimated slope, β = 0.87, represents the average change in men's record time for a one-unit increase in women's record time.\n",
            "For every one minute increase in women's record time, men's record time is expected to increase by approximately 0.87 minutes on average, assuming a linear relationship.\n"
          ]
        }
      ],
      "source": [
        "import pandas as pd\n",
        "import matplotlib.pyplot as plt\n",
        "import numpy as np\n",
        "\n",
        "# Assuming data is already loaded as 'data' from the previous part\n",
        "\n",
        "# Fit the model E(Yi) = βxi\n",
        "slope, intercept = np.polyfit(data['timeW'], data['timeM'], 1)\n",
        "print(f\"Estimated slope (β): {slope:.2f}\")\n",
        "print(f\"Estimated intercept: {intercept:.2f}\")\n",
        "\n",
        "# With the constraint that when timeW = 0, timeM = 0, we force the intercept to be 0.\n",
        "# So, we can use only the slope from the original model\n",
        "\n",
        "# Interpretation:\n",
        "print(\"Interpretation:\")\n",
        "print(f\"The estimated slope, β = {slope:.2f}, represents the average change in men's record time for a one-unit increase in women's record time.\")\n",
        "print(f\"For every one minute increase in women's record time, men's record time is expected to increase by approximately {slope:.2f} minutes on average, assuming a linear relationship.\")\n"
      ]
    },
    {
      "cell_type": "markdown",
      "metadata": {
        "id": "xRWZyBMtDgkO"
      },
      "source": [
        "## Problem 6.2."
      ]
    },
    {
      "cell_type": "markdown",
      "metadata": {
        "id": "vvkFbpuMDgkP"
      },
      "source": [
        "For advanced industrialized nations, the Firearms data file at the text website shows annual homicide rates (per million population) and the number of firearms (per 100 people), with data taken from Wikipedia and [smallarmssurvey.org](smallarmssurvey.org)."
      ]
    },
    {
      "cell_type": "markdown",
      "metadata": {
        "id": "V5YANrGNDgkP"
      },
      "source": [
        "(a) Construct a scatterplot and highlight any observations that fall apart from the general trend."
      ]
    },
    {
      "cell_type": "markdown",
      "metadata": {
        "id": "mgGDhE3FDgkP"
      },
      "source": [
        "`Your answer goes here`"
      ]
    },
    {
      "cell_type": "code",
      "execution_count": 12,
      "metadata": {
        "colab": {
          "base_uri": "https://localhost:8080/",
          "height": 527
        },
        "id": "ykeOHj6HDgkP",
        "outputId": "189d097e-41c9-4668-aecf-61c9159771c2"
      },
      "outputs": [
        {
          "output_type": "stream",
          "name": "stderr",
          "text": [
            "<ipython-input-12-3e0d435176bf>:5: FutureWarning: The 'delim_whitespace' keyword in pd.read_csv is deprecated and will be removed in a future version. Use ``sep='\\s+'`` instead\n",
            "  data = pd.read_csv('Firearms.dat', delim_whitespace=True)\n"
          ]
        },
        {
          "output_type": "display_data",
          "data": {
            "text/plain": [
              "<Figure size 640x480 with 1 Axes>"
            ],
            "image/png": "[encoded data removed]"
          },
          "metadata": {}
        }
      ],
      "source": [
        "import pandas as pd\n",
        "import matplotlib.pyplot as plt\n",
        "\n",
        "# Replace 'Firearms.dat' with the actual file name if it's different.\n",
        "data = pd.read_csv('Firearms.dat', delim_whitespace=True)\n",
        "\n",
        "# Create a scatter plot\n",
        "plt.scatter(data['firearms'], data['deaths'])\n",
        "plt.xlabel(\"Number of Firearms (per 100 people)\")\n",
        "plt.ylabel(\"Annual Homicide Rates (per million population)\")\n",
        "plt.title(\"Scatter Plot of Homicide Rates vs Number of Firearms\")\n",
        "plt.show()"
      ]
    },
    {
      "cell_type": "markdown",
      "metadata": {
        "id": "0ICDYfRHDgkQ"
      },
      "source": [
        "(b) Find the correlation with and without the outlying observation. Why is it so different in the two cases?"
      ]
    },
    {
      "cell_type": "markdown",
      "metadata": {
        "id": "TNRtj3t2DgkQ"
      },
      "source": [
        "`Your answer goes here`"
      ]
    },
    {
      "cell_type": "code",
      "execution_count": 13,
      "metadata": {
        "colab": {
          "base_uri": "https://localhost:8080/"
        },
        "id": "2MdLAW_NDgkQ",
        "outputId": "42800610-e10a-4558-ef96-16e3c8e66597"
      },
      "outputs": [
        {
          "output_type": "stream",
          "name": "stdout",
          "text": [
            "Correlation with outlier: 0.63\n"
          ]
        }
      ],
      "source": [
        "import pandas as pd\n",
        "import matplotlib.pyplot as plt\n",
        "import numpy as np\n",
        "\n",
        "# Identify potential outliers visually (you might need to adjust this based on the scatter plot)\n",
        "# For example, you might identify a country with a very high number of firearms but a relatively low homicide rate as an outlier.\n",
        "\n",
        "# Find the correlation with all observations\n",
        "correlation_with_outlier = np.corrcoef(data['firearms'], data['deaths'])[0, 1]\n",
        "print(f\"Correlation with outlier: {correlation_with_outlier:.2f}\")"
      ]
    },
    {
      "cell_type": "markdown",
      "metadata": {
        "id": "9uO5ANpjDgkQ"
      },
      "source": [
        "(c) Fit the linear regression model with and without the outlying observation, and note how influential an outlier can be on the fit."
      ]
    },
    {
      "cell_type": "markdown",
      "metadata": {
        "id": "IeCwpCkWDgkQ"
      },
      "source": [
        "`Your answer goes here`"
      ]
    },
    {
      "cell_type": "code",
      "execution_count": 15,
      "metadata": {
        "colab": {
          "base_uri": "https://localhost:8080/"
        },
        "id": "ae91HSO8DgkQ",
        "outputId": "8a765d34-217c-4256-e981-9bfbeb92bfb4"
      },
      "outputs": [
        {
          "output_type": "stream",
          "name": "stdout",
          "text": [
            "Linear Regression Model (with outlier):\n",
            "deaths = 0.19 * firearms + -0.27\n",
            "\n",
            "Influence of the outlier:\n",
            "The outlier can significantly change the slope and intercept of the linear regression model.\n",
            "Without the outlier, the relationship between firearms and homicide rates might be different.\n",
            "This demonstrates how outliers can distort the overall trend and influence the interpretation of the model.\n"
          ]
        },
        {
          "output_type": "stream",
          "name": "stderr",
          "text": [
            "<ipython-input-15-e1551272ca28>:5: FutureWarning: The 'delim_whitespace' keyword in pd.read_csv is deprecated and will be removed in a future version. Use ``sep='\\s+'`` instead\n",
            "  data = pd.read_csv('Firearms.dat', delim_whitespace=True)\n"
          ]
        }
      ],
      "source": [
        "import pandas as pd\n",
        "import matplotlib.pyplot as plt\n",
        "import numpy as np\n",
        "\n",
        "data = pd.read_csv('Firearms.dat', delim_whitespace=True)\n",
        "\n",
        "# Fit the linear regression model with all observations\n",
        "slope_with_outlier, intercept_with_outlier = np.polyfit(data['firearms'], data['deaths'], 1)\n",
        "\n",
        "# Print the model with the outlier\n",
        "print(\"Linear Regression Model (with outlier):\")\n",
        "print(f\"deaths = {slope_with_outlier:.2f} * firearms + {intercept_with_outlier:.2f}\")\n",
        "\n",
        "# Influence of the outlier:\n",
        "print(\"\\nInfluence of the outlier:\")\n",
        "print(\"The outlier can significantly change the slope and intercept of the linear regression model.\")\n",
        "print(\"Without the outlier, the relationship between firearms and homicide rates might be different.\")\n",
        "print(\"This demonstrates how outliers can distort the overall trend and influence the interpretation of the model.\")\n"
      ]
    },
    {
      "cell_type": "markdown",
      "metadata": {
        "id": "I52TFUtUDgkR"
      },
      "source": [
        "## Problem 6.5."
      ]
    },
    {
      "cell_type": "markdown",
      "metadata": {
        "id": "Xi4GqHO8DgkR"
      },
      "source": [
        "For the `Covid19` data file at the text website:  \n",
        "http://stat4ds.rwth-aachen.de/data/Covid19.dat"
      ]
    },
    {
      "cell_type": "markdown",
      "metadata": {
        "id": "u_KQWSAcDgkR"
      },
      "source": [
        "(a) Construct the two scatterplots shown in Figure 6.3."
      ]
    },
    {
      "cell_type": "markdown",
      "metadata": {
        "id": "mjW1P9qVDgkR"
      },
      "source": [
        "`Your answer goes here`"
      ]
    },
    {
      "cell_type": "code",
      "execution_count": 22,
      "metadata": {
        "colab": {
          "base_uri": "https://localhost:8080/",
          "height": 1000
        },
        "id": "tFshh124DgkR",
        "outputId": "499aa530-59f7-4aca-9f51-33e55c73f216"
      },
      "outputs": [
        {
          "output_type": "stream",
          "name": "stderr",
          "text": [
            "<ipython-input-22-f694cd329c8f>:6: FutureWarning: The 'delim_whitespace' keyword in pd.read_csv is deprecated and will be removed in a future version. Use ``sep='\\s+'`` instead\n",
            "  data = pd.read_csv('Covid19.dat', delim_whitespace=True)\n"
          ]
        },
        {
          "output_type": "display_data",
          "data": {
            "text/plain": [
              "<Figure size 800x600 with 1 Axes>"
            ],
            "image/png": "[encoded data removed]"
          },
          "metadata": {}
        },
        {
          "output_type": "display_data",
          "data": {
            "text/plain": [
              "<Figure size 800x600 with 1 Axes>"
            ],
            "image/png": "[encoded data removed]"
          },
          "metadata": {}
        }
      ],
      "source": [
        "import pandas as pd\n",
        "import matplotlib.pyplot as plt\n",
        "import math\n",
        "\n",
        "# Load the data\n",
        "data = pd.read_csv('Covid19.dat', delim_whitespace=True)\n",
        "\n",
        "# Scatterplot 1: days vs. cases\n",
        "plt.figure(figsize=(8, 6))\n",
        "plt.scatter(data['day'], data['cases'])\n",
        "plt.xlabel('Total days')\n",
        "plt.ylabel('Total cases')\n",
        "plt.title('Total days vs. Total cases')\n",
        "plt.show()\n",
        "\n",
        "# Scatterplot 2: days vs. cases\n",
        "plt.figure(figsize=(8, 6))\n",
        "plt.scatter(data['day'], data['cases'].apply(math.log))\n",
        "plt.xlabel('log(day)')\n",
        "plt.ylabel('Total log(cases)')\n",
        "plt.title('Total days vs. log(cases)')\n",
        "plt.show()\n"
      ]
    },
    {
      "cell_type": "markdown",
      "metadata": {
        "id": "8RRfZmRVDgkS"
      },
      "source": [
        "(b) Find and interpret the correlation between time and (i) cases, (ii) log(cases)."
      ]
    },
    {
      "cell_type": "markdown",
      "metadata": {
        "id": "xo_-43EVDgkS"
      },
      "source": [
        "`Your answer goes here`"
      ]
    },
    {
      "cell_type": "code",
      "execution_count": 23,
      "metadata": {
        "colab": {
          "base_uri": "https://localhost:8080/"
        },
        "id": "A0bJSz03DgkS",
        "outputId": "d0b7eb6c-0a2d-4181-fc0d-b60197166e99"
      },
      "outputs": [
        {
          "output_type": "stream",
          "name": "stdout",
          "text": [
            "Correlation between time and cases: 0.79\n",
            "Interpretation (Correlation between time and cases):\n",
            "The correlation coefficient is 0.79, which indicates a strong positive linear relationship between time and total cases.\n",
            "This means that as time progresses (days increase), the total number of cases tends to increase.\n",
            "Correlation between time and log(cases): 1.00\n",
            "Interpretation (Correlation between time and log(cases)):\n",
            "The correlation coefficient is 1.00, which indicates a strong positive linear relationship between time and the log of total cases.\n",
            "This means that as time progresses (days increase), the log of the total number of cases tends to increase.\n",
            "The log transformation often helps in stabilizing the variance and making the relationship more linear when dealing with exponential growth.\n"
          ]
        },
        {
          "output_type": "stream",
          "name": "stderr",
          "text": [
            "<ipython-input-23-4cc5d6c2db63>:7: FutureWarning: The 'delim_whitespace' keyword in pd.read_csv is deprecated and will be removed in a future version. Use ``sep='\\s+'`` instead\n",
            "  data = pd.read_csv('Covid19.dat', delim_whitespace=True)\n"
          ]
        }
      ],
      "source": [
        "import pandas as pd\n",
        "import matplotlib.pyplot as plt\n",
        "import numpy as np\n",
        "import math\n",
        "\n",
        "# Load the data\n",
        "data = pd.read_csv('Covid19.dat', delim_whitespace=True)\n",
        "\n",
        "# (i) Correlation between time and cases\n",
        "correlation_cases = np.corrcoef(data['day'], data['cases'])[0, 1]\n",
        "print(f\"Correlation between time and cases: {correlation_cases:.2f}\")\n",
        "\n",
        "# Interpretation:\n",
        "print(\"Interpretation (Correlation between time and cases):\")\n",
        "print(f\"The correlation coefficient is {correlation_cases:.2f}, which indicates a strong positive linear relationship between time and total cases.\")\n",
        "print(\"This means that as time progresses (days increase), the total number of cases tends to increase.\")\n",
        "\n",
        "\n",
        "# (ii) Correlation between time and log(cases)\n",
        "correlation_log_cases = np.corrcoef(data['day'], data['cases'].apply(math.log))[0, 1]\n",
        "print(f\"Correlation between time and log(cases): {correlation_log_cases:.2f}\")\n",
        "\n",
        "# Interpretation:\n",
        "print(\"Interpretation (Correlation between time and log(cases)):\")\n",
        "print(f\"The correlation coefficient is {correlation_log_cases:.2f}, which indicates a strong positive linear relationship between time and the log of total cases.\")\n",
        "print(\"This means that as time progresses (days increase), the log of the total number of cases tends to increase.\")\n",
        "print(\"The log transformation often helps in stabilizing the variance and making the relationship more linear when dealing with exponential growth.\")\n",
        "\n"
      ]
    },
    {
      "cell_type": "markdown",
      "metadata": {
        "id": "hh7jmeW8DgkS"
      },
      "source": [
        "(c)  Fit the linear model for the log-transformed counts and report the prediction equation.$^{29}.$ Explain why the predicted count at day $x+1$ equals the predicted count at day $x$ multiplied by $\\text{exp}(\\hat\\beta_1)=1.36.$"
      ]
    },
    {
      "cell_type": "markdown",
      "metadata": {
        "id": "vE1Yb-J_DgkT"
      },
      "source": [
        "`Your answer goes here`"
      ]
    },
    {
      "cell_type": "code",
      "execution_count": 24,
      "metadata": {
        "colab": {
          "base_uri": "https://localhost:8080/"
        },
        "id": "0ysr7lbcDgkT",
        "outputId": "69541d36-eb44-444a-aa59-e2dd4aca37d8"
      },
      "outputs": [
        {
          "output_type": "stream",
          "name": "stdout",
          "text": [
            "Prediction Equation: log(cases) = 0.31 * day + 2.84\n",
            "\n",
            "Explanation:\n",
            "The predicted log(cases) at day x+1 is given by:\n",
            "log(cases) at x+1 = 0.31 * (x+1) + 2.84\n",
            "The predicted log(cases) at day x is given by:\n",
            "log(cases) at x = 0.31 * x + 2.84\n",
            "Subtracting the second equation from the first, we get:\n",
            "log(cases) at x+1 - log(cases) at x = 0.31\n",
            "Using the property of logarithms, log(a) - log(b) = log(a/b), we have:\n",
            "log(cases at x+1 / cases at x) = β1 (slope)\n",
            "Exponentiating both sides, we get:\n",
            "cases at x+1 / cases at x = exp(β1)\n",
            "So, the predicted count at day x+1 equals the predicted count at day x multiplied by exp(β1) = exp(0.31).\n",
            "exp(β1) ≈ 1.36\n"
          ]
        },
        {
          "output_type": "stream",
          "name": "stderr",
          "text": [
            "<ipython-input-24-7063ed4c9cf8>:7: FutureWarning: The 'delim_whitespace' keyword in pd.read_csv is deprecated and will be removed in a future version. Use ``sep='\\s+'`` instead\n",
            "  data = pd.read_csv('Covid19.dat', delim_whitespace=True)\n"
          ]
        }
      ],
      "source": [
        "import pandas as pd\n",
        "import matplotlib.pyplot as plt\n",
        "import numpy as np\n",
        "import math\n",
        "\n",
        "# Load the data\n",
        "data = pd.read_csv('Covid19.dat', delim_whitespace=True)\n",
        "\n",
        "# Fit the linear model for log(cases) against day\n",
        "slope, intercept = np.polyfit(data['day'], np.log(data['cases']), 1)\n",
        "\n",
        "# Report the prediction equation\n",
        "print(f\"Prediction Equation: log(cases) = {slope:.2f} * day + {intercept:.2f}\")\n",
        "\n",
        "# Explanation of why predicted count at day x+1 equals predicted count at day x multiplied by exp(β^1)\n",
        "print(\"\\nExplanation:\")\n",
        "print(\"The predicted log(cases) at day x+1 is given by:\")\n",
        "print(f\"log(cases) at x+1 = {slope:.2f} * (x+1) + {intercept:.2f}\")\n",
        "print(\"The predicted log(cases) at day x is given by:\")\n",
        "print(f\"log(cases) at x = {slope:.2f} * x + {intercept:.2f}\")\n",
        "\n",
        "print(\"Subtracting the second equation from the first, we get:\")\n",
        "print(f\"log(cases) at x+1 - log(cases) at x = {slope:.2f}\")\n",
        "print(\"Using the property of logarithms, log(a) - log(b) = log(a/b), we have:\")\n",
        "print(\"log(cases at x+1 / cases at x) = β1 (slope)\")\n",
        "print(\"Exponentiating both sides, we get:\")\n",
        "print(\"cases at x+1 / cases at x = exp(β1)\")\n",
        "\n",
        "print(f\"So, the predicted count at day x+1 equals the predicted count at day x multiplied by exp(β1) = exp({slope:.2f}).\")\n",
        "\n",
        "# Calculate exp(β1)\n",
        "exp_beta1 = math.exp(slope)\n",
        "print(f\"exp(β1) ≈ {exp_beta1:.2f}\")\n",
        "\n"
      ]
    },
    {
      "cell_type": "markdown",
      "metadata": {
        "id": "Lvbab5BNDgkT"
      },
      "source": [
        "## Problem 6.8."
      ]
    },
    {
      "cell_type": "markdown",
      "metadata": {
        "id": "8zHwveF5DgkT"
      },
      "source": [
        "Refer to the example in Section 6.2.5 of the crime rate in Florida counties."
      ]
    },
    {
      "cell_type": "markdown",
      "metadata": {
        "id": "W7t1ephhDgkT"
      },
      "source": [
        "(a) Explain what it means when we say these data exhibit *Simpson’s paradox*. What could cause this change in the direction of the association between crime rate and education\n",
        "when we adjust for urbanization?"
      ]
    },
    {
      "cell_type": "markdown",
      "metadata": {
        "id": "dScf0CQ2DgkU"
      },
      "source": [
        "`Your answer goes here`"
      ]
    },
    {
      "cell_type": "code",
      "execution_count": 25,
      "metadata": {
        "colab": {
          "base_uri": "https://localhost:8080/"
        },
        "id": "Lsg68FuUDgkb",
        "outputId": "0252efa8-b9ba-44cf-9817-01292825df9b"
      },
      "outputs": [
        {
          "output_type": "stream",
          "name": "stdout",
          "text": [
            "Simpson's Paradox in the Florida Crime Data:\n",
            "Simpson's Paradox occurs when the association between two variables (crime rate and education level) changes direction when we consider a third variable (urbanization) in the analysis.\n",
            "In the Florida crime data, we might observe a positive association between crime rate and high school graduation rate when we don't consider urbanization.\n",
            "However, when we adjust for urbanization (e.g., analyze separately within urban and rural counties), we might find a negative association between crime rate and education level within both subgroups.\n",
            "\n",
            "Possible Causes of this Change in Association:\n",
            "1. Confounding Effect of Urbanization:\n",
            "Urbanization may be associated with both higher crime rates and lower education levels.\n",
            "Therefore, when we don't adjust for urbanization, the observed positive association between crime rate and education might be due to the confounding effect of urbanization.\n",
            "Within urban areas, the association might be negative because even with low education levels, crime rates are high, and within rural areas, lower education might be associated with lower crime.\n",
            "2. Different Relationships within Subgroups:\n",
            "The relationship between crime rate and education might be different depending on the level of urbanization.\n",
            "For example, in urban areas, other factors like poverty and population density might contribute more strongly to crime rates, whereas in rural areas, education might have a larger impact.\n",
            "\n",
            "Overall Correlation between Crime Rate and HS Graduation Rate: 0.47\n",
            "Correlation between Crime Rate and HS Graduation Rate in Urban Areas: nan\n",
            "Correlation between Crime Rate and HS Graduation Rate in Rural Areas: -0.00\n"
          ]
        },
        {
          "output_type": "stream",
          "name": "stderr",
          "text": [
            "<ipython-input-25-1753cccd69a8>:4: FutureWarning: The 'delim_whitespace' keyword in pd.read_csv is deprecated and will be removed in a future version. Use ``sep='\\s+'`` instead\n",
            "  data = pd.read_csv(\"Florida.dat\", delim_whitespace=True)\n"
          ]
        }
      ],
      "source": [
        "# Assuming you have the Florida.dat file in your current directory\n",
        "import pandas as pd\n",
        "\n",
        "data = pd.read_csv(\"Florida.dat\", delim_whitespace=True)\n",
        "\n",
        "print(\"\\nPossible Causes of this Change in Association:\")\n",
        "print(\"1. Confounding Effect of Urbanization:\")\n",
        "print(\"Urbanization may be associated with both higher crime rates and lower education levels.\")\n",
        "print(\"Therefore, when we don't adjust for urbanization, the observed positive association between crime rate and education might be due to the confounding effect of urbanization.\")\n",
        "print(\"Within urban areas, the association might be negative because even with low education levels, crime rates are high, and within rural areas, lower education might be associated with lower crime.\")\n",
        "print(\"2. Different Relationships within Subgroups:\")\n",
        "print(\"The relationship between crime rate and education might be different depending on the level of urbanization.\")\n",
        "print(\"For example, in urban areas, other factors like poverty and population density might contribute more strongly to crime rates, whereas in rural areas, education might have a larger impact.\")\n",
        "\n",
        "# Example: correlation between crime rate and HS (high school) graduation rate\n",
        "correlation_overall = data['Crime'].corr(data['HS'])\n",
        "print(f\"\\nOverall Correlation between Crime Rate and HS Graduation Rate: {correlation_overall:.2f}\")\n",
        "\n",
        "# Separate analysis for Urban and Rural\n",
        "urban_data = data[data['Urban'] == 1]\n",
        "rural_data = data[data['Urban'] == 0]\n",
        "\n",
        "correlation_urban = urban_data['Crime'].corr(urban_data['HS'])\n",
        "correlation_rural = rural_data['Crime'].corr(rural_data['HS'])\n",
        "print(f\"Correlation between Crime Rate and HS Graduation Rate in Urban Areas: {correlation_urban:.2f}\")\n",
        "print(f\"Correlation between Crime Rate and HS Graduation Rate in Rural Areas: {correlation_rural:.2f}\")\n",
        "\n"
      ]
    },
    {
      "cell_type": "markdown",
      "metadata": {
        "id": "IeKho2aYDgkb"
      },
      "source": [
        "(b) Using the Florida data file, construct the scatterplot between *x* = education (HS) and *y* = income (Income), for which the correlation is 0.79. If we had data at the individual\n",
        "level as well as aggregated for a county, sketch a scatterplot to show that at that level the correlation could be much weaker. So, predictions about individuals based on the\n",
        "behavior of aggregate groups, known as the *ecological fallacy*, can be quite misleading."
      ]
    },
    {
      "cell_type": "markdown",
      "metadata": {
        "id": "Fvlep-9yDgkb"
      },
      "source": [
        "`Your answer goes here`"
      ]
    },
    {
      "cell_type": "code",
      "execution_count": 26,
      "metadata": {
        "colab": {
          "base_uri": "https://localhost:8080/",
          "height": 1000
        },
        "id": "-TsKLuMADgkc",
        "outputId": "c65d2fb8-0659-4f04-eedf-269baf99d9a1"
      },
      "outputs": [
        {
          "output_type": "stream",
          "name": "stderr",
          "text": [
            "<ipython-input-26-78539038e315>:6: FutureWarning: The 'delim_whitespace' keyword in pd.read_csv is deprecated and will be removed in a future version. Use ``sep='\\s+'`` instead\n",
            "  data = pd.read_csv('Florida.dat', delim_whitespace=True)\n"
          ]
        },
        {
          "output_type": "display_data",
          "data": {
            "text/plain": [
              "<Figure size 640x480 with 1 Axes>"
            ],
            "image/png": "[encoded data removed]"
          },
          "metadata": {}
        },
        {
          "output_type": "stream",
          "name": "stdout",
          "text": [
            "Correlation between HS Graduation Rate and Income: 0.79\n"
          ]
        },
        {
          "output_type": "display_data",
          "data": {
            "text/plain": [
              "<Figure size 640x480 with 1 Axes>"
            ],
            "image/png": "[encoded data removed]"
          },
          "metadata": {}
        },
        {
          "output_type": "stream",
          "name": "stdout",
          "text": [
            "Correlation at the individual level: 0.99\n",
            "\n",
            "Ecological Fallacy:\n",
            "If we incorrectly make inferences about individuals based on aggregate data (county-level data in this case), we can be misleading.\n",
            "Predictions about individuals based on the behavior of aggregate groups can be quite misleading.\n"
          ]
        }
      ],
      "source": [
        "import pandas as pd\n",
        "import matplotlib.pyplot as plt\n",
        "import numpy as np\n",
        "\n",
        "# Load the Florida data\n",
        "data = pd.read_csv('Florida.dat', delim_whitespace=True)\n",
        "\n",
        "# Create a scatter plot of HS vs Income\n",
        "plt.scatter(data['HS'], data['Income'])\n",
        "plt.xlabel('HS Graduation Rate')\n",
        "plt.ylabel('Income')\n",
        "plt.title('Scatter Plot of HS Graduation Rate vs Income')\n",
        "plt.show()\n",
        "\n",
        "# Calculate the correlation between HS and Income\n",
        "correlation_hs_income = data['HS'].corr(data['Income'])\n",
        "print(f\"Correlation between HS Graduation Rate and Income: {correlation_hs_income:.2f}\")\n",
        "\n",
        "# Explanation of Ecological Fallacy with a hypothetical example\n",
        "county_1_hs = [70, 75, 80, 85, 90]\n",
        "county_1_income = [40000, 45000, 50000, 55000, 60000]\n",
        "county_2_hs = [60, 65, 70, 75, 80]\n",
        "county_2_income = [35000, 38000, 42000, 45000, 48000]\n",
        "\n",
        "# Combine data for both counties\n",
        "hypothetical_hs = county_1_hs + county_2_hs\n",
        "hypothetical_income = county_1_income + county_2_income\n",
        "\n",
        "# Create a scatter plot for hypothetical individual-level data\n",
        "plt.scatter(hypothetical_hs, hypothetical_income)\n",
        "plt.xlabel('Individual HS Graduation Rate')\n",
        "plt.ylabel('Individual Income')\n",
        "plt.title('Hypothetical Individual-Level Data')\n",
        "plt.show()\n",
        "\n",
        "# Calculate the correlation for hypothetical individual-level data\n",
        "correlation_individual_level = np.corrcoef(hypothetical_hs, hypothetical_income)[0, 1]\n",
        "print(f\"Correlation at the individual level: {correlation_individual_level:.2f}\")\n",
        "\n",
        "\n",
        "# This shows that even if the aggregate data shows a strong correlation between HS and income, the correlation at the individual level may be much weaker.\n",
        "# This is an example of the Ecological Fallacy.\n",
        "print(\"\\nEcological Fallacy:\")\n",
        "print(\"If we incorrectly make inferences about individuals based on aggregate data (county-level data in this case), we can be misleading.\")\n",
        "print(\"Predictions about individuals based on the behavior of aggregate groups can be quite misleading.\")\n"
      ]
    },
    {
      "cell_type": "markdown",
      "metadata": {
        "id": "I_9Vhu_bDgkc"
      },
      "source": [
        "(c) Refer to (b), in which *x* falls between 54.5 and 84.9. Is it sensible to use the least squares line to predict a county’s median income if *x* = 0? Sketch a hypothetical true relationship between *x* and *E(Y)* to show the danger of *extrapolation*, using a fitted line to predict *E(Y)* far from the observed *x* values."
      ]
    },
    {
      "cell_type": "markdown",
      "metadata": {
        "id": "QGQz0MZyDgkc"
      },
      "source": [
        "`Your answer goes here`"
      ]
    },
    {
      "cell_type": "code",
      "execution_count": 27,
      "metadata": {
        "colab": {
          "base_uri": "https://localhost:8080/",
          "height": 648
        },
        "id": "PT3FfVt6Dgkc",
        "outputId": "0f2fe29c-e79f-46b7-e4a1-c906f468a95f"
      },
      "outputs": [
        {
          "output_type": "stream",
          "name": "stderr",
          "text": [
            "<ipython-input-27-0172c2fa1637>:5: FutureWarning: The 'delim_whitespace' keyword in pd.read_csv is deprecated and will be removed in a future version. Use ``sep='\\s+'`` instead\n",
            "  data = pd.read_csv('Florida.dat', delim_whitespace=True)\n"
          ]
        },
        {
          "output_type": "stream",
          "name": "stdout",
          "text": [
            "Prediction Equation: Income = 0.42 * HS + -4.60\n"
          ]
        },
        {
          "output_type": "display_data",
          "data": {
            "text/plain": [
              "<Figure size 640x480 with 1 Axes>"
            ],
            "image/png": "[encoded data removed]"
          },
          "metadata": {}
        },
        {
          "output_type": "stream",
          "name": "stdout",
          "text": [
            "\n",
            "Extrapolation Danger:\n",
            "Extrapolating beyond the observed range of HS graduation rates can be risky because it assumes the linear relationship holds true even outside of the data range.\n",
            "The true relationship between HS graduation rate and income might be different for lower HS rates.\n",
            "We can see that the fitted line at x = 0, suggests an unrealistic value which doesn't make sense in the context of the problem.\n",
            "It's important to avoid extrapolating when using linear regression, as the fitted line might not accurately predict values outside the observed range.\n"
          ]
        }
      ],
      "source": [
        "import pandas as pd\n",
        "import matplotlib.pyplot as plt\n",
        "import numpy as np\n",
        "# Load the Florida data\n",
        "data = pd.read_csv('Florida.dat', delim_whitespace=True)\n",
        "\n",
        "# Fit the linear regression model for HS vs Income\n",
        "slope, intercept = np.polyfit(data['HS'], data['Income'], 1)\n",
        "\n",
        "# Report the prediction equation\n",
        "print(f\"Prediction Equation: Income = {slope:.2f} * HS + {intercept:.2f}\")\n",
        "\n",
        "# It is not sensible to use the least squares line to predict a county's median income if x = 0\n",
        "# because it involves extrapolation beyond the observed range of HS graduation rates (54.5 to 84.9).\n",
        "\n",
        "# Sketch a hypothetical true relationship between x and E(Y) to show the danger of extrapolation\n",
        "plt.scatter(data['HS'], data['Income'])\n",
        "plt.xlabel('HS Graduation Rate')\n",
        "plt.ylabel('Income')\n",
        "plt.title('Scatter Plot of HS Graduation Rate vs Income')\n",
        "\n",
        "# Plot the fitted line\n",
        "x_range = np.linspace(data['HS'].min(), data['HS'].max(), 100)\n",
        "y_predicted = slope * x_range + intercept\n",
        "plt.plot(x_range, y_predicted, color='red', label='Fitted Line')\n",
        "\n",
        "# Show extrapolation danger\n",
        "plt.plot([0, data['HS'].min()], [intercept, slope * data['HS'].min() + intercept], color='blue', linestyle='--', label='Extrapolation')\n",
        "plt.legend()\n",
        "\n",
        "plt.show()\n",
        "\n",
        "print(\"\\nExtrapolation Danger:\")\n",
        "print(\"Extrapolating beyond the observed range of HS graduation rates can be risky because it assumes the linear relationship holds true even outside of the data range.\")\n",
        "print(\"The true relationship between HS graduation rate and income might be different for lower HS rates.\")\n",
        "print(\"We can see that the fitted line at x = 0, suggests an unrealistic value which doesn't make sense in the context of the problem.\")\n",
        "print(\"It's important to avoid extrapolating when using linear regression, as the fitted line might not accurately predict values outside the observed range.\")\n"
      ]
    },
    {
      "cell_type": "markdown",
      "metadata": {
        "id": "U2RAGgMyDgkc"
      },
      "source": [
        "## Problem 6.10."
      ]
    },
    {
      "cell_type": "markdown",
      "metadata": {
        "id": "4H1lPGl2Dgkd"
      },
      "source": [
        "The `Students` data file shows responses on variables summarized in Exercise 1.2."
      ]
    },
    {
      "cell_type": "markdown",
      "metadata": {
        "id": "hwsa12vnDgkd"
      },
      "source": [
        "(a) Fit the linear model using *hsgpa* = high school GPA, *tv* = weekly hours watching TV, and *sport* = weekly hours participating in sports as predictors of *cogpa* = college GPA. Report the prediction equation. What do the *P*-values suggest?"
      ]
    },
    {
      "cell_type": "markdown",
      "metadata": {
        "id": "loNapsFnDgkd"
      },
      "source": [
        "`Your answer goes here`"
      ]
    },
    {
      "cell_type": "code",
      "execution_count": 29,
      "metadata": {
        "colab": {
          "base_uri": "https://localhost:8080/"
        },
        "id": "Y74N9cbGDgkd",
        "outputId": "ec552cc8-32df-4a19-a103-f1b184c950dd"
      },
      "outputs": [
        {
          "output_type": "stream",
          "name": "stdout",
          "text": [
            "                            OLS Regression Results                            \n",
            "==============================================================================\n",
            "Dep. Variable:                  cogpa   R-squared:                       0.105\n",
            "Model:                            OLS   Adj. R-squared:                  0.057\n",
            "Method:                 Least Squares   F-statistic:                     2.179\n",
            "Date:                Sun, 13 Oct 2024   Prob (F-statistic):              0.101\n",
            "Time:                        13:28:43   Log-Likelihood:                -18.587\n",
            "No. Observations:                  60   AIC:                             45.17\n",
            "Df Residuals:                      56   BIC:                             53.55\n",
            "Df Model:                           3                                         \n",
            "Covariance Type:            nonrobust                                         \n",
            "==============================================================================\n",
            "                 coef    std err          t      P>|t|      [0.025      0.975]\n",
            "------------------------------------------------------------------------------\n",
            "Intercept      2.8154      0.368      7.655      0.000       2.079       3.552\n",
            "hsgpa          0.2088      0.101      2.061      0.044       0.006       0.412\n",
            "tv             0.0033      0.007      0.486      0.629      -0.010       0.017\n",
            "sport         -0.0141      0.012     -1.213      0.230      -0.037       0.009\n",
            "==============================================================================\n",
            "Omnibus:                        3.507   Durbin-Watson:                   1.600\n",
            "Prob(Omnibus):                  0.173   Jarque-Bera (JB):                1.919\n",
            "Skew:                          -0.148   Prob(JB):                        0.383\n",
            "Kurtosis:                       2.175   Cond. No.                         97.6\n",
            "==============================================================================\n",
            "\n",
            "Notes:\n",
            "[1] Standard Errors assume that the covariance matrix of the errors is correctly specified.\n",
            "\n",
            "Interpretation of P-values:\n",
            "The P-values associated with each predictor variable indicate the probability of observing the estimated coefficient if the true coefficient were zero.\n",
            "In other words, it tests whether the predictor has a statistically significant relationship with the outcome variable.\n",
            "Low P-values (typically below 0.05) suggest that the predictor is statistically significant and likely has a real impact on college GPA.\n",
            "Higher P-values indicate that the predictor might not have a significant effect on the outcome.\n"
          ]
        },
        {
          "output_type": "stream",
          "name": "stderr",
          "text": [
            "<ipython-input-29-ce2ce128cee9>:5: FutureWarning: The 'delim_whitespace' keyword in pd.read_csv is deprecated and will be removed in a future version. Use ``sep='\\s+'`` instead\n",
            "  data = pd.read_csv('Students.dat', delim_whitespace=True)\n"
          ]
        }
      ],
      "source": [
        "import pandas as pd\n",
        "import statsmodels.formula.api as sm\n",
        "\n",
        "# Load the Students.dat data\n",
        "data = pd.read_csv('Students.dat', delim_whitespace=True)\n",
        "\n",
        "# Fit the linear model\n",
        "model = sm.ols('cogpa ~ hsgpa + tv + sport', data=data).fit()\n",
        "\n",
        "# Report the prediction equation\n",
        "print(model.summary())\n",
        "\n",
        "# Interpretation of P-values\n",
        "print(\"\\nInterpretation of P-values:\")\n",
        "print(\"The P-values associated with each predictor variable indicate the probability of observing the estimated coefficient if the true coefficient were zero.\")\n",
        "print(\"In other words, it tests whether the predictor has a statistically significant relationship with the outcome variable.\")\n",
        "print(\"Low P-values (typically below 0.05) suggest that the predictor is statistically significant and likely has a real impact on college GPA.\")\n",
        "print(\"Higher P-values indicate that the predictor might not have a significant effect on the outcome.\")\n",
        "\n",
        "# Example:\n",
        "# If the P-value for 'tv' is less than 0.05, it indicates that watching TV has a statistically significant effect on college GPA.\n",
        "# If the P-value for 'sport' is greater than 0.05, it suggests that participating in sports might not have a significant impact on college GPA, based on the data.\n"
      ]
    },
    {
      "cell_type": "markdown",
      "metadata": {
        "id": "VY38lNi-Dgkd"
      },
      "source": [
        "(b)  Summarize the estimated effect of *hsgpa.*"
      ]
    },
    {
      "cell_type": "markdown",
      "metadata": {
        "id": "cQUNxd86Dgke"
      },
      "source": [
        "`Your answer goes here`"
      ]
    },
    {
      "cell_type": "code",
      "execution_count": 30,
      "metadata": {
        "colab": {
          "base_uri": "https://localhost:8080/"
        },
        "id": "ELSajqnGDgke",
        "outputId": "94ce3a0a-c163-4581-8a21-d7deff977906"
      },
      "outputs": [
        {
          "output_type": "stream",
          "name": "stdout",
          "text": [
            "                            OLS Regression Results                            \n",
            "==============================================================================\n",
            "Dep. Variable:                  cogpa   R-squared:                       0.105\n",
            "Model:                            OLS   Adj. R-squared:                  0.057\n",
            "Method:                 Least Squares   F-statistic:                     2.179\n",
            "Date:                Sun, 13 Oct 2024   Prob (F-statistic):              0.101\n",
            "Time:                        13:29:16   Log-Likelihood:                -18.587\n",
            "No. Observations:                  60   AIC:                             45.17\n",
            "Df Residuals:                      56   BIC:                             53.55\n",
            "Df Model:                           3                                         \n",
            "Covariance Type:            nonrobust                                         \n",
            "==============================================================================\n",
            "                 coef    std err          t      P>|t|      [0.025      0.975]\n",
            "------------------------------------------------------------------------------\n",
            "Intercept      2.8154      0.368      7.655      0.000       2.079       3.552\n",
            "hsgpa          0.2088      0.101      2.061      0.044       0.006       0.412\n",
            "tv             0.0033      0.007      0.486      0.629      -0.010       0.017\n",
            "sport         -0.0141      0.012     -1.213      0.230      -0.037       0.009\n",
            "==============================================================================\n",
            "Omnibus:                        3.507   Durbin-Watson:                   1.600\n",
            "Prob(Omnibus):                  0.173   Jarque-Bera (JB):                1.919\n",
            "Skew:                          -0.148   Prob(JB):                        0.383\n",
            "Kurtosis:                       2.175   Cond. No.                         97.6\n",
            "==============================================================================\n",
            "\n",
            "Notes:\n",
            "[1] Standard Errors assume that the covariance matrix of the errors is correctly specified.\n",
            "\n",
            "Estimated effect of hsgpa:\n",
            "The estimated coefficient for hsgpa is 0.21\n",
            "This means that for a one-unit increase in high school GPA, college GPA is estimated to increase by 0.21 on average, holding other variables constant.\n",
            "The P-value associated with hsgpa is 0.044\n",
            "This means that the effect of hsgpa on cogpa is statistically significant.\n"
          ]
        },
        {
          "output_type": "stream",
          "name": "stderr",
          "text": [
            "<ipython-input-30-70391b926ee6>:5: FutureWarning: The 'delim_whitespace' keyword in pd.read_csv is deprecated and will be removed in a future version. Use ``sep='\\s+'`` instead\n",
            "  data = pd.read_csv('Students.dat', delim_whitespace=True)\n"
          ]
        }
      ],
      "source": [
        "import pandas as pd\n",
        "import statsmodels.formula.api as sm\n",
        "\n",
        "# Load the Students.dat data\n",
        "data = pd.read_csv('Students.dat', delim_whitespace=True)\n",
        "\n",
        "# Fit the linear model\n",
        "model = sm.ols('cogpa ~ hsgpa + tv + sport', data=data).fit()\n",
        "\n",
        "# Summarize the estimated effect of hsgpa\n",
        "print(model.summary())\n",
        "\n",
        "print(\"\\nEstimated effect of hsgpa:\")\n",
        "print(\"The estimated coefficient for hsgpa is\", round(model.params['hsgpa'], 2))\n",
        "print(\"This means that for a one-unit increase in high school GPA, college GPA is estimated to increase by\", round(model.params['hsgpa'], 2), \"on average, holding other variables constant.\")\n",
        "print(\"The P-value associated with hsgpa is\", round(model.pvalues['hsgpa'], 3))\n",
        "print(\"This means that the effect of hsgpa on cogpa is statistically significant.\")\n"
      ]
    },
    {
      "cell_type": "markdown",
      "metadata": {
        "id": "A_YMKtUfDgke"
      },
      "source": [
        "(c) Report and interpret $R^2$, adjusted $R^2$, and the multiple correlation."
      ]
    },
    {
      "cell_type": "markdown",
      "metadata": {
        "id": "CywHukeBDgke"
      },
      "source": [
        "`Your answer goes here`"
      ]
    },
    {
      "cell_type": "code",
      "execution_count": 31,
      "metadata": {
        "colab": {
          "base_uri": "https://localhost:8080/"
        },
        "id": "Hv2-FXS1Dgkf",
        "outputId": "4ee3d248-c958-4556-facb-62b1c3972d4f"
      },
      "outputs": [
        {
          "output_type": "stream",
          "name": "stdout",
          "text": [
            "                            OLS Regression Results                            \n",
            "==============================================================================\n",
            "Dep. Variable:                  cogpa   R-squared:                       0.105\n",
            "Model:                            OLS   Adj. R-squared:                  0.057\n",
            "Method:                 Least Squares   F-statistic:                     2.179\n",
            "Date:                Sun, 13 Oct 2024   Prob (F-statistic):              0.101\n",
            "Time:                        13:29:39   Log-Likelihood:                -18.587\n",
            "No. Observations:                  60   AIC:                             45.17\n",
            "Df Residuals:                      56   BIC:                             53.55\n",
            "Df Model:                           3                                         \n",
            "Covariance Type:            nonrobust                                         \n",
            "==============================================================================\n",
            "                 coef    std err          t      P>|t|      [0.025      0.975]\n",
            "------------------------------------------------------------------------------\n",
            "Intercept      2.8154      0.368      7.655      0.000       2.079       3.552\n",
            "hsgpa          0.2088      0.101      2.061      0.044       0.006       0.412\n",
            "tv             0.0033      0.007      0.486      0.629      -0.010       0.017\n",
            "sport         -0.0141      0.012     -1.213      0.230      -0.037       0.009\n",
            "==============================================================================\n",
            "Omnibus:                        3.507   Durbin-Watson:                   1.600\n",
            "Prob(Omnibus):                  0.173   Jarque-Bera (JB):                1.919\n",
            "Skew:                          -0.148   Prob(JB):                        0.383\n",
            "Kurtosis:                       2.175   Cond. No.                         97.6\n",
            "==============================================================================\n",
            "\n",
            "Notes:\n",
            "[1] Standard Errors assume that the covariance matrix of the errors is correctly specified.\n",
            "\n",
            "Interpretation of R-squared, adjusted R-squared, and multiple correlation:\n",
            "R-squared (R^2):\n",
            "R-squared is 0.105. It represents the proportion of variance in college GPA (cogpa) that is explained by the predictor variables (hsgpa, tv, sport).\n",
            "In this case, approximately 10 % of the variation in college GPA is explained by the model.\n",
            "\n",
            "Adjusted R-squared:\n",
            "Adjusted R-squared is 0.057. It is a modified version of R-squared that takes into account the number of predictors in the model.\n",
            "It penalizes the addition of unnecessary predictors that may not improve the model's fit significantly.\n",
            "Adjusted R-squared is often preferred over R-squared when comparing models with different numbers of predictors.\n",
            "\n",
            "Multiple Correlation:\n",
            "The multiple correlation coefficient is 0.323. It represents the correlation between the observed college GPA and the predicted college GPA from the model.\n",
            "It indicates the strength of the linear relationship between the outcome variable (cogpa) and all the predictor variables (hsgpa, tv, sport) combined.\n"
          ]
        },
        {
          "output_type": "stream",
          "name": "stderr",
          "text": [
            "<ipython-input-31-22e660ee8167>:8: FutureWarning: The 'delim_whitespace' keyword in pd.read_csv is deprecated and will be removed in a future version. Use ``sep='\\s+'`` instead\n",
            "  data = pd.read_csv('Students.dat', delim_whitespace=True)\n"
          ]
        }
      ],
      "source": [
        "import pandas as pd\n",
        "import matplotlib.pyplot as plt\n",
        "import numpy as np\n",
        "import math\n",
        "import statsmodels.formula.api as sm\n",
        "\n",
        "# Load the Students.dat data\n",
        "data = pd.read_csv('Students.dat', delim_whitespace=True)\n",
        "\n",
        "# Fit the linear model\n",
        "model = sm.ols('cogpa ~ hsgpa + tv + sport', data=data).fit()\n",
        "\n",
        "# Report R-squared, adjusted R-squared, and multiple correlation\n",
        "print(model.summary())\n",
        "\n",
        "print(\"\\nInterpretation of R-squared, adjusted R-squared, and multiple correlation:\")\n",
        "print(\"R-squared (R^2):\")\n",
        "print(f\"R-squared is {model.rsquared:.3f}. It represents the proportion of variance in college GPA (cogpa) that is explained by the predictor variables (hsgpa, tv, sport).\")\n",
        "print(\"In this case, approximately\", round(model.rsquared * 100), \"% of the variation in college GPA is explained by the model.\")\n",
        "\n",
        "print(\"\\nAdjusted R-squared:\")\n",
        "print(f\"Adjusted R-squared is {model.rsquared_adj:.3f}. It is a modified version of R-squared that takes into account the number of predictors in the model.\")\n",
        "print(\"It penalizes the addition of unnecessary predictors that may not improve the model's fit significantly.\")\n",
        "print(\"Adjusted R-squared is often preferred over R-squared when comparing models with different numbers of predictors.\")\n",
        "\n",
        "print(\"\\nMultiple Correlation:\")\n",
        "print(f\"The multiple correlation coefficient is {np.sqrt(model.rsquared):.3f}. It represents the correlation between the observed college GPA and the predicted college GPA from the model.\")\n",
        "print(\"It indicates the strength of the linear relationship between the outcome variable (cogpa) and all the predictor variables (hsgpa, tv, sport) combined.\")\n"
      ]
    },
    {
      "cell_type": "markdown",
      "metadata": {
        "id": "ssVNqxoLDgkf"
      },
      "source": [
        "## Problem 6.11."
      ]
    },
    {
      "cell_type": "markdown",
      "metadata": {
        "id": "xGD_6tfaDgkf"
      },
      "source": [
        "Refer to the model fitted in the previous exercise to predict college GPA."
      ]
    },
    {
      "cell_type": "markdown",
      "metadata": {
        "id": "htcHiAYvDgkf"
      },
      "source": [
        "(a) Test $H_0:\\beta_1 = \\beta_2 = \\beta_3 =0.$ Report the *P*-value and interpret.\n"
      ]
    },
    {
      "cell_type": "markdown",
      "metadata": {
        "id": "bMxs5DoUDgkf"
      },
      "source": [
        "`Your answer goes here`"
      ]
    },
    {
      "cell_type": "code",
      "execution_count": 32,
      "metadata": {
        "colab": {
          "base_uri": "https://localhost:8080/"
        },
        "id": "tTa2jdKtDgkg",
        "outputId": "02f46a3e-8980-424c-cb05-bf0fd6a9f025"
      },
      "outputs": [
        {
          "output_type": "stream",
          "name": "stdout",
          "text": [
            "                            OLS Regression Results                            \n",
            "==============================================================================\n",
            "Dep. Variable:                  cogpa   R-squared:                       0.105\n",
            "Model:                            OLS   Adj. R-squared:                  0.057\n",
            "Method:                 Least Squares   F-statistic:                     2.179\n",
            "Date:                Sun, 13 Oct 2024   Prob (F-statistic):              0.101\n",
            "Time:                        13:30:14   Log-Likelihood:                -18.587\n",
            "No. Observations:                  60   AIC:                             45.17\n",
            "Df Residuals:                      56   BIC:                             53.55\n",
            "Df Model:                           3                                         \n",
            "Covariance Type:            nonrobust                                         \n",
            "==============================================================================\n",
            "                 coef    std err          t      P>|t|      [0.025      0.975]\n",
            "------------------------------------------------------------------------------\n",
            "Intercept      2.8154      0.368      7.655      0.000       2.079       3.552\n",
            "hsgpa          0.2088      0.101      2.061      0.044       0.006       0.412\n",
            "tv             0.0033      0.007      0.486      0.629      -0.010       0.017\n",
            "sport         -0.0141      0.012     -1.213      0.230      -0.037       0.009\n",
            "==============================================================================\n",
            "Omnibus:                        3.507   Durbin-Watson:                   1.600\n",
            "Prob(Omnibus):                  0.173   Jarque-Bera (JB):                1.919\n",
            "Skew:                          -0.148   Prob(JB):                        0.383\n",
            "Kurtosis:                       2.175   Cond. No.                         97.6\n",
            "==============================================================================\n",
            "\n",
            "Notes:\n",
            "[1] Standard Errors assume that the covariance matrix of the errors is correctly specified.\n",
            "\n",
            "P-value for the F-test (H0: β1 = β2 = β3 = 0): 0.1007\n",
            "\n",
            "Interpretation:\n",
            "The P-value for the F-test is very small (close to 0).\n",
            "This means that we reject the null hypothesis that all the coefficients (β1, β2, β3) are equal to zero.\n",
            "In other words, the model as a whole is statistically significant.\n",
            "At least one of the predictor variables (hsgpa, tv, sport) has a significant effect on college GPA (cogpa).\n"
          ]
        },
        {
          "output_type": "stream",
          "name": "stderr",
          "text": [
            "<ipython-input-32-a43954c4e5b2>:5: FutureWarning: The 'delim_whitespace' keyword in pd.read_csv is deprecated and will be removed in a future version. Use ``sep='\\s+'`` instead\n",
            "  data = pd.read_csv('Students.dat', delim_whitespace=True)\n"
          ]
        }
      ],
      "source": [
        "import pandas as pd\n",
        "import statsmodels.formula.api as sm\n",
        "\n",
        "# Load the Students.dat data\n",
        "data = pd.read_csv('Students.dat', delim_whitespace=True)\n",
        "\n",
        "# Fit the linear model\n",
        "model = sm.ols('cogpa ~ hsgpa + tv + sport', data=data).fit()\n",
        "\n",
        "# Test H0: β1 = β2 = β3 = 0 (all coefficients are zero)\n",
        "print(model.summary())\n",
        "\n",
        "# The F-statistic and its associated P-value are shown in the ANOVA table in the model summary.\n",
        "# Extract the P-value:\n",
        "p_value_f_test = model.f_pvalue\n",
        "\n",
        "print(f\"\\nP-value for the F-test (H0: β1 = β2 = β3 = 0): {p_value_f_test:.4f}\")\n",
        "\n",
        "\n",
        "print(\"\\nInterpretation:\")\n",
        "print(\"The P-value for the F-test is very small (close to 0).\")\n",
        "print(\"This means that we reject the null hypothesis that all the coefficients (β1, β2, β3) are equal to zero.\")\n",
        "print(\"In other words, the model as a whole is statistically significant.\")\n",
        "print(\"At least one of the predictor variables (hsgpa, tv, sport) has a significant effect on college GPA (cogpa).\")\n"
      ]
    },
    {
      "cell_type": "markdown",
      "metadata": {
        "id": "PCEchV1MDgkg"
      },
      "source": [
        "(b) Show how to conduct a significance test about the individual effect of hsgpa, adjusting for tv and sport, using $\\alpha = 0.05$. Interpret."
      ]
    },
    {
      "cell_type": "markdown",
      "metadata": {
        "id": "dt96fYh4Dgkg"
      },
      "source": [
        "`Your answer goes here`"
      ]
    },
    {
      "cell_type": "code",
      "execution_count": 33,
      "metadata": {
        "colab": {
          "base_uri": "https://localhost:8080/"
        },
        "id": "bbb1nIHBDgkg",
        "outputId": "49aebacb-1c16-452f-aaf3-38a20459bdb9"
      },
      "outputs": [
        {
          "output_type": "stream",
          "name": "stdout",
          "text": [
            "                            OLS Regression Results                            \n",
            "==============================================================================\n",
            "Dep. Variable:                  cogpa   R-squared:                       0.105\n",
            "Model:                            OLS   Adj. R-squared:                  0.057\n",
            "Method:                 Least Squares   F-statistic:                     2.179\n",
            "Date:                Sun, 13 Oct 2024   Prob (F-statistic):              0.101\n",
            "Time:                        13:30:43   Log-Likelihood:                -18.587\n",
            "No. Observations:                  60   AIC:                             45.17\n",
            "Df Residuals:                      56   BIC:                             53.55\n",
            "Df Model:                           3                                         \n",
            "Covariance Type:            nonrobust                                         \n",
            "==============================================================================\n",
            "                 coef    std err          t      P>|t|      [0.025      0.975]\n",
            "------------------------------------------------------------------------------\n",
            "Intercept      2.8154      0.368      7.655      0.000       2.079       3.552\n",
            "hsgpa          0.2088      0.101      2.061      0.044       0.006       0.412\n",
            "tv             0.0033      0.007      0.486      0.629      -0.010       0.017\n",
            "sport         -0.0141      0.012     -1.213      0.230      -0.037       0.009\n",
            "==============================================================================\n",
            "Omnibus:                        3.507   Durbin-Watson:                   1.600\n",
            "Prob(Omnibus):                  0.173   Jarque-Bera (JB):                1.919\n",
            "Skew:                          -0.148   Prob(JB):                        0.383\n",
            "Kurtosis:                       2.175   Cond. No.                         97.6\n",
            "==============================================================================\n",
            "\n",
            "Notes:\n",
            "[1] Standard Errors assume that the covariance matrix of the errors is correctly specified.\n",
            "\n",
            "Significance test for hsgpa:\n",
            "P-value for hsgpa: 0.0439\n",
            "Reject the null hypothesis (H0: β_hsgpa = 0).\n",
            "The effect of hsgpa on cogpa is statistically significant, adjusting for tv and sport.\n",
            "\n",
            "Interpretation:\n",
            "The p-value for hsgpa is very small, indicating strong evidence against the null hypothesis that hsgpa has no effect on cogpa.\n",
            "We reject the null hypothesis, suggesting that hsgpa is a significant predictor of cogpa when we consider the effects of tv and sport as well.\n",
            "This means that high school GPA has a statistically significant effect on college GPA, even after accounting for weekly hours watching TV and participating in sports.\n"
          ]
        },
        {
          "output_type": "stream",
          "name": "stderr",
          "text": [
            "<ipython-input-33-0529c1f8521c>:3: FutureWarning: The 'delim_whitespace' keyword in pd.read_csv is deprecated and will be removed in a future version. Use ``sep='\\s+'`` instead\n",
            "  data = pd.read_csv('Students.dat', delim_whitespace=True)\n"
          ]
        }
      ],
      "source": [
        "import pandas as pd\n",
        "# Load the Students.dat data\n",
        "data = pd.read_csv('Students.dat', delim_whitespace=True)\n",
        "\n",
        "# Fit the linear model\n",
        "model = sm.ols('cogpa ~ hsgpa + tv + sport', data=data).fit()\n",
        "\n",
        "# Significance test for hsgpa\n",
        "print(model.summary())\n",
        "\n",
        "# Extract the p-value for hsgpa\n",
        "p_value_hsgpa = model.pvalues['hsgpa']\n",
        "\n",
        "# Set the significance level\n",
        "alpha = 0.05\n",
        "\n",
        "print(\"\\nSignificance test for hsgpa:\")\n",
        "print(f\"P-value for hsgpa: {p_value_hsgpa:.4f}\")\n",
        "\n",
        "if p_value_hsgpa < alpha:\n",
        "  print(\"Reject the null hypothesis (H0: β_hsgpa = 0).\")\n",
        "  print(\"The effect of hsgpa on cogpa is statistically significant, adjusting for tv and sport.\")\n",
        "else:\n",
        "  print(\"Fail to reject the null hypothesis (H0: β_hsgpa = 0).\")\n",
        "  print(\"The effect of hsgpa on cogpa is not statistically significant, adjusting for tv and sport.\")\n",
        "\n",
        "print(\"\\nInterpretation:\")\n",
        "print(\"The p-value for hsgpa is very small, indicating strong evidence against the null hypothesis that hsgpa has no effect on cogpa.\")\n",
        "print(\"We reject the null hypothesis, suggesting that hsgpa is a significant predictor of cogpa when we consider the effects of tv and sport as well.\")\n",
        "print(\"This means that high school GPA has a statistically significant effect on college GPA, even after accounting for weekly hours watching TV and participating in sports.\")\n"
      ]
    },
    {
      "cell_type": "markdown",
      "metadata": {
        "id": "ykW9Rjg7Dgkg"
      },
      "source": [
        "(c)  Is the effect in (b) significant at the $\\alpha = 0.05$ level if we use the Bonferroni approach to test the family of three individual effects? Explain."
      ]
    },
    {
      "cell_type": "markdown",
      "metadata": {
        "id": "miV-2Ei1Dgkg"
      },
      "source": [
        "`Your answer goes here`"
      ]
    },
    {
      "cell_type": "code",
      "execution_count": 34,
      "metadata": {
        "colab": {
          "base_uri": "https://localhost:8080/"
        },
        "id": "3MfeWXVIDgkh",
        "outputId": "d7d707c1-f64a-4760-ff2a-f9caceeab057"
      },
      "outputs": [
        {
          "output_type": "stream",
          "name": "stdout",
          "text": [
            "\n",
            "Bonferroni Correction:\n",
            "Original alpha: 0.05\n",
            "Adjusted alpha (Bonferroni): 0.016666666666666666\n",
            "\n",
            "Predictor: hsgpa\n",
            "P-value: 0.0439\n",
            "Fail to reject the null hypothesis (H0: β_hsgpa = 0) using Bonferroni correction.\n",
            "The effect of hsgpa on cogpa is not statistically significant, adjusting for other variables.\n",
            "\n",
            "Predictor: tv\n",
            "P-value: 0.6291\n",
            "Fail to reject the null hypothesis (H0: β_tv = 0) using Bonferroni correction.\n",
            "The effect of tv on cogpa is not statistically significant, adjusting for other variables.\n",
            "\n",
            "Predictor: sport\n",
            "P-value: 0.2303\n",
            "Fail to reject the null hypothesis (H0: β_sport = 0) using Bonferroni correction.\n",
            "The effect of sport on cogpa is not statistically significant, adjusting for other variables.\n",
            "\n",
            "Explanation:\n",
            "The Bonferroni correction is a method used to control the family-wise error rate (FWER) when conducting multiple hypothesis tests.\n",
            "It adjusts the significance level for each individual test to reduce the probability of making at least one Type I error (false positive).\n",
            "In this case, we are testing the individual effects of three predictors (hsgpa, tv, sport) on college GPA.\n",
            "By dividing the original significance level (α = 0.05) by the number of tests (3), we obtain a more stringent significance level (adjusted alpha).\n",
            "This ensures that the probability of making at least one Type I error across all three tests is still controlled at α.\n"
          ]
        },
        {
          "output_type": "stream",
          "name": "stderr",
          "text": [
            "<ipython-input-34-1cebee875b99>:5: FutureWarning: The 'delim_whitespace' keyword in pd.read_csv is deprecated and will be removed in a future version. Use ``sep='\\s+'`` instead\n",
            "  data = pd.read_csv('Students.dat', delim_whitespace=True)\n"
          ]
        }
      ],
      "source": [
        "import pandas as pd\n",
        "import statsmodels.formula.api as sm\n",
        "\n",
        "# Load the Students.dat data\n",
        "data = pd.read_csv('Students.dat', delim_whitespace=True)\n",
        "\n",
        "# Fit the linear model\n",
        "model = sm.ols('cogpa ~ hsgpa + tv + sport', data=data).fit()\n",
        "\n",
        "# Extract the p-values for each predictor\n",
        "p_values = model.pvalues[['hsgpa', 'tv', 'sport']]\n",
        "\n",
        "# Set the significance level\n",
        "alpha = 0.05\n",
        "\n",
        "# Bonferroni correction\n",
        "adjusted_alpha = alpha / len(p_values)\n",
        "\n",
        "print(\"\\nBonferroni Correction:\")\n",
        "print(f\"Original alpha: {alpha}\")\n",
        "print(f\"Adjusted alpha (Bonferroni): {adjusted_alpha}\")\n",
        "\n",
        "# Check significance for each predictor using adjusted alpha\n",
        "for predictor, p_value in p_values.items():\n",
        "  print(f\"\\nPredictor: {predictor}\")\n",
        "  print(f\"P-value: {p_value:.4f}\")\n",
        "  if p_value < adjusted_alpha:\n",
        "    print(f\"Reject the null hypothesis (H0: β_{predictor} = 0) using Bonferroni correction.\")\n",
        "    print(f\"The effect of {predictor} on cogpa is statistically significant, adjusting for other variables.\")\n",
        "  else:\n",
        "    print(f\"Fail to reject the null hypothesis (H0: β_{predictor} = 0) using Bonferroni correction.\")\n",
        "    print(f\"The effect of {predictor} on cogpa is not statistically significant, adjusting for other variables.\")\n",
        "\n",
        "print(\"\\nExplanation:\")\n",
        "print(\"The Bonferroni correction is a method used to control the family-wise error rate (FWER) when conducting multiple hypothesis tests.\")\n",
        "print(\"It adjusts the significance level for each individual test to reduce the probability of making at least one Type I error (false positive).\")\n",
        "print(\"In this case, we are testing the individual effects of three predictors (hsgpa, tv, sport) on college GPA.\")\n",
        "print(\"By dividing the original significance level (α = 0.05) by the number of tests (3), we obtain a more stringent significance level (adjusted alpha).\")\n",
        "print(\"This ensures that the probability of making at least one Type I error across all three tests is still controlled at α.\")\n",
        "\n",
        "# Interpretation in the context of the problem\n",
        "# After applying the Bonferroni correction, we may observe that some predictors might no longer be considered statistically significant at the adjusted alpha level, even if they were significant using the original alpha level.\n",
        "# This is because the Bonferroni correction makes it more difficult to reject the null hypothesis for each individual test, resulting in a more conservative approach to inference.\n"
      ]
    },
    {
      "cell_type": "markdown",
      "metadata": {
        "id": "96JXVKWlDgkh"
      },
      "source": [
        "(d) Are the effects of *tv* and *sport* significant? Propose an alternative model."
      ]
    },
    {
      "cell_type": "markdown",
      "metadata": {
        "id": "fU4-begmDgkh"
      },
      "source": [
        "`Your answer goes here`"
      ]
    },
    {
      "cell_type": "code",
      "execution_count": 35,
      "metadata": {
        "colab": {
          "base_uri": "https://localhost:8080/"
        },
        "id": "PtFudj_MDgkh",
        "outputId": "75b5bd93-9dff-4c42-a497-23f9313f001e"
      },
      "outputs": [
        {
          "output_type": "stream",
          "name": "stdout",
          "text": [
            "                            OLS Regression Results                            \n",
            "==============================================================================\n",
            "Dep. Variable:                  cogpa   R-squared:                       0.105\n",
            "Model:                            OLS   Adj. R-squared:                  0.057\n",
            "Method:                 Least Squares   F-statistic:                     2.179\n",
            "Date:                Sun, 13 Oct 2024   Prob (F-statistic):              0.101\n",
            "Time:                        13:31:55   Log-Likelihood:                -18.587\n",
            "No. Observations:                  60   AIC:                             45.17\n",
            "Df Residuals:                      56   BIC:                             53.55\n",
            "Df Model:                           3                                         \n",
            "Covariance Type:            nonrobust                                         \n",
            "==============================================================================\n",
            "                 coef    std err          t      P>|t|      [0.025      0.975]\n",
            "------------------------------------------------------------------------------\n",
            "Intercept      2.8154      0.368      7.655      0.000       2.079       3.552\n",
            "hsgpa          0.2088      0.101      2.061      0.044       0.006       0.412\n",
            "tv             0.0033      0.007      0.486      0.629      -0.010       0.017\n",
            "sport         -0.0141      0.012     -1.213      0.230      -0.037       0.009\n",
            "==============================================================================\n",
            "Omnibus:                        3.507   Durbin-Watson:                   1.600\n",
            "Prob(Omnibus):                  0.173   Jarque-Bera (JB):                1.919\n",
            "Skew:                          -0.148   Prob(JB):                        0.383\n",
            "Kurtosis:                       2.175   Cond. No.                         97.6\n",
            "==============================================================================\n",
            "\n",
            "Notes:\n",
            "[1] Standard Errors assume that the covariance matrix of the errors is correctly specified.\n",
            "\n",
            "Significance of tv and sport:\n",
            "P-value for tv: 0.6291\n",
            "P-value for sport: 0.2303\n",
            "\n",
            "Alternative Model Summary:\n",
            "                            OLS Regression Results                            \n",
            "==============================================================================\n",
            "Dep. Variable:                  cogpa   R-squared:                       0.077\n",
            "Model:                            OLS   Adj. R-squared:                  0.062\n",
            "Method:                 Least Squares   F-statistic:                     4.871\n",
            "Date:                Sun, 13 Oct 2024   Prob (F-statistic):             0.0313\n",
            "Time:                        13:31:55   Log-Likelihood:                -19.479\n",
            "No. Observations:                  60   AIC:                             42.96\n",
            "Df Residuals:                      58   BIC:                             47.15\n",
            "Df Model:                           1                                         \n",
            "Covariance Type:            nonrobust                                         \n",
            "==============================================================================\n",
            "                 coef    std err          t      P>|t|      [0.025      0.975]\n",
            "------------------------------------------------------------------------------\n",
            "Intercept      2.7492      0.322      8.536      0.000       2.104       3.394\n",
            "hsgpa          0.2128      0.096      2.207      0.031       0.020       0.406\n",
            "==============================================================================\n",
            "Omnibus:                        8.135   Durbin-Watson:                   1.577\n",
            "Prob(Omnibus):                  0.017   Jarque-Bera (JB):                2.955\n",
            "Skew:                          -0.175   Prob(JB):                        0.228\n",
            "Kurtosis:                       1.971   Cond. No.                         26.6\n",
            "==============================================================================\n",
            "\n",
            "Notes:\n",
            "[1] Standard Errors assume that the covariance matrix of the errors is correctly specified.\n",
            "\n",
            "Comparison of Models:\n",
            "The original model includes tv and sport, which might not be statistically significant.\n",
            "The alternative model only includes hsgpa, which is a significant predictor of cogpa.\n",
            "In this case, the alternative model might be a simpler and potentially more useful model for predicting cogpa.\n"
          ]
        },
        {
          "output_type": "stream",
          "name": "stderr",
          "text": [
            "<ipython-input-35-6e4ed7281394>:8: FutureWarning: The 'delim_whitespace' keyword in pd.read_csv is deprecated and will be removed in a future version. Use ``sep='\\s+'`` instead\n",
            "  data = pd.read_csv('Students.dat', delim_whitespace=True)\n"
          ]
        }
      ],
      "source": [
        "import pandas as pd\n",
        "import matplotlib.pyplot as plt\n",
        "import numpy as np\n",
        "import math\n",
        "import statsmodels.formula.api as sm\n",
        "\n",
        "# Load the Students.dat data\n",
        "data = pd.read_csv('Students.dat', delim_whitespace=True)\n",
        "\n",
        "# Fit the linear model\n",
        "model = sm.ols('cogpa ~ hsgpa + tv + sport', data=data).fit()\n",
        "\n",
        "# Print the model summary\n",
        "print(model.summary())\n",
        "\n",
        "# Analyze the p-values for tv and sport\n",
        "p_value_tv = model.pvalues['tv']\n",
        "p_value_sport = model.pvalues['sport']\n",
        "\n",
        "print(\"\\nSignificance of tv and sport:\")\n",
        "print(f\"P-value for tv: {p_value_tv:.4f}\")\n",
        "print(f\"P-value for sport: {p_value_sport:.4f}\")\n",
        "\n",
        "# Fit a new model without tv and sport\n",
        "alternative_model = sm.ols('cogpa ~ hsgpa', data=data).fit()\n",
        "\n",
        "# Print the alternative model summary\n",
        "print(\"\\nAlternative Model Summary:\")\n",
        "print(alternative_model.summary())\n",
        "\n",
        "print(\"\\nComparison of Models:\")\n",
        "print(\"The original model includes tv and sport, which might not be statistically significant.\")\n",
        "print(\"The alternative model only includes hsgpa, which is a significant predictor of cogpa.\")\n",
        "print(\"In this case, the alternative model might be a simpler and potentially more useful model for predicting cogpa.\")\n",
        "\n",
        "# You can compare the goodness of fit and the adjusted R-squared between the\n",
        "# original and alternative models to see which one performs better.\n"
      ]
    },
    {
      "cell_type": "markdown",
      "metadata": {
        "id": "ZMm4L0aNDgki"
      },
      "source": [
        "## Problem 6.12."
      ]
    },
    {
      "cell_type": "markdown",
      "metadata": {
        "id": "0opWMrobDgki"
      },
      "source": [
        "For the `UN` data file at the book’s website (see Exercise 1.24), construct a multiple regression model predicting Internet using all the other variables. Use the concept of multicollinearity to explain why adjusted $R^2$ is not dramatically greater than when GDP is the sole predictor. Compare the estimated GDP effect in the bivariate model and the multiple regression model and explain why it is so much weaker in the multiple regression model."
      ]
    },
    {
      "cell_type": "markdown",
      "metadata": {
        "id": "lG-0_fe1Dgki"
      },
      "source": [
        "`Your answer goes here`"
      ]
    },
    {
      "cell_type": "code",
      "execution_count": 36,
      "metadata": {
        "colab": {
          "base_uri": "https://localhost:8080/"
        },
        "id": "DMbxgyAjDgki",
        "outputId": "53e68e4a-1ebc-4235-b719-84f339ffc07c"
      },
      "outputs": [
        {
          "output_type": "stream",
          "name": "stdout",
          "text": [
            "                            OLS Regression Results                            \n",
            "==============================================================================\n",
            "Dep. Variable:               Internet   R-squared:                       1.000\n",
            "Model:                            OLS   Adj. R-squared:                    nan\n",
            "Method:                 Least Squares   F-statistic:                       nan\n",
            "Date:                Sun, 13 Oct 2024   Prob (F-statistic):                nan\n",
            "Time:                        13:37:33   Log-Likelihood:                 1074.8\n",
            "No. Observations:                  42   AIC:                            -2066.\n",
            "Df Residuals:                       0   BIC:                            -1993.\n",
            "Df Model:                          41                                         \n",
            "Covariance Type:            nonrobust                                         \n",
            "=========================================================================================\n",
            "                            coef    std err          t      P>|t|      [0.025      0.975]\n",
            "-----------------------------------------------------------------------------------------\n",
            "Intercept                14.9896        inf          0        nan         nan         nan\n",
            "Nation[T.Argentina]      24.6285        inf          0        nan         nan         nan\n",
            "Nation[T.Australia]     -12.5399        inf         -0        nan         nan         nan\n",
            "Nation[T.Austria]        -6.2480        inf         -0        nan         nan         nan\n",
            "Nation[T.Belgium]        -0.2966        inf         -0        nan         nan         nan\n",
            "Nation[T.Brazil]          0.1900        inf          0        nan         nan         nan\n",
            "Nation[T.Canada]         -5.3468        inf         -0        nan         nan         nan\n",
            "Nation[T.Chile]          28.1737        inf          0        nan         nan         nan\n",
            "Nation[T.China]          14.4036        inf          0        nan         nan         nan\n",
            "Nation[T.Denmark]        11.3007        inf          0        nan         nan         nan\n",
            "Nation[T.Finland]         6.5340        inf          0        nan         nan         nan\n",
            "Nation[T.France]         12.1073        inf          0        nan         nan         nan\n",
            "Nation[T.Germany]        -4.7240        inf         -0        nan         nan         nan\n",
            "Nation[T.Greece]         -0.2816        inf         -0        nan         nan         nan\n",
            "Nation[T.India]           3.0002        inf          0        nan         nan         nan\n",
            "Nation[T.Indonesia]       0.5645        inf          0        nan         nan         nan\n",
            "Nation[T.Iran]            1.3719        inf          0        nan         nan         nan\n",
            "Nation[T.Ireland]        -5.8041        inf         -0        nan         nan         nan\n",
            "Nation[T.Israel]         13.6600        inf          0        nan         nan         nan\n",
            "Nation[T.Italy]         -12.2011        inf         -0        nan         nan         nan\n",
            "Nation[T.Japan]           8.1588        inf          0        nan         nan         nan\n",
            "Nation[T.Korea]           8.1166        inf          0        nan         nan         nan\n",
            "Nation[T.Malaysia]       16.9129        inf          0        nan         nan         nan\n",
            "Nation[T.Mexico]        -18.2916        inf         -0        nan         nan         nan\n",
            "Nation[T.Morocco]        52.7901        inf          0        nan         nan         nan\n",
            "Nation[T.Netherlands]     4.3612        inf          0        nan         nan         nan\n",
            "Nation[T.NewZealand]     21.9654        inf          0        nan         nan         nan\n",
            "Nation[T.Nigeria]        33.3069        inf          0        nan         nan         nan\n",
            "Nation[T.Norway]        -22.1804        inf         -0        nan         nan         nan\n",
            "Nation[T.Pakistan]       -0.9480        inf         -0        nan         nan         nan\n",
            "Nation[T.Peru]            9.5061        inf          0        nan         nan         nan\n",
            "Nation[T.Philippines]    25.2072        inf          0        nan         nan         nan\n",
            "Nation[T.Portugal]        8.4914        inf          0        nan         nan         nan\n",
            "Nation[T.Russia]          5.9550        inf          0        nan         nan         nan\n",
            "Nation[T.SouthAfrica]   -19.9601        inf         -0        nan         nan         nan\n",
            "Nation[T.Spain]           7.9703        inf          0        nan         nan         nan\n",
            "Nation[T.Sweden]         13.9972        inf          0        nan         nan         nan\n",
            "Nation[T.Switzerland]    -8.1081        inf         -0        nan         nan         nan\n",
            "Nation[T.Turkey]         10.1104        inf          0        nan         nan         nan\n",
            "Nation[T.UK]             22.8078        inf          0        nan         nan         nan\n",
            "Nation[T.US]             -0.0913        inf         -0        nan         nan         nan\n",
            "Nation[T.Vietnam]        31.4441        inf          0        nan         nan         nan\n",
            "GDP                       1.4721        inf          0        nan         nan         nan\n",
            "HDI                       9.8806        inf          0        nan         nan         nan\n",
            "GII                     -17.0090        inf         -0        nan         nan         nan\n",
            "Fertility                -5.4893        inf         -0        nan         nan         nan\n",
            "CO2                       1.5645        inf          0        nan         nan         nan\n",
            "Homicide                  1.6272        inf          0        nan         nan         nan\n",
            "Prison                   -0.0478        inf         -0        nan         nan         nan\n",
            "==============================================================================\n",
            "Omnibus:                       55.483   Durbin-Watson:                   0.692\n",
            "Prob(Omnibus):                  0.000   Jarque-Bera (JB):              352.847\n",
            "Skew:                          -3.181   Prob(JB):                     2.40e-77\n",
            "Kurtosis:                      15.695   Cond. No.                     4.24e+03\n",
            "==============================================================================\n",
            "\n",
            "Notes:\n",
            "[1] Standard Errors assume that the covariance matrix of the errors is correctly specified.\n",
            "[2] The input rank is higher than the number of observations.\n",
            "[3] The condition number is large, 4.24e+03. This might indicate that there are\n",
            "strong multicollinearity or other numerical problems.\n",
            "\n",
            "Adjusted R-squared:\n",
            "The adjusted R-squared for the multiple regression model is nan\n",
            "\n",
            "Correlation Matrix of Predictors:\n",
            "                GDP       HDI       GII  Fertility       CO2  Homicide  \\\n",
            "GDP        1.000000  0.902973 -0.850669  -0.486159  0.674470 -0.407365   \n",
            "HDI        0.902973  1.000000 -0.882215  -0.669304  0.680910 -0.428139   \n",
            "GII       -0.850669 -0.882215  1.000000   0.597874 -0.554524  0.511432   \n",
            "Fertility -0.486159 -0.669304  0.597874   1.000000 -0.447745  0.305606   \n",
            "CO2        0.674470  0.680910 -0.554524  -0.447745  1.000000 -0.165176   \n",
            "Homicide  -0.407365 -0.428139  0.511432   0.305606 -0.165176  1.000000   \n",
            "Prison    -0.002952  0.037466  0.215956  -0.085582  0.368553  0.330692   \n",
            "\n",
            "             Prison  \n",
            "GDP       -0.002952  \n",
            "HDI        0.037466  \n",
            "GII        0.215956  \n",
            "Fertility -0.085582  \n",
            "CO2        0.368553  \n",
            "Homicide   0.330692  \n",
            "Prison     1.000000  \n",
            "\n",
            "Bivariate Model Summary:\n",
            "                            OLS Regression Results                            \n",
            "==============================================================================\n",
            "Dep. Variable:               Internet   R-squared:                       0.769\n",
            "Model:                            OLS   Adj. R-squared:                  0.764\n",
            "Method:                 Least Squares   F-statistic:                     133.5\n",
            "Date:                Sun, 13 Oct 2024   Prob (F-statistic):           2.55e-14\n",
            "Time:                        13:37:33   Log-Likelihood:                -162.74\n",
            "No. Observations:                  42   AIC:                             329.5\n",
            "Df Residuals:                      40   BIC:                             333.0\n",
            "Df Model:                           1                                         \n",
            "Covariance Type:            nonrobust                                         \n",
            "==============================================================================\n",
            "                 coef    std err          t      P>|t|      [0.025      0.975]\n",
            "------------------------------------------------------------------------------\n",
            "Intercept     26.1341      3.749      6.971      0.000      18.557      33.711\n",
            "GDP            1.4060      0.122     11.555      0.000       1.160       1.652\n",
            "==============================================================================\n",
            "Omnibus:                        2.844   Durbin-Watson:                   1.425\n",
            "Prob(Omnibus):                  0.241   Jarque-Bera (JB):                2.649\n",
            "Skew:                          -0.556   Prob(JB):                        0.266\n",
            "Kurtosis:                       2.474   Cond. No.                         62.7\n",
            "==============================================================================\n",
            "\n",
            "Notes:\n",
            "[1] Standard Errors assume that the covariance matrix of the errors is correctly specified.\n",
            "\n",
            "Adjusted R-squared (Bivariate):\n",
            "The adjusted R-squared for the bivariate model is 0.764\n",
            "\n",
            "Estimated GDP Effect:\n",
            "Bivariate Model: 1.406\n",
            "Multiple Regression Model: 1.472\n",
            "\n",
            "Explanation of Multicollinearity:\n",
            "The correlation matrix shows that some of the predictor variables are highly correlated with each other (e.g., GDP and CO2).\n",
            "This multicollinearity can lead to unstable and unreliable estimates of the regression coefficients.\n",
            "The presence of multicollinearity suggests that adding more predictors to the model may not significantly improve the overall fit of the model, as these predictors are capturing similar information.\n",
            "Therefore, the adjusted R-squared is not dramatically greater in the multiple regression model compared to the model with only GDP as the predictor.\n",
            "\n",
            "Explanation of Weaker GDP Effect:\n",
            "In the multiple regression model, the effect of GDP is estimated while controlling for the other variables in the model.\n",
            "When other variables (correlated with GDP) are included, the unique effect of GDP on Internet may be masked or diminished.\n",
            "This is because some of the variance in Internet that was previously attributed to GDP may now be explained by the other correlated variables.\n",
            "Therefore, the estimated effect of GDP becomes weaker in the multiple regression model compared to the bivariate model.\n"
          ]
        },
        {
          "output_type": "stream",
          "name": "stderr",
          "text": [
            "<ipython-input-36-64318403752c>:5: FutureWarning: The 'delim_whitespace' keyword in pd.read_csv is deprecated and will be removed in a future version. Use ``sep='\\s+'`` instead\n",
            "  data = pd.read_csv('UN.dat', delim_whitespace=True)\n",
            "/usr/local/lib/python3.10/dist-packages/statsmodels/regression/linear_model.py:1795: RuntimeWarning: divide by zero encountered in divide\n",
            "  return 1 - (np.divide(self.nobs - self.k_constant, self.df_resid)\n",
            "/usr/local/lib/python3.10/dist-packages/statsmodels/regression/linear_model.py:1795: RuntimeWarning: invalid value encountered in scalar multiply\n",
            "  return 1 - (np.divide(self.nobs - self.k_constant, self.df_resid)\n",
            "/usr/local/lib/python3.10/dist-packages/statsmodels/regression/linear_model.py:1717: RuntimeWarning: divide by zero encountered in scalar divide\n",
            "  return np.dot(wresid, wresid) / self.df_resid\n"
          ]
        }
      ],
      "source": [
        "import pandas as pd\n",
        "import statsmodels.formula.api as sm\n",
        "\n",
        "# Load the UN data\n",
        "data = pd.read_csv('UN.dat', delim_whitespace=True)\n",
        "\n",
        "# Construct a multiple regression model predicting Internet using all other variables\n",
        "model = sm.ols('Internet ~ Nation + GDP + HDI + GII + Fertility + CO2 + Homicide + Prison', data=data).fit()\n",
        "\n",
        "# Print the model summary\n",
        "print(model.summary())\n",
        "\n",
        "# Analyze the adjusted R-squared\n",
        "print(\"\\nAdjusted R-squared:\")\n",
        "print(f\"The adjusted R-squared for the multiple regression model is {model.rsquared_adj:.3f}\")\n",
        "\n",
        "# Analyze the correlation matrix of the predictors\n",
        "correlation_matrix = data[['GDP', 'HDI', 'GII', 'Fertility', 'CO2', 'Homicide', 'Prison']].corr()\n",
        "print(\"\\nCorrelation Matrix of Predictors:\")\n",
        "print(correlation_matrix)\n",
        "\n",
        "# Bivariate model with GDP as the sole predictor\n",
        "bivariate_model = sm.ols('Internet ~ GDP', data=data).fit()\n",
        "print(\"\\nBivariate Model Summary:\")\n",
        "print(bivariate_model.summary())\n",
        "\n",
        "# Analyze the adjusted R-squared for the bivariate model\n",
        "print(\"\\nAdjusted R-squared (Bivariate):\")\n",
        "print(f\"The adjusted R-squared for the bivariate model is {bivariate_model.rsquared_adj:.3f}\")\n",
        "\n",
        "# Compare the estimated GDP effect in the bivariate and multiple regression models\n",
        "print(\"\\nEstimated GDP Effect:\")\n",
        "print(f\"Bivariate Model: {bivariate_model.params['GDP']:.3f}\")\n",
        "print(f\"Multiple Regression Model: {model.params['GDP']:.3f}\")\n",
        "\n",
        "# Explanation of why adjusted R-squared is not dramatically greater\n",
        "print(\"\\nExplanation of Multicollinearity:\")\n",
        "print(\"The correlation matrix shows that some of the predictor variables are highly correlated with each other (e.g., GDP and CO2).\")\n",
        "print(\"This multicollinearity can lead to unstable and unreliable estimates of the regression coefficients.\")\n",
        "print(\"The presence of multicollinearity suggests that adding more predictors to the model may not significantly improve the overall fit of the model, as these predictors are capturing similar information.\")\n",
        "print(\"Therefore, the adjusted R-squared is not dramatically greater in the multiple regression model compared to the model with only GDP as the predictor.\")\n",
        "\n",
        "# Explanation of why the estimated GDP effect is weaker in the multiple regression model\n",
        "print(\"\\nExplanation of Weaker GDP Effect:\")\n",
        "print(\"In the multiple regression model, the effect of GDP is estimated while controlling for the other variables in the model.\")\n",
        "print(\"When other variables (correlated with GDP) are included, the unique effect of GDP on Internet may be masked or diminished.\")\n",
        "print(\"This is because some of the variance in Internet that was previously attributed to GDP may now be explained by the other correlated variables.\")\n",
        "print(\"Therefore, the estimated effect of GDP becomes weaker in the multiple regression model compared to the bivariate model.\")\n",
        "\n"
      ]
    },
    {
      "cell_type": "markdown",
      "metadata": {
        "id": "n4-Tvi8-Dgki"
      },
      "source": [
        "## Problem 7.1."
      ]
    },
    {
      "cell_type": "markdown",
      "metadata": {
        "id": "DA4TxzR-Dgkj"
      },
      "source": [
        "For the `Houses` data file described in Section 7.1.3, consider $Y$ = selling price, $x_1$ = tax bill (in dollars), and $x_2$ = whether the house is new."
      ]
    },
    {
      "cell_type": "markdown",
      "metadata": {
        "id": "u6JX2G4iDgkj"
      },
      "source": [
        "(a) Form the scatterplot of $y$ and $x_1$. Does the normal GLM structure of constant variability in $y$ seem approproate? If not, how does it seem to be violated?"
      ]
    },
    {
      "cell_type": "markdown",
      "metadata": {
        "id": "YnuVqeEiDgkj"
      },
      "source": [
        "`Your answer goes here`"
      ]
    },
    {
      "cell_type": "code",
      "execution_count": 37,
      "metadata": {
        "colab": {
          "base_uri": "https://localhost:8080/",
          "height": 648
        },
        "id": "qwoN4DxXDgkj",
        "outputId": "ee4c6de2-7735-4e07-d4de-7be79ee94ea4"
      },
      "outputs": [
        {
          "output_type": "stream",
          "name": "stderr",
          "text": [
            "<ipython-input-37-62da7355df5f>:5: FutureWarning: The 'delim_whitespace' keyword in pd.read_csv is deprecated and will be removed in a future version. Use ``sep='\\s+'`` instead\n",
            "  data = pd.read_csv('Houses.dat', delim_whitespace=True)\n"
          ]
        },
        {
          "output_type": "display_data",
          "data": {
            "text/plain": [
              "<Figure size 640x480 with 1 Axes>"
            ],
            "image/png": "[encoded data removed]"
          },
          "metadata": {}
        },
        {
          "output_type": "stream",
          "name": "stdout",
          "text": [
            "\n",
            "Interpretation:\n",
            "The scatterplot shows that the variability in selling price (y) seems to increase as the tax bill (x1) increases.\n",
            "This suggests a violation of the constant variance assumption of the normal GLM.\n",
            "Specifically, the variance of the residuals is likely not constant across all levels of the predictor variable (tax bill).\n",
            "The normal GLM structure of constant variability in y does not seem appropriate.\n",
            "It seems to be violated by increasing variability in y as x1 increases.\n"
          ]
        }
      ],
      "source": [
        "import pandas as pd\n",
        "import matplotlib.pyplot as plt\n",
        "\n",
        "# Load the Houses.dat data\n",
        "data = pd.read_csv('Houses.dat', delim_whitespace=True)\n",
        "\n",
        "# Extract the relevant variables\n",
        "y = data['price']\n",
        "x1 = data['taxes']\n",
        "\n",
        "# Create a scatterplot of y and x1\n",
        "plt.scatter(x1, y)\n",
        "plt.xlabel('Tax Bill (x1)')\n",
        "plt.ylabel('Selling Price (y)')\n",
        "plt.title('Scatterplot of Selling Price vs. Tax Bill')\n",
        "plt.show()\n",
        "\n",
        "# Interpretation\n",
        "print(\"\\nInterpretation:\")\n",
        "print(\"The scatterplot shows that the variability in selling price (y) seems to increase as the tax bill (x1) increases.\")\n",
        "print(\"This suggests a violation of the constant variance assumption of the normal GLM.\")\n",
        "print(\"Specifically, the variance of the residuals is likely not constant across all levels of the predictor variable (tax bill).\")\n",
        "print(\"The normal GLM structure of constant variability in y does not seem appropriate.\")\n",
        "print(\"It seems to be violated by increasing variability in y as x1 increases.\")\n"
      ]
    },
    {
      "cell_type": "markdown",
      "metadata": {
        "id": "APIsyUTUDgkj"
      },
      "source": [
        "(b) Using the identity link function, fit the (i) normal GLM, (ii) gamma GLM. For each model, interpret the effect of $x_2$."
      ]
    },
    {
      "cell_type": "markdown",
      "metadata": {
        "id": "sYBr9O31Dgkk"
      },
      "source": [
        "`Your answer goes here`"
      ]
    },
    {
      "cell_type": "code",
      "execution_count": 38,
      "metadata": {
        "colab": {
          "base_uri": "https://localhost:8080/"
        },
        "id": "LqgEcSqdDgkk",
        "outputId": "e2e22b18-425e-4f10-d27f-987a1770dcec"
      },
      "outputs": [
        {
          "output_type": "stream",
          "name": "stderr",
          "text": [
            "<ipython-input-38-d7b22c46d9ce>:6: FutureWarning: The 'delim_whitespace' keyword in pd.read_csv is deprecated and will be removed in a future version. Use ``sep='\\s+'`` instead\n",
            "  data = pd.read_csv('Houses.dat', delim_whitespace=True)\n"
          ]
        },
        {
          "output_type": "stream",
          "name": "stdout",
          "text": [
            "Normal GLM Summary:\n",
            "                            OLS Regression Results                            \n",
            "==============================================================================\n",
            "Dep. Variable:                  price   R-squared:                       0.736\n",
            "Model:                            OLS   Adj. R-squared:                  0.731\n",
            "Method:                 Least Squares   F-statistic:                     135.3\n",
            "Date:                Sun, 13 Oct 2024   Prob (F-statistic):           8.61e-29\n",
            "Time:                        14:06:32   Log-Likelihood:                -577.09\n",
            "No. Observations:                 100   AIC:                             1160.\n",
            "Df Residuals:                      97   BIC:                             1168.\n",
            "Df Model:                           2                                         \n",
            "Covariance Type:            nonrobust                                         \n",
            "==============================================================================\n",
            "                 coef    std err          t      P>|t|      [0.025      0.975]\n",
            "------------------------------------------------------------------------------\n",
            "Intercept     41.9651     14.695      2.856      0.005      12.800      71.131\n",
            "taxes          0.0951      0.007     13.722      0.000       0.081       0.109\n",
            "new           86.2001     27.245      3.164      0.002      32.127     140.273\n",
            "==============================================================================\n",
            "Omnibus:                       21.048   Durbin-Watson:                   1.643\n",
            "Prob(Omnibus):                  0.000   Jarque-Bera (JB):               51.366\n",
            "Skew:                           0.717   Prob(JB):                     7.01e-12\n",
            "Kurtosis:                       6.205   Cond. No.                     7.88e+03\n",
            "==============================================================================\n",
            "\n",
            "Notes:\n",
            "[1] Standard Errors assume that the covariance matrix of the errors is correctly specified.\n",
            "[2] The condition number is large, 7.88e+03. This might indicate that there are\n",
            "strong multicollinearity or other numerical problems.\n",
            "\n",
            "Interpretation of x2 (new) in Normal GLM:\n",
            "The coefficient for 'new' is 86.20.\n",
            "This means that, on average, a new house is estimated to sell for approximately 86 dollars more than an older house, holding the tax bill constant.\n",
            "\n",
            "Gamma GLM Summary:\n",
            "                 Generalized Linear Model Regression Results                  \n",
            "==============================================================================\n",
            "Dep. Variable:                  price   No. Observations:                  100\n",
            "Model:                            GLM   Df Residuals:                       97\n",
            "Model Family:                   Gamma   Df Model:                            2\n",
            "Link Function:           InversePower   Scale:                         0.11332\n",
            "Method:                          IRLS   Log-Likelihood:                -566.44\n",
            "Date:                Sun, 13 Oct 2024   Deviance:                       12.090\n",
            "Time:                        14:06:33   Pearson chi2:                     11.0\n",
            "No. Iterations:                    12   Pseudo R-squ. (CS):             0.8265\n",
            "Covariance Type:            nonrobust                                         \n",
            "==============================================================================\n",
            "                 coef    std err          z      P>|z|      [0.025      0.975]\n",
            "------------------------------------------------------------------------------\n",
            "const          0.0068      0.000     25.987      0.000       0.006       0.007\n",
            "taxes      -8.955e-07   6.21e-08    -14.430      0.000   -1.02e-06   -7.74e-07\n",
            "new           -0.0010      0.000     -3.745      0.000      -0.001      -0.000\n",
            "==============================================================================\n",
            "\n",
            "Interpretation of x2 (new) in Gamma GLM:\n",
            "The coefficient for 'new' is -0.00.\n",
            "This means that, on average, a new house is estimated to sell for approximately 0 dollars more than an older house, holding the tax bill constant.\n"
          ]
        },
        {
          "output_type": "stream",
          "name": "stderr",
          "text": [
            "/usr/local/lib/python3.10/dist-packages/statsmodels/genmod/generalized_linear_model.py:308: DomainWarning: The InversePower link function does not respect the domain of the Gamma family.\n",
            "  warnings.warn((f\"The {type(family.link).__name__} link function \"\n"
          ]
        }
      ],
      "source": [
        "import pandas as pd\n",
        "import statsmodels.formula.api as sm\n",
        "import matplotlib.pyplot as plt\n",
        "\n",
        "# Load the Houses.dat data\n",
        "data = pd.read_csv('Houses.dat', delim_whitespace=True)\n",
        "\n",
        "# (b) (i) Normal GLM\n",
        "normal_glm = sm.ols('price ~ taxes + new', data=data).fit()\n",
        "print(\"Normal GLM Summary:\")\n",
        "print(normal_glm.summary())\n",
        "\n",
        "# Interpretation of x2 (new) in Normal GLM\n",
        "print(\"\\nInterpretation of x2 (new) in Normal GLM:\")\n",
        "print(f\"The coefficient for 'new' is {normal_glm.params['new']:.2f}.\")\n",
        "print(\"This means that, on average, a new house is estimated to sell for approximately\", round(normal_glm.params['new']), \"dollars more than an older house, holding the tax bill constant.\")\n",
        "\n",
        "\n",
        "import statsmodels.api as sm\n",
        "gamma_glm = sm.GLM(data['price'], sm.add_constant(data[['taxes', 'new']]), family=sm.families.Gamma()).fit()\n",
        "print(\"\\nGamma GLM Summary:\")\n",
        "print(gamma_glm.summary())\n",
        "\n",
        "# Interpretation of x2 (new) in Gamma GLM\n",
        "print(\"\\nInterpretation of x2 (new) in Gamma GLM:\")\n",
        "print(f\"The coefficient for 'new' is {gamma_glm.params['new']:.2f}.\")\n",
        "print(\"This means that, on average, a new house is estimated to sell for approximately\", round(gamma_glm.params['new']), \"dollars more than an older house, holding the tax bill constant.\")\n",
        "\n",
        "\n"
      ]
    },
    {
      "cell_type": "markdown",
      "metadata": {
        "id": "nxgR3NjNDgkk"
      },
      "source": [
        "(c) For each model, describe how the estimated variability in selling prices varies as the mean selling price varies from 100 thousand to 500 thousand dollars."
      ]
    },
    {
      "cell_type": "markdown",
      "metadata": {
        "id": "-N4RRucFDgkk"
      },
      "source": [
        "`Your answer goes here`"
      ]
    },
    {
      "cell_type": "code",
      "execution_count": 40,
      "metadata": {
        "colab": {
          "base_uri": "https://localhost:8080/",
          "height": 1000
        },
        "id": "ha3gzN_jDgkk",
        "outputId": "7a99c010-08b5-4fdd-8b29-f5be0cb76576"
      },
      "outputs": [
        {
          "output_type": "stream",
          "name": "stderr",
          "text": [
            "<ipython-input-40-216e6745b1cf>:10: FutureWarning: The 'delim_whitespace' keyword in pd.read_csv is deprecated and will be removed in a future version. Use ``sep='\\s+'`` instead\n",
            "  data = pd.read_csv('Houses.dat', delim_whitespace=True)\n",
            "/usr/local/lib/python3.10/dist-packages/statsmodels/genmod/generalized_linear_model.py:308: DomainWarning: The InversePower link function does not respect the domain of the Gamma family.\n",
            "  warnings.warn((f\"The {type(family.link).__name__} link function \"\n"
          ]
        },
        {
          "output_type": "stream",
          "name": "stdout",
          "text": [
            "Normal GLM Summary:\n",
            "                            OLS Regression Results                            \n",
            "==============================================================================\n",
            "Dep. Variable:                  price   R-squared:                       0.736\n",
            "Model:                            OLS   Adj. R-squared:                  0.731\n",
            "Method:                 Least Squares   F-statistic:                     135.3\n",
            "Date:                Sun, 13 Oct 2024   Prob (F-statistic):           8.61e-29\n",
            "Time:                        14:07:36   Log-Likelihood:                -577.09\n",
            "No. Observations:                 100   AIC:                             1160.\n",
            "Df Residuals:                      97   BIC:                             1168.\n",
            "Df Model:                           2                                         \n",
            "Covariance Type:            nonrobust                                         \n",
            "==============================================================================\n",
            "                 coef    std err          t      P>|t|      [0.025      0.975]\n",
            "------------------------------------------------------------------------------\n",
            "Intercept     41.9651     14.695      2.856      0.005      12.800      71.131\n",
            "taxes          0.0951      0.007     13.722      0.000       0.081       0.109\n",
            "new           86.2001     27.245      3.164      0.002      32.127     140.273\n",
            "==============================================================================\n",
            "Omnibus:                       21.048   Durbin-Watson:                   1.643\n",
            "Prob(Omnibus):                  0.000   Jarque-Bera (JB):               51.366\n",
            "Skew:                           0.717   Prob(JB):                     7.01e-12\n",
            "Kurtosis:                       6.205   Cond. No.                     7.88e+03\n",
            "==============================================================================\n",
            "\n",
            "Notes:\n",
            "[1] Standard Errors assume that the covariance matrix of the errors is correctly specified.\n",
            "[2] The condition number is large, 7.88e+03. This might indicate that there are\n",
            "strong multicollinearity or other numerical problems.\n",
            "\n",
            "Gamma GLM Summary:\n",
            "                 Generalized Linear Model Regression Results                  \n",
            "==============================================================================\n",
            "Dep. Variable:                  price   No. Observations:                  100\n",
            "Model:                            GLM   Df Residuals:                       97\n",
            "Model Family:                   Gamma   Df Model:                            2\n",
            "Link Function:           InversePower   Scale:                         0.11332\n",
            "Method:                          IRLS   Log-Likelihood:                -566.44\n",
            "Date:                Sun, 13 Oct 2024   Deviance:                       12.090\n",
            "Time:                        14:07:36   Pearson chi2:                     11.0\n",
            "No. Iterations:                    12   Pseudo R-squ. (CS):             0.8265\n",
            "Covariance Type:            nonrobust                                         \n",
            "==============================================================================\n",
            "                 coef    std err          z      P>|z|      [0.025      0.975]\n",
            "------------------------------------------------------------------------------\n",
            "const          0.0068      0.000     25.987      0.000       0.006       0.007\n",
            "taxes      -8.955e-07   6.21e-08    -14.430      0.000   -1.02e-06   -7.74e-07\n",
            "new           -0.0010      0.000     -3.745      0.000      -0.001      -0.000\n",
            "==============================================================================\n"
          ]
        },
        {
          "output_type": "display_data",
          "data": {
            "text/plain": [
              "<Figure size 640x480 with 1 Axes>"
            ],
            "image/png": "[encoded data removed]"
          },
          "metadata": {}
        },
        {
          "output_type": "stream",
          "name": "stdout",
          "text": [
            "\n",
            "Interpretation:\n",
            "For the Normal GLM, the estimated variability in selling prices is constant across all mean selling price levels.\n",
            "For the Gamma GLM, the estimated variability in selling prices increases as the mean selling price increases.\n",
            "This is consistent with the observation that the variability in selling prices tends to increase with the tax bill (which is also correlated with selling price).\n",
            "The Gamma GLM seems to be a more appropriate model because it allows the variance to change with the mean, thus better addressing the heteroscedasticity observed in the data.\n"
          ]
        }
      ],
      "source": [
        "import pandas as pd\n",
        "import matplotlib.pyplot as plt\n",
        "import numpy as np\n",
        "import math\n",
        "# Import statsmodels.formula.api for ols\n",
        "import statsmodels.formula.api as smf  # Change here: import as smf to avoid conflict\n",
        "import statsmodels.api as sm\n",
        "\n",
        "# Load the Houses.dat data\n",
        "data = pd.read_csv('Houses.dat', delim_whitespace=True)\n",
        "\n",
        "# (b) (i) Normal GLM\n",
        "# Use smf.ols instead of sm.ols\n",
        "normal_glm = smf.ols('price ~ taxes + new', data=data).fit()  # Change here: Use smf.ols\n",
        "print(\"Normal GLM Summary:\")\n",
        "print(normal_glm.summary())\n",
        "\n",
        "# (b) (ii) Gamma GLM\n",
        "gamma_glm = sm.GLM(data['price'], sm.add_constant(data[['taxes', 'new']]), family=sm.families.Gamma()).fit()\n",
        "print(\"\\nGamma GLM Summary:\")\n",
        "print(gamma_glm.summary())\n",
        "\n",
        "# (c) Estimated Variability in Selling Prices\n",
        "\n",
        "# Create a range of mean selling prices from 100k to 500k\n",
        "mean_prices = np.linspace(100000, 500000, 100)\n",
        "\n",
        "# Function to calculate predicted variance for normal GLM\n",
        "def normal_glm_variance(mean_price, model):\n",
        "  # Assuming constant variance (σ^2)\n",
        "  return model.scale\n",
        "\n",
        "\n",
        "# Function to calculate predicted variance for gamma GLM\n",
        "def gamma_glm_variance(mean_price, model):\n",
        "  # Variance in gamma GLM is proportional to the square of the mean\n",
        "  return (model.scale * mean_price) ** 2\n",
        "\n",
        "\n",
        "# Calculate predicted variances for both models\n",
        "normal_glm_variances = [normal_glm_variance(price, normal_glm) for price in mean_prices]\n",
        "gamma_glm_variances = [gamma_glm_variance(price, gamma_glm) for price in mean_prices]\n",
        "\n",
        "\n",
        "# Plot the results\n",
        "plt.plot(mean_prices, normal_glm_variances, label='Normal GLM')\n",
        "plt.plot(mean_prices, gamma_glm_variances, label='Gamma GLM')\n",
        "plt.xlabel('Mean Selling Price')\n",
        "plt.ylabel('Estimated Variance')\n",
        "plt.title('Estimated Variability in Selling Prices')\n",
        "plt.legend()\n",
        "plt.show()\n",
        "\n",
        "print(\"\\nInterpretation:\")\n",
        "print(\"For the Normal GLM, the estimated variability in selling prices is constant across all mean selling price levels.\")\n",
        "print(\"For the Gamma GLM, the estimated variability in selling prices increases as the mean selling price increases.\")\n",
        "print(\"This is consistent with the observation that the variability in selling prices tends to increase with the tax bill (which is also correlated with selling price).\")\n",
        "print(\"The Gamma GLM seems to be a more appropriate model because it allows the variance to change with the mean, thus better addressing the heteroscedasticity observed in the data.\")"
      ]
    },
    {
      "cell_type": "markdown",
      "metadata": {
        "id": "Vo7VJfLhDgkk"
      },
      "source": [
        "(d) Which model is preferred according to AIC?"
      ]
    },
    {
      "cell_type": "markdown",
      "metadata": {
        "id": "7Qpz3XZRDgkl"
      },
      "source": [
        "`Your answer goes here`"
      ]
    },
    {
      "cell_type": "code",
      "execution_count": 41,
      "metadata": {
        "colab": {
          "base_uri": "https://localhost:8080/"
        },
        "id": "IBndK_crDgkl",
        "outputId": "6fde5d04-66f8-43c7-e939-036a8b8f5e4e"
      },
      "outputs": [
        {
          "output_type": "stream",
          "name": "stdout",
          "text": [
            "Normal GLM Summary:\n",
            "                            OLS Regression Results                            \n",
            "==============================================================================\n",
            "Dep. Variable:                  price   R-squared:                       0.736\n",
            "Model:                            OLS   Adj. R-squared:                  0.731\n",
            "Method:                 Least Squares   F-statistic:                     135.3\n",
            "Date:                Sun, 13 Oct 2024   Prob (F-statistic):           8.61e-29\n",
            "Time:                        14:08:17   Log-Likelihood:                -577.09\n",
            "No. Observations:                 100   AIC:                             1160.\n",
            "Df Residuals:                      97   BIC:                             1168.\n",
            "Df Model:                           2                                         \n",
            "Covariance Type:            nonrobust                                         \n",
            "==============================================================================\n",
            "                 coef    std err          t      P>|t|      [0.025      0.975]\n",
            "------------------------------------------------------------------------------\n",
            "Intercept     41.9651     14.695      2.856      0.005      12.800      71.131\n",
            "taxes          0.0951      0.007     13.722      0.000       0.081       0.109\n",
            "new           86.2001     27.245      3.164      0.002      32.127     140.273\n",
            "==============================================================================\n",
            "Omnibus:                       21.048   Durbin-Watson:                   1.643\n",
            "Prob(Omnibus):                  0.000   Jarque-Bera (JB):               51.366\n",
            "Skew:                           0.717   Prob(JB):                     7.01e-12\n",
            "Kurtosis:                       6.205   Cond. No.                     7.88e+03\n",
            "==============================================================================\n",
            "\n",
            "Notes:\n",
            "[1] Standard Errors assume that the covariance matrix of the errors is correctly specified.\n",
            "[2] The condition number is large, 7.88e+03. This might indicate that there are\n",
            "strong multicollinearity or other numerical problems.\n",
            "\n",
            "Gamma GLM Summary:\n",
            "                 Generalized Linear Model Regression Results                  \n",
            "==============================================================================\n",
            "Dep. Variable:                  price   No. Observations:                  100\n",
            "Model:                            GLM   Df Residuals:                       97\n",
            "Model Family:                   Gamma   Df Model:                            2\n",
            "Link Function:           InversePower   Scale:                         0.11332\n",
            "Method:                          IRLS   Log-Likelihood:                -566.44\n",
            "Date:                Sun, 13 Oct 2024   Deviance:                       12.090\n",
            "Time:                        14:08:17   Pearson chi2:                     11.0\n",
            "No. Iterations:                    12   Pseudo R-squ. (CS):             0.8265\n",
            "Covariance Type:            nonrobust                                         \n",
            "==============================================================================\n",
            "                 coef    std err          z      P>|z|      [0.025      0.975]\n",
            "------------------------------------------------------------------------------\n",
            "const          0.0068      0.000     25.987      0.000       0.006       0.007\n",
            "taxes      -8.955e-07   6.21e-08    -14.430      0.000   -1.02e-06   -7.74e-07\n",
            "new           -0.0010      0.000     -3.745      0.000      -0.001      -0.000\n",
            "==============================================================================\n",
            "\n",
            "Model Comparison using AIC:\n",
            "AIC for Normal GLM: 1160.18\n",
            "AIC for Gamma GLM: 1138.88\n",
            "\n",
            "The Gamma GLM is preferred according to AIC.\n",
            "\n",
            "Interpretation:\n",
            "AIC (Akaike Information Criterion) is a measure of the relative quality of statistical models for a given set of data.\n",
            "Lower AIC values indicate a better model fit.\n",
            "In this case, the Gamma GLM has a lower AIC than the Normal GLM.\n",
            "Therefore, the Gamma GLM is preferred based on the AIC criterion.\n"
          ]
        },
        {
          "output_type": "stream",
          "name": "stderr",
          "text": [
            "<ipython-input-41-c64dc8542d06>:11: FutureWarning: The 'delim_whitespace' keyword in pd.read_csv is deprecated and will be removed in a future version. Use ``sep='\\s+'`` instead\n",
            "  data = pd.read_csv('Houses.dat', delim_whitespace=True)\n",
            "/usr/local/lib/python3.10/dist-packages/statsmodels/genmod/generalized_linear_model.py:308: DomainWarning: The InversePower link function does not respect the domain of the Gamma family.\n",
            "  warnings.warn((f\"The {type(family.link).__name__} link function \"\n"
          ]
        }
      ],
      "source": [
        "import pandas as pd\n",
        "import matplotlib.pyplot as plt\n",
        "import numpy as np\n",
        "import math\n",
        "import statsmodels.formula.api as sm\n",
        "import statsmodels.api as sm\n",
        "import statsmodels.formula.api as smf\n",
        "\n",
        "\n",
        "# Load the Houses.dat data\n",
        "data = pd.read_csv('Houses.dat', delim_whitespace=True)\n",
        "\n",
        "# (b) (i) Normal GLM\n",
        "normal_glm = smf.ols('price ~ taxes + new', data=data).fit()  # Change here: Use smf.ols\n",
        "print(\"Normal GLM Summary:\")\n",
        "print(normal_glm.summary())\n",
        "\n",
        "# (b) (ii) Gamma GLM\n",
        "gamma_glm = sm.GLM(data['price'], sm.add_constant(data[['taxes', 'new']]), family=sm.families.Gamma()).fit()\n",
        "print(\"\\nGamma GLM Summary:\")\n",
        "print(gamma_glm.summary())\n",
        "\n",
        "# (d) Which model is preferred according to AIC?\n",
        "print(\"\\nModel Comparison using AIC:\")\n",
        "print(f\"AIC for Normal GLM: {normal_glm.aic:.2f}\")\n",
        "print(f\"AIC for Gamma GLM: {gamma_glm.aic:.2f}\")\n",
        "\n",
        "if normal_glm.aic < gamma_glm.aic:\n",
        "  print(\"\\nThe Normal GLM is preferred according to AIC.\")\n",
        "else:\n",
        "  print(\"\\nThe Gamma GLM is preferred according to AIC.\")\n",
        "\n",
        "print(\"\\nInterpretation:\")\n",
        "print(\"AIC (Akaike Information Criterion) is a measure of the relative quality of statistical models for a given set of data.\")\n",
        "print(\"Lower AIC values indicate a better model fit.\")\n",
        "print(\"In this case, the Gamma GLM has a lower AIC than the Normal GLM.\")\n",
        "print(\"Therefore, the Gamma GLM is preferred based on the AIC criterion.\")\n"
      ]
    },
    {
      "cell_type": "markdown",
      "metadata": {
        "id": "mxD5yu9kDgkl"
      },
      "source": [
        "## Problem 7.5."
      ]
    },
    {
      "cell_type": "markdown",
      "metadata": {
        "id": "kLrGA9pYDgkl"
      },
      "source": [
        "A study of sheep mentioned in Exercise 1.27 analyzed whether the sheep survived for a year from the original observation time (1 = yes, 0 = no) as a function of their weight (*kg*) at the original observation."
      ]
    },
    {
      "cell_type": "markdown",
      "metadata": {
        "id": "y2Qu89wtDgkl"
      },
      "source": [
        "(a) Does the survival of the sheep seem to depend on their weight? If so, how does the weight of a sheep affect its probability of survival? Answer by fitting a generalized linear model for the survival probability."
      ]
    },
    {
      "cell_type": "markdown",
      "metadata": {
        "id": "Nn5tebk0Dgkl"
      },
      "source": [
        "`Your answer goes here`"
      ]
    },
    {
      "cell_type": "code",
      "execution_count": 45,
      "metadata": {
        "colab": {
          "base_uri": "https://localhost:8080/"
        },
        "id": "h3U27MP7Dgkm",
        "outputId": "1fac1cad-12b0-4d94-fb53-14580d226199"
      },
      "outputs": [
        {
          "output_type": "stream",
          "name": "stdout",
          "text": [
            "                 Generalized Linear Model Regression Results                  \n",
            "==============================================================================\n",
            "Dep. Variable:               survival   No. Observations:                 1359\n",
            "Model:                            GLM   Df Residuals:                     1357\n",
            "Model Family:                Binomial   Df Model:                            1\n",
            "Link Function:                  Logit   Scale:                          1.0000\n",
            "Method:                          IRLS   Log-Likelihood:                -645.22\n",
            "Date:                Sun, 13 Oct 2024   Deviance:                       1290.4\n",
            "Time:                        14:10:25   Pearson chi2:                 1.44e+03\n",
            "No. Iterations:                     5   Pseudo R-squ. (CS):             0.1294\n",
            "Covariance Type:            nonrobust                                         \n",
            "==============================================================================\n",
            "                 coef    std err          z      P>|z|      [0.025      0.975]\n",
            "------------------------------------------------------------------------------\n",
            "Intercept     -2.0298      0.251     -8.103      0.000      -2.521      -1.539\n",
            "weight         0.1755      0.014     12.588      0.000       0.148       0.203\n",
            "==============================================================================\n",
            "\n",
            "Interpretation:\n",
            "The coefficient for weight is 0.1755\n",
            "The p-value for weight is 0.0\n",
            "The survival of sheep seems to depend on their weight.\n",
            "The weight of a sheep has a positive effect on its probability of survival.\n",
            "Specifically, for every 1 kg increase in weight, the log-odds of survival increase by 0.1755\n",
            "This means that heavier sheep have a higher probability of surviving for a year.\n"
          ]
        },
        {
          "output_type": "stream",
          "name": "stderr",
          "text": [
            "<ipython-input-45-d767896dca69>:6: FutureWarning: The 'delim_whitespace' keyword in pd.read_csv is deprecated and will be removed in a future version. Use ``sep='\\s+'`` instead\n",
            "  data = pd.read_csv('Sheep.dat', delim_whitespace=True)\n"
          ]
        }
      ],
      "source": [
        "import pandas as pd\n",
        "import statsmodels.formula.api as smf\n",
        "import statsmodels.api as sm\n",
        "\n",
        "# Load the Sheep.dat data\n",
        "data = pd.read_csv('Sheep.dat', delim_whitespace=True)\n",
        "\n",
        "# Fit a logistic regression model for survival probability as a function of weight\n",
        "model = smf.glm('survival ~ weight', data=data, family=sm.families.Binomial()).fit()\n",
        "\n",
        "# Print the model summary\n",
        "print(model.summary())\n",
        "\n",
        "# Interpretation\n",
        "print(\"\\nInterpretation:\")\n",
        "print(\"The coefficient for weight is\", round(model.params['weight'], 4))\n",
        "print(\"The p-value for weight is\", round(model.pvalues['weight'], 4))\n",
        "\n",
        "if model.pvalues['weight'] < 0.05:\n",
        "    print(\"The survival of sheep seems to depend on their weight.\")\n",
        "    print(\"The weight of a sheep has a positive effect on its probability of survival.\")\n",
        "    print(\"Specifically, for every 1 kg increase in weight, the log-odds of survival increase by\", round(model.params['weight'], 4))\n",
        "    print(\"This means that heavier sheep have a higher probability of surviving for a year.\")\n",
        "else:\n",
        "    print(\"The survival of sheep does not seem to depend significantly on their weight.\")\n"
      ]
    },
    {
      "cell_type": "markdown",
      "metadata": {
        "id": "eB2-ORoQDgkm"
      },
      "source": [
        "(b)  For what weight values do the sheep have more than a 50% chance of survival?"
      ]
    },
    {
      "cell_type": "markdown",
      "metadata": {
        "id": "9lDmWgElDgkn"
      },
      "source": [
        "`Your answer goes here`"
      ]
    },
    {
      "cell_type": "code",
      "execution_count": 47,
      "metadata": {
        "colab": {
          "base_uri": "https://localhost:8080/"
        },
        "id": "A8g0GyuiDgkn",
        "outputId": "109e8c2d-6647-4639-b718-0f9dd72f93bb"
      },
      "outputs": [
        {
          "output_type": "stream",
          "name": "stderr",
          "text": [
            "<ipython-input-47-13028ede1784>:6: FutureWarning: The 'delim_whitespace' keyword in pd.read_csv is deprecated and will be removed in a future version. Use ``sep='\\s+'`` instead\n",
            "  data = pd.read_csv('Sheep.dat', delim_whitespace=True)\n"
          ]
        },
        {
          "output_type": "stream",
          "name": "stdout",
          "text": [
            "                 Generalized Linear Model Regression Results                  \n",
            "==============================================================================\n",
            "Dep. Variable:               survival   No. Observations:                 1359\n",
            "Model:                            GLM   Df Residuals:                     1357\n",
            "Model Family:                Binomial   Df Model:                            1\n",
            "Link Function:                  Logit   Scale:                          1.0000\n",
            "Method:                          IRLS   Log-Likelihood:                -645.22\n",
            "Date:                Sun, 13 Oct 2024   Deviance:                       1290.4\n",
            "Time:                        14:11:40   Pearson chi2:                 1.44e+03\n",
            "No. Iterations:                     5   Pseudo R-squ. (CS):             0.1294\n",
            "Covariance Type:            nonrobust                                         \n",
            "==============================================================================\n",
            "                 coef    std err          z      P>|z|      [0.025      0.975]\n",
            "------------------------------------------------------------------------------\n",
            "Intercept     -2.0298      0.251     -8.103      0.000      -2.521      -1.539\n",
            "weight         0.1755      0.014     12.588      0.000       0.148       0.203\n",
            "==============================================================================\n",
            "\n",
            "Weight for 50% survival:\n",
            "The weight at which the sheep have a 50% chance of survival is approximately 11.57 kg.\n",
            "\n",
            "Weight values with more than 50% chance of survival:\n",
            "The sheep have more than a 50% chance of survival for weights greater than approximately 11.57 kg.\n"
          ]
        }
      ],
      "source": [
        "import pandas as pd\n",
        "import statsmodels.formula.api as smf\n",
        "import statsmodels.api as sm\n",
        "\n",
        "# Load the Sheep.dat data\n",
        "data = pd.read_csv('Sheep.dat', delim_whitespace=True)\n",
        "\n",
        "# Fit a logistic regression model for survival probability as a function of weight\n",
        "model = smf.glm('survival ~ weight', data=data, family=sm.families.Binomial()).fit()\n",
        "\n",
        "# Print the model summary\n",
        "print(model.summary())\n",
        "\n",
        "beta0 = model.params['Intercept']\n",
        "beta1 = model.params['weight']\n",
        "\n",
        "weight_for_50_percent_survival = -beta0 / beta1\n",
        "\n",
        "print(\"\\nWeight for 50% survival:\")\n",
        "print(f\"The weight at which the sheep have a 50% chance of survival is approximately {weight_for_50_percent_survival:.2f} kg.\")\n",
        "\n",
        "\n",
        "# Find the weight values for which the predicted probability is greater than 0.5\n",
        "weights = data['weight'].sort_values().unique()\n",
        "predicted_probabilities = [model.predict(exog=dict(weight=w)) for w in weights]\n",
        "\n",
        "# Access the first element of the Series using .iloc[0]\n",
        "# to get the predicted probability value for comparison\n",
        "weight_values_over_50_percent = [w for w, p in zip(weights, predicted_probabilities) if p.iloc[0] > 0.5]\n",
        "\n",
        "print(\"\\nWeight values with more than 50% chance of survival:\")\n",
        "print(f\"The sheep have more than a 50% chance of survival for weights greater than approximately {weight_for_50_percent_survival:.2f} kg.\")"
      ]
    },
    {
      "cell_type": "markdown",
      "metadata": {
        "id": "Od3S9gijDgkn"
      },
      "source": [
        "## Problem 7.9."
      ]
    },
    {
      "cell_type": "markdown",
      "metadata": {
        "id": "awX-5VDrDgkn"
      },
      "source": [
        "The `SoreThroat` data file at the book’s website contains data from from a study$^{23}$ about *Y* = whether a patient having surgery had a sore throat on waking (1 = yes, 0 = no) as a function of *D* = duration of the surgery (in minutes) and *T* = type of device used to secure the airway (1 = tracheal tube, 0 = laryngeal mask airway)."
      ]
    },
    {
      "cell_type": "markdown",
      "metadata": {
        "id": "d_P1nGZ6Dgko"
      },
      "source": [
        "(a) Fit a GLM using both explanatory variables as main effects. Interpret effects."
      ]
    },
    {
      "cell_type": "markdown",
      "metadata": {
        "id": "DEj6noxoDgko"
      },
      "source": [
        "`Your answer goes here`"
      ]
    },
    {
      "cell_type": "code",
      "execution_count": 50,
      "metadata": {
        "colab": {
          "base_uri": "https://localhost:8080/"
        },
        "id": "qgTNWNRQDgko",
        "outputId": "a9e6d28a-8eee-44ed-d0ec-ae40a2183342"
      },
      "outputs": [
        {
          "output_type": "stream",
          "name": "stdout",
          "text": [
            "                 Generalized Linear Model Regression Results                  \n",
            "==============================================================================\n",
            "Dep. Variable:                      Y   No. Observations:                   35\n",
            "Model:                            GLM   Df Residuals:                       32\n",
            "Model Family:                Binomial   Df Model:                            2\n",
            "Link Function:                  Logit   Scale:                          1.0000\n",
            "Method:                          IRLS   Log-Likelihood:                -15.069\n",
            "Date:                Sun, 13 Oct 2024   Deviance:                       30.138\n",
            "Time:                        14:20:35   Pearson chi2:                     37.0\n",
            "No. Iterations:                     6   Pseudo R-squ. (CS):             0.3677\n",
            "Covariance Type:            nonrobust                                         \n",
            "==============================================================================\n",
            "                 coef    std err          z      P>|z|      [0.025      0.975]\n",
            "------------------------------------------------------------------------------\n",
            "Intercept     -1.4173      1.095     -1.295      0.195      -3.563       0.728\n",
            "D              0.0687      0.026      2.600      0.009       0.017       0.120\n",
            "T             -1.6589      0.923     -1.798      0.072      -3.468       0.150\n",
            "==============================================================================\n",
            "\n",
            "Interpretation of Effects:\n",
            "The coefficient for 'duration' is 0.0687.\n",
            "This indicates that for every one-minute increase in surgery duration, the log-odds of having a sore throat increases by approximately 0.0687\n",
            "This means that longer surgeries are associated with a higher probability of having a sore throat.\n",
            "\n",
            "The coefficient for 'device' is -1.6589.\n",
            "This suggests that using a tracheal tube (device = 1) is associated with a change of approximately -1.6589 in the log-odds of having a sore throat compared to using a laryngeal mask airway (device = 0).\n",
            "The positive coefficient indicates that using a tracheal tube might lead to a higher probability of having a sore throat.\n"
          ]
        },
        {
          "output_type": "stream",
          "name": "stderr",
          "text": [
            "<ipython-input-50-48e47702fa07>:6: FutureWarning: The 'delim_whitespace' keyword in pd.read_csv is deprecated and will be removed in a future version. Use ``sep='\\s+'`` instead\n",
            "  data = pd.read_csv('SoreThroat.dat', delim_whitespace=True)\n"
          ]
        }
      ],
      "source": [
        "import pandas as pd\n",
        "import statsmodels.formula.api as smf\n",
        "import statsmodels.api as sm\n",
        "\n",
        "# Load the SoreThroat.dat data\n",
        "data = pd.read_csv('SoreThroat.dat', delim_whitespace=True)\n",
        "\n",
        "model = smf.glm('Y ~ D + T', data=data, family=sm.families.Binomial()).fit()\n",
        "\n",
        "# Print the model summary\n",
        "print(model.summary())\n",
        "\n",
        "# Interpretation of effects\n",
        "print(\"\\nInterpretation of Effects:\")\n",
        "# Access using 'D' instead of 'Duration'\n",
        "print(f\"The coefficient for 'duration' is {model.params['D']:.4f}.\")\n",
        "print(\"This indicates that for every one-minute increase in surgery duration, the log-odds of having a sore throat increases by approximately\", round(model.params['D'], 4))\n",
        "print(\"This means that longer surgeries are associated with a higher probability of having a sore throat.\")\n",
        "\n",
        "# Access using 'T' instead of 'Device'\n",
        "print(f\"\\nThe coefficient for 'device' is {model.params['T']:.4f}.\")\n",
        "print(\"This suggests that using a tracheal tube (device = 1) is associated with a change of approximately\", round(model.params['T'], 4), \"in the log-odds of having a sore throat compared to using a laryngeal mask airway (device = 0).\")\n",
        "print(\"The positive coefficient indicates that using a tracheal tube might lead to a higher probability of having a sore throat.\")"
      ]
    },
    {
      "cell_type": "markdown",
      "metadata": {
        "id": "FCqDAQYODgko"
      },
      "source": [
        "(b) Fit a GLM permitting interaction between the explanatory variables. Interpret the effect of *D* at each category of *T*."
      ]
    },
    {
      "cell_type": "markdown",
      "metadata": {
        "id": "E-j9-XfhDgkp"
      },
      "source": [
        "`Your answer goes here`"
      ]
    },
    {
      "cell_type": "code",
      "execution_count": 51,
      "metadata": {
        "colab": {
          "base_uri": "https://localhost:8080/"
        },
        "id": "zqmkPc7ADgkp",
        "outputId": "88fc8746-646e-44a3-da08-ab10243e5d8c"
      },
      "outputs": [
        {
          "output_type": "stream",
          "name": "stdout",
          "text": [
            "                 Generalized Linear Model Regression Results                  \n",
            "==============================================================================\n",
            "Dep. Variable:                      Y   No. Observations:                   35\n",
            "Model:                            GLM   Df Residuals:                       31\n",
            "Model Family:                Binomial   Df Model:                            3\n",
            "Link Function:                  Logit   Scale:                          1.0000\n",
            "Method:                          IRLS   Log-Likelihood:                -14.161\n",
            "Date:                Sun, 13 Oct 2024   Deviance:                       28.321\n",
            "Time:                        14:21:00   Pearson chi2:                     28.6\n",
            "No. Iterations:                     6   Pseudo R-squ. (CS):             0.3997\n",
            "Covariance Type:            nonrobust                                         \n",
            "==============================================================================\n",
            "                 coef    std err          z      P>|z|      [0.025      0.975]\n",
            "------------------------------------------------------------------------------\n",
            "Intercept      0.0498      1.469      0.034      0.973      -2.830       2.930\n",
            "D              0.0285      0.034      0.831      0.406      -0.039       0.096\n",
            "T             -4.4722      2.467     -1.813      0.070      -9.308       0.363\n",
            "D:T            0.0746      0.058      1.291      0.197      -0.039       0.188\n",
            "==============================================================================\n",
            "\n",
            "Interpretation of the effect of D at each category of T:\n",
            "\n",
            "When T = 0 (laryngeal mask airway):\n",
            "The effect of D is approximately 0.0285.\n",
            "This means that for every one-minute increase in surgery duration, the log-odds of having a sore throat increases by approximately 0.0285\n",
            "\n",
            "When T = 1 (tracheal tube):\n",
            "The effect of D is approximately 0.1031.\n",
            "This means that for every one-minute increase in surgery duration, the log-odds of having a sore throat increases by approximately 0.1031\n",
            "\n",
            "Interpretation of Interaction:\n",
            "The interaction term (D:T) indicates that the effect of surgery duration (D) on the log-odds of having a sore throat is different depending on the type of device used (T).\n",
            "In this model, the effect of D appears to be greater when a tracheal tube is used (T=1) compared to when a laryngeal mask airway is used (T=0).\n"
          ]
        },
        {
          "output_type": "stream",
          "name": "stderr",
          "text": [
            "<ipython-input-51-d1cb33384d49>:6: FutureWarning: The 'delim_whitespace' keyword in pd.read_csv is deprecated and will be removed in a future version. Use ``sep='\\s+'`` instead\n",
            "  data = pd.read_csv('SoreThroat.dat', delim_whitespace=True)\n"
          ]
        }
      ],
      "source": [
        "import pandas as pd\n",
        "import statsmodels.formula.api as smf\n",
        "import statsmodels.api as sm\n",
        "\n",
        "# Load the SoreThroat.dat data\n",
        "data = pd.read_csv('SoreThroat.dat', delim_whitespace=True)\n",
        "\n",
        "# Fit a GLM with interaction between D and T\n",
        "model_interaction = smf.glm('Y ~ D * T', data=data, family=sm.families.Binomial()).fit()\n",
        "\n",
        "# Print the model summary\n",
        "print(model_interaction.summary())\n",
        "\n",
        "# Interpretation of the effect of D at each category of T\n",
        "print(\"\\nInterpretation of the effect of D at each category of T:\")\n",
        "\n",
        "# When T = 0 (laryngeal mask airway)\n",
        "print(\"\\nWhen T = 0 (laryngeal mask airway):\")\n",
        "effect_D_T0 = model_interaction.params['D']\n",
        "print(f\"The effect of D is approximately {effect_D_T0:.4f}.\")\n",
        "print(\"This means that for every one-minute increase in surgery duration, the log-odds of having a sore throat increases by approximately\", round(effect_D_T0, 4))\n",
        "\n",
        "# When T = 1 (tracheal tube)\n",
        "print(\"\\nWhen T = 1 (tracheal tube):\")\n",
        "effect_D_T1 = model_interaction.params['D'] + model_interaction.params['D:T']\n",
        "print(f\"The effect of D is approximately {effect_D_T1:.4f}.\")\n",
        "print(\"This means that for every one-minute increase in surgery duration, the log-odds of having a sore throat increases by approximately\", round(effect_D_T1, 4))\n",
        "\n",
        "print(\"\\nInterpretation of Interaction:\")\n",
        "print(\"The interaction term (D:T) indicates that the effect of surgery duration (D) on the log-odds of having a sore throat is different depending on the type of device used (T).\")\n",
        "print(\"In this model, the effect of D appears to be greater when a tracheal tube is used (T=1) compared to when a laryngeal mask airway is used (T=0).\")\n"
      ]
    },
    {
      "cell_type": "markdown",
      "metadata": {
        "id": "jSQMaj2lDgkp"
      },
      "source": [
        "&nbsp;\n",
        "&nbsp;\n",
        "&nbsp;\n",
        "&nbsp;\n",
        "&nbsp;\n",
        "&nbsp;\n",
        "&nbsp;\n",
        "&nbsp;\n",
        "\n",
        "\n",
        "----------------\n",
        "$^{23}$ Described in “Binary Data” by D. Collett, *Encyclopedia of Biostatistics*, 2nd ed. (Wiley, 2005), pp. 439–446.\n",
        "\n",
        "$^{29}$ Some lack of fit the last few days reflects the impact of increasing “social distancing.”"
      ]
    }
  ],
  "metadata": {
    "kernelspec": {
      "display_name": "Python 3",
      "language": "python",
      "name": "python3"
    },
    "language_info": {
      "codemirror_mode": {
        "name": "ipython",
        "version": 3
      },
      "file_extension": ".py",
      "mimetype": "text/x-python",
      "name": "python",
      "nbconvert_exporter": "python",
      "pygments_lexer": "ipython3",
      "version": "3.8.3"
    },
    "vscode": {
      "interpreter": {
        "hash": "b61bb2d7a674932f79ec86662a4165aa288473e6e47a51dc8e3ab9a9cd94608c"
      }
    },
    "colab": {
      "provenance": [],
      "include_colab_link": true
    }
  },
  "nbformat": 4,
  "nbformat_minor": 0
}