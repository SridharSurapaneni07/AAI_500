{
  "cells": [
    {
      "cell_type": "markdown",
      "metadata": {
        "nbgrader": {
          "grade": false,
          "grade_id": "cell-e0c0acd1e11eb022",
          "locked": true,
          "schema_version": 3,
          "solution": false,
          "task": false
        },
        "id": "jalQx0YfLVaN"
      },
      "source": [
        "# Hand-Written Digits Recognition\n",
        "\n",
        "As you have learned and practiced in the module 4, Scikit-learn (package name: `sklearn`) is a Python-based toolkit for a wide variety of machine learning methods.  It supports both supervised learning methods such as classification and regression and unsupervised methods such as clustering and dimensionality reduction.  In addition, it provides much of the software infrastructure to enable the construction of machine learning pipelines, supporting activities such as train-test splitting, cross validation, and hyperparameter optimization.\n",
        "\n",
        "In addition, the scikit-learn developer community has prepared rich documentation that not only describes the particular functions supported by the package, but also theoretical background on different machine learning algorithms and their relationship to one another.\n",
        "\n",
        "In this assignment, you will continue to explore scikit-learn functionalities to tackle a popular computer vision challenge to recognize hand-written digits."
      ]
    },
    {
      "cell_type": "markdown",
      "metadata": {
        "nbgrader": {
          "grade": false,
          "grade_id": "cell-30ddc6cbfee6442b",
          "locked": true,
          "schema_version": 3,
          "solution": false,
          "task": false
        },
        "id": "1CEyQr3XLVaQ"
      },
      "source": [
        "### Step 1.\n",
        "\n",
        "Let's begin by importing `sklearn`.  Execute the command ```help(sklearn)``` to get a brief introduction to the package.  You should see in the package description that sklearn in intended to work in the \"tightly-knit world of scientific Python packages (numpy, scipy, matplotlib).\"  This is part of what makes a successful ecosystem: higher-level packages implementating more specific functionality such as machine learning are able to rest on top of the infrastructure provided by other more general packages in the ecosystem.\n",
        "\n",
        "You should also notice that `sklearn` is a Python module supporting \"classical machine learning algorithms.\" Machine-learning algorithms have been developed and used for decades, although much of the recent excitement around the field revolves around newer \"deep-learning\" algorithms that use neural networks for their implementation.  While `sklearn` does provide some support for machine learning using neural networks, that is not its primary focus, hence the emphasis on \"classical\" algorithms.  There is no single algorithm or approach that works best for every problem, and one of the strengths of `sklearn` is that it supports the use and comparison of many different algorithms within one consistent and integrated framework.\n"
      ]
    },
    {
      "cell_type": "code",
      "execution_count": 1,
      "metadata": {
        "nbgrader": {
          "grade": false,
          "grade_id": "cell-7e426e0096580368",
          "locked": true,
          "schema_version": 3,
          "solution": false,
          "task": false
        },
        "colab": {
          "base_uri": "https://localhost:8080/"
        },
        "id": "GZuWk1I8LVaR",
        "outputId": "23587395-cfd7-497a-c157-cd213cd0e64e"
      },
      "outputs": [
        {
          "output_type": "stream",
          "name": "stdout",
          "text": [
            "Help on package sklearn:\n",
            "\n",
            "NAME\n",
            "    sklearn - Configure global settings and get information about the working environment.\n",
            "\n",
            "PACKAGE CONTENTS\n",
            "    __check_build (package)\n",
            "    _build_utils (package)\n",
            "    _built_with_meson\n",
            "    _config\n",
            "    _distributor_init\n",
            "    _isotonic\n",
            "    _loss (package)\n",
            "    _min_dependencies\n",
            "    base\n",
            "    calibration\n",
            "    cluster (package)\n",
            "    compose (package)\n",
            "    conftest\n",
            "    covariance (package)\n",
            "    cross_decomposition (package)\n",
            "    datasets (package)\n",
            "    decomposition (package)\n",
            "    discriminant_analysis\n",
            "    dummy\n",
            "    ensemble (package)\n",
            "    exceptions\n",
            "    experimental (package)\n",
            "    externals (package)\n",
            "    feature_extraction (package)\n",
            "    feature_selection (package)\n",
            "    gaussian_process (package)\n",
            "    impute (package)\n",
            "    inspection (package)\n",
            "    isotonic\n",
            "    kernel_approximation\n",
            "    kernel_ridge\n",
            "    linear_model (package)\n",
            "    manifold (package)\n",
            "    metrics (package)\n",
            "    mixture (package)\n",
            "    model_selection (package)\n",
            "    multiclass\n",
            "    multioutput\n",
            "    naive_bayes\n",
            "    neighbors (package)\n",
            "    neural_network (package)\n",
            "    pipeline\n",
            "    preprocessing (package)\n",
            "    random_projection\n",
            "    semi_supervised (package)\n",
            "    svm (package)\n",
            "    tests (package)\n",
            "    tree (package)\n",
            "    utils (package)\n",
            "\n",
            "FUNCTIONS\n",
            "    clone(estimator, *, safe=True)\n",
            "        Construct a new unfitted estimator with the same parameters.\n",
            "        \n",
            "        Clone does a deep copy of the model in an estimator\n",
            "        without actually copying attached data. It returns a new estimator\n",
            "        with the same parameters that has not been fitted on any data.\n",
            "        \n",
            "        .. versionchanged:: 1.3\n",
            "            Delegates to `estimator.__sklearn_clone__` if the method exists.\n",
            "        \n",
            "        Parameters\n",
            "        ----------\n",
            "        estimator : {list, tuple, set} of estimator instance or a single             estimator instance\n",
            "            The estimator or group of estimators to be cloned.\n",
            "        safe : bool, default=True\n",
            "            If safe is False, clone will fall back to a deep copy on objects\n",
            "            that are not estimators. Ignored if `estimator.__sklearn_clone__`\n",
            "            exists.\n",
            "        \n",
            "        Returns\n",
            "        -------\n",
            "        estimator : object\n",
            "            The deep copy of the input, an estimator if input is an estimator.\n",
            "        \n",
            "        Notes\n",
            "        -----\n",
            "        If the estimator's `random_state` parameter is an integer (or if the\n",
            "        estimator doesn't have a `random_state` parameter), an *exact clone* is\n",
            "        returned: the clone and the original estimator will give the exact same\n",
            "        results. Otherwise, *statistical clone* is returned: the clone might\n",
            "        return different results from the original estimator. More details can be\n",
            "        found in :ref:`randomness`.\n",
            "        \n",
            "        Examples\n",
            "        --------\n",
            "        >>> from sklearn.base import clone\n",
            "        >>> from sklearn.linear_model import LogisticRegression\n",
            "        >>> X = [[-1, 0], [0, 1], [0, -1], [1, 0]]\n",
            "        >>> y = [0, 0, 1, 1]\n",
            "        >>> classifier = LogisticRegression().fit(X, y)\n",
            "        >>> cloned_classifier = clone(classifier)\n",
            "        >>> hasattr(classifier, \"classes_\")\n",
            "        True\n",
            "        >>> hasattr(cloned_classifier, \"classes_\")\n",
            "        False\n",
            "        >>> classifier is cloned_classifier\n",
            "        False\n",
            "    \n",
            "    config_context(*, assume_finite=None, working_memory=None, print_changed_only=None, display=None, pairwise_dist_chunk_size=None, enable_cython_pairwise_dist=None, array_api_dispatch=None, transform_output=None, enable_metadata_routing=None, skip_parameter_validation=None)\n",
            "        Context manager for global scikit-learn configuration.\n",
            "        \n",
            "        Parameters\n",
            "        ----------\n",
            "        assume_finite : bool, default=None\n",
            "            If True, validation for finiteness will be skipped,\n",
            "            saving time, but leading to potential crashes. If\n",
            "            False, validation for finiteness will be performed,\n",
            "            avoiding error. If None, the existing value won't change.\n",
            "            The default value is False.\n",
            "        \n",
            "        working_memory : int, default=None\n",
            "            If set, scikit-learn will attempt to limit the size of temporary arrays\n",
            "            to this number of MiB (per job when parallelised), often saving both\n",
            "            computation time and memory on expensive operations that can be\n",
            "            performed in chunks. If None, the existing value won't change.\n",
            "            The default value is 1024.\n",
            "        \n",
            "        print_changed_only : bool, default=None\n",
            "            If True, only the parameters that were set to non-default\n",
            "            values will be printed when printing an estimator. For example,\n",
            "            ``print(SVC())`` while True will only print 'SVC()', but would print\n",
            "            'SVC(C=1.0, cache_size=200, ...)' with all the non-changed parameters\n",
            "            when False. If None, the existing value won't change.\n",
            "            The default value is True.\n",
            "        \n",
            "            .. versionchanged:: 0.23\n",
            "               Default changed from False to True.\n",
            "        \n",
            "        display : {'text', 'diagram'}, default=None\n",
            "            If 'diagram', estimators will be displayed as a diagram in a Jupyter\n",
            "            lab or notebook context. If 'text', estimators will be displayed as\n",
            "            text. If None, the existing value won't change.\n",
            "            The default value is 'diagram'.\n",
            "        \n",
            "            .. versionadded:: 0.23\n",
            "        \n",
            "        pairwise_dist_chunk_size : int, default=None\n",
            "            The number of row vectors per chunk for the accelerated pairwise-\n",
            "            distances reduction backend. Default is 256 (suitable for most of\n",
            "            modern laptops' caches and architectures).\n",
            "        \n",
            "            Intended for easier benchmarking and testing of scikit-learn internals.\n",
            "            End users are not expected to benefit from customizing this configuration\n",
            "            setting.\n",
            "        \n",
            "            .. versionadded:: 1.1\n",
            "        \n",
            "        enable_cython_pairwise_dist : bool, default=None\n",
            "            Use the accelerated pairwise-distances reduction backend when\n",
            "            possible. Global default: True.\n",
            "        \n",
            "            Intended for easier benchmarking and testing of scikit-learn internals.\n",
            "            End users are not expected to benefit from customizing this configuration\n",
            "            setting.\n",
            "        \n",
            "            .. versionadded:: 1.1\n",
            "        \n",
            "        array_api_dispatch : bool, default=None\n",
            "            Use Array API dispatching when inputs follow the Array API standard.\n",
            "            Default is False.\n",
            "        \n",
            "            See the :ref:`User Guide <array_api>` for more details.\n",
            "        \n",
            "            .. versionadded:: 1.2\n",
            "        \n",
            "        transform_output : str, default=None\n",
            "            Configure output of `transform` and `fit_transform`.\n",
            "        \n",
            "            See :ref:`sphx_glr_auto_examples_miscellaneous_plot_set_output.py`\n",
            "            for an example on how to use the API.\n",
            "        \n",
            "            - `\"default\"`: Default output format of a transformer\n",
            "            - `\"pandas\"`: DataFrame output\n",
            "            - `\"polars\"`: Polars output\n",
            "            - `None`: Transform configuration is unchanged\n",
            "        \n",
            "            .. versionadded:: 1.2\n",
            "            .. versionadded:: 1.4\n",
            "                `\"polars\"` option was added.\n",
            "        \n",
            "        enable_metadata_routing : bool, default=None\n",
            "            Enable metadata routing. By default this feature is disabled.\n",
            "        \n",
            "            Refer to :ref:`metadata routing user guide <metadata_routing>` for more\n",
            "            details.\n",
            "        \n",
            "            - `True`: Metadata routing is enabled\n",
            "            - `False`: Metadata routing is disabled, use the old syntax.\n",
            "            - `None`: Configuration is unchanged\n",
            "        \n",
            "            .. versionadded:: 1.3\n",
            "        \n",
            "        skip_parameter_validation : bool, default=None\n",
            "            If `True`, disable the validation of the hyper-parameters' types and values in\n",
            "            the fit method of estimators and for arguments passed to public helper\n",
            "            functions. It can save time in some situations but can lead to low level\n",
            "            crashes and exceptions with confusing error messages.\n",
            "        \n",
            "            Note that for data parameters, such as `X` and `y`, only type validation is\n",
            "            skipped but validation with `check_array` will continue to run.\n",
            "        \n",
            "            .. versionadded:: 1.3\n",
            "        \n",
            "        Yields\n",
            "        ------\n",
            "        None.\n",
            "        \n",
            "        See Also\n",
            "        --------\n",
            "        set_config : Set global scikit-learn configuration.\n",
            "        get_config : Retrieve current values of the global configuration.\n",
            "        \n",
            "        Notes\n",
            "        -----\n",
            "        All settings, not just those presently modified, will be returned to\n",
            "        their previous values when the context manager is exited.\n",
            "        \n",
            "        Examples\n",
            "        --------\n",
            "        >>> import sklearn\n",
            "        >>> from sklearn.utils.validation import assert_all_finite\n",
            "        >>> with sklearn.config_context(assume_finite=True):\n",
            "        ...     assert_all_finite([float('nan')])\n",
            "        >>> with sklearn.config_context(assume_finite=True):\n",
            "        ...     with sklearn.config_context(assume_finite=False):\n",
            "        ...         assert_all_finite([float('nan')])\n",
            "        Traceback (most recent call last):\n",
            "        ...\n",
            "        ValueError: Input contains NaN...\n",
            "    \n",
            "    get_config()\n",
            "        Retrieve current values for configuration set by :func:`set_config`.\n",
            "        \n",
            "        Returns\n",
            "        -------\n",
            "        config : dict\n",
            "            Keys are parameter names that can be passed to :func:`set_config`.\n",
            "        \n",
            "        See Also\n",
            "        --------\n",
            "        config_context : Context manager for global scikit-learn configuration.\n",
            "        set_config : Set global scikit-learn configuration.\n",
            "        \n",
            "        Examples\n",
            "        --------\n",
            "        >>> import sklearn\n",
            "        >>> config = sklearn.get_config()\n",
            "        >>> config.keys()\n",
            "        dict_keys([...])\n",
            "    \n",
            "    set_config(assume_finite=None, working_memory=None, print_changed_only=None, display=None, pairwise_dist_chunk_size=None, enable_cython_pairwise_dist=None, array_api_dispatch=None, transform_output=None, enable_metadata_routing=None, skip_parameter_validation=None)\n",
            "        Set global scikit-learn configuration.\n",
            "        \n",
            "        .. versionadded:: 0.19\n",
            "        \n",
            "        Parameters\n",
            "        ----------\n",
            "        assume_finite : bool, default=None\n",
            "            If True, validation for finiteness will be skipped,\n",
            "            saving time, but leading to potential crashes. If\n",
            "            False, validation for finiteness will be performed,\n",
            "            avoiding error.  Global default: False.\n",
            "        \n",
            "            .. versionadded:: 0.19\n",
            "        \n",
            "        working_memory : int, default=None\n",
            "            If set, scikit-learn will attempt to limit the size of temporary arrays\n",
            "            to this number of MiB (per job when parallelised), often saving both\n",
            "            computation time and memory on expensive operations that can be\n",
            "            performed in chunks. Global default: 1024.\n",
            "        \n",
            "            .. versionadded:: 0.20\n",
            "        \n",
            "        print_changed_only : bool, default=None\n",
            "            If True, only the parameters that were set to non-default\n",
            "            values will be printed when printing an estimator. For example,\n",
            "            ``print(SVC())`` while True will only print 'SVC()' while the default\n",
            "            behaviour would be to print 'SVC(C=1.0, cache_size=200, ...)' with\n",
            "            all the non-changed parameters.\n",
            "        \n",
            "            .. versionadded:: 0.21\n",
            "        \n",
            "        display : {'text', 'diagram'}, default=None\n",
            "            If 'diagram', estimators will be displayed as a diagram in a Jupyter\n",
            "            lab or notebook context. If 'text', estimators will be displayed as\n",
            "            text. Default is 'diagram'.\n",
            "        \n",
            "            .. versionadded:: 0.23\n",
            "        \n",
            "        pairwise_dist_chunk_size : int, default=None\n",
            "            The number of row vectors per chunk for the accelerated pairwise-\n",
            "            distances reduction backend. Default is 256 (suitable for most of\n",
            "            modern laptops' caches and architectures).\n",
            "        \n",
            "            Intended for easier benchmarking and testing of scikit-learn internals.\n",
            "            End users are not expected to benefit from customizing this configuration\n",
            "            setting.\n",
            "        \n",
            "            .. versionadded:: 1.1\n",
            "        \n",
            "        enable_cython_pairwise_dist : bool, default=None\n",
            "            Use the accelerated pairwise-distances reduction backend when\n",
            "            possible. Global default: True.\n",
            "        \n",
            "            Intended for easier benchmarking and testing of scikit-learn internals.\n",
            "            End users are not expected to benefit from customizing this configuration\n",
            "            setting.\n",
            "        \n",
            "            .. versionadded:: 1.1\n",
            "        \n",
            "        array_api_dispatch : bool, default=None\n",
            "            Use Array API dispatching when inputs follow the Array API standard.\n",
            "            Default is False.\n",
            "        \n",
            "            See the :ref:`User Guide <array_api>` for more details.\n",
            "        \n",
            "            .. versionadded:: 1.2\n",
            "        \n",
            "        transform_output : str, default=None\n",
            "            Configure output of `transform` and `fit_transform`.\n",
            "        \n",
            "            See :ref:`sphx_glr_auto_examples_miscellaneous_plot_set_output.py`\n",
            "            for an example on how to use the API.\n",
            "        \n",
            "            - `\"default\"`: Default output format of a transformer\n",
            "            - `\"pandas\"`: DataFrame output\n",
            "            - `\"polars\"`: Polars output\n",
            "            - `None`: Transform configuration is unchanged\n",
            "        \n",
            "            .. versionadded:: 1.2\n",
            "            .. versionadded:: 1.4\n",
            "                `\"polars\"` option was added.\n",
            "        \n",
            "        enable_metadata_routing : bool, default=None\n",
            "            Enable metadata routing. By default this feature is disabled.\n",
            "        \n",
            "            Refer to :ref:`metadata routing user guide <metadata_routing>` for more\n",
            "            details.\n",
            "        \n",
            "            - `True`: Metadata routing is enabled\n",
            "            - `False`: Metadata routing is disabled, use the old syntax.\n",
            "            - `None`: Configuration is unchanged\n",
            "        \n",
            "            .. versionadded:: 1.3\n",
            "        \n",
            "        skip_parameter_validation : bool, default=None\n",
            "            If `True`, disable the validation of the hyper-parameters' types and values in\n",
            "            the fit method of estimators and for arguments passed to public helper\n",
            "            functions. It can save time in some situations but can lead to low level\n",
            "            crashes and exceptions with confusing error messages.\n",
            "        \n",
            "            Note that for data parameters, such as `X` and `y`, only type validation is\n",
            "            skipped but validation with `check_array` will continue to run.\n",
            "        \n",
            "            .. versionadded:: 1.3\n",
            "        \n",
            "        See Also\n",
            "        --------\n",
            "        config_context : Context manager for global scikit-learn configuration.\n",
            "        get_config : Retrieve current values of the global configuration.\n",
            "        \n",
            "        Examples\n",
            "        --------\n",
            "        >>> from sklearn import set_config\n",
            "        >>> set_config(display='diagram')  # doctest: +SKIP\n",
            "    \n",
            "    show_versions()\n",
            "        Print useful debugging information\"\n",
            "        \n",
            "        .. versionadded:: 0.20\n",
            "        \n",
            "        Examples\n",
            "        --------\n",
            "        >>> from sklearn import show_versions\n",
            "        >>> show_versions()  # doctest: +SKIP\n",
            "\n",
            "DATA\n",
            "    __SKLEARN_SETUP__ = False\n",
            "    __all__ = ['calibration', 'cluster', 'covariance', 'cross_decompositio...\n",
            "\n",
            "VERSION\n",
            "    1.5.2\n",
            "\n",
            "FILE\n",
            "    /usr/local/lib/python3.10/dist-packages/sklearn/__init__.py\n",
            "\n",
            "\n"
          ]
        }
      ],
      "source": [
        "import sklearn\n",
        "help(sklearn)"
      ]
    },
    {
      "cell_type": "markdown",
      "metadata": {
        "nbgrader": {
          "grade": false,
          "grade_id": "cell-2bed598c8d43af7a",
          "locked": true,
          "schema_version": 3,
          "solution": false,
          "task": false
        },
        "id": "8kEuKjIlLVaS"
      },
      "source": [
        "### Step 2.\n",
        "\n",
        "The `sklearn` package includes some built-in datasets that can be imported.  One of these is a collection of low-resolution images (8 x 8 pixels) representing hand-written digits.  Let's import the dataset:\n",
        "\n",
        "In the coded cell below:\n",
        "\n",
        "* First import the `datasets` submodule from the sklearn package\n",
        "* Next call the ```load_digits()``` function in the `datasets` module, and assign the result to the variable ```digits```.\n",
        "* Using the built-in function <code>type</code>, print the type of the ```digits``` variable."
      ]
    },
    {
      "cell_type": "markdown",
      "metadata": {
        "id": "A-XdDdWzLVaS"
      },
      "source": [
        "#### Graded Cell\n",
        "\n",
        "This cell is worth 5% of the grade for this assignment."
      ]
    },
    {
      "cell_type": "code",
      "execution_count": 2,
      "metadata": {
        "nbgrader": {
          "grade": false,
          "grade_id": "cell-8f1098bdedff6215",
          "locked": true,
          "schema_version": 3,
          "solution": false,
          "task": false
        },
        "colab": {
          "base_uri": "https://localhost:8080/"
        },
        "id": "qlLuzmn1LVaS",
        "outputId": "390b5da8-65c2-4d17-efaa-c302e6d08b69"
      },
      "outputs": [
        {
          "output_type": "stream",
          "name": "stdout",
          "text": [
            "<class 'sklearn.utils._bunch.Bunch'>\n"
          ]
        }
      ],
      "source": [
        "from sklearn import datasets\n",
        "digits = datasets.load_digits()\n",
        "print(type(digits))\n"
      ]
    },
    {
      "cell_type": "markdown",
      "metadata": {
        "nbgrader": {
          "grade": false,
          "grade_id": "cell-c9324c6acca76dff",
          "locked": true,
          "schema_version": 3,
          "solution": false,
          "task": false
        },
        "id": "jWYP5ZOALVaT"
      },
      "source": [
        "### Step 3.\n",
        "\n",
        "You should see that ```digits``` is an object of type 'sklearn.utils.Bunch', which is not something we have seen before, but it is basically a new type of container that is something like a Python dictionary.  (One of the ways it differs from a dictionary is that elements contained in the Bunch can be accessed using the dot operator ```.``` rather than the square-bracket indexing supported by dictionaries.  We'll see this feature below.)\n",
        "\n",
        "Because a Bunch is similar to a dictionary, it can be queried to list its keys.  Print out the result of ```digits.keys()``` and examine the output."
      ]
    },
    {
      "cell_type": "code",
      "execution_count": 3,
      "metadata": {
        "nbgrader": {
          "grade": false,
          "grade_id": "cell-89d3613350b0ac66",
          "locked": true,
          "schema_version": 3,
          "solution": false,
          "task": false
        },
        "colab": {
          "base_uri": "https://localhost:8080/"
        },
        "id": "QDEbTVlxLVaT",
        "outputId": "5ef2e4e7-c94f-49e4-badb-7af1b92491c9"
      },
      "outputs": [
        {
          "output_type": "execute_result",
          "data": {
            "text/plain": [
              "dict_keys(['data', 'target', 'frame', 'feature_names', 'target_names', 'images', 'DESCR'])"
            ]
          },
          "metadata": {},
          "execution_count": 3
        }
      ],
      "source": [
        "digits.keys()"
      ]
    },
    {
      "cell_type": "markdown",
      "metadata": {
        "nbgrader": {
          "grade": false,
          "grade_id": "cell-44a79b27eed05017",
          "locked": true,
          "schema_version": 3,
          "solution": false,
          "task": false
        },
        "id": "b_tjEIyULVaT"
      },
      "source": [
        "### Step 4.\n",
        "\n",
        "You should notice that ```digits``` contains multiple elements, one of which is ```images```, which we can access via the expression ```digits.images```, that is, using the dot operator to get the images out of the digits Bunch.  In the code cell below:\n",
        "\n",
        "- print the types of the items ```images``` and ```target``` contained in ```digits```.\n",
        "- print out the shape of both the ```images``` and ```target``` arrays."
      ]
    },
    {
      "cell_type": "markdown",
      "metadata": {
        "id": "P8C-G0iDLVaU"
      },
      "source": [
        "#### Graded Cell\n",
        "\n",
        "This cell is worth 10% of the grade for this assignment."
      ]
    },
    {
      "cell_type": "code",
      "execution_count": 4,
      "metadata": {
        "nbgrader": {
          "grade": false,
          "grade_id": "cell-12561639d39d3f21",
          "locked": true,
          "schema_version": 3,
          "solution": false,
          "task": false
        },
        "colab": {
          "base_uri": "https://localhost:8080/"
        },
        "id": "bfQehAxDLVaU",
        "outputId": "b649481f-d67d-45d8-e12e-643ab373dccf"
      },
      "outputs": [
        {
          "output_type": "stream",
          "name": "stdout",
          "text": [
            "<class 'numpy.ndarray'>\n",
            "<class 'numpy.ndarray'>\n",
            "(1797, 8, 8)\n"
          ]
        },
        {
          "output_type": "execute_result",
          "data": {
            "text/plain": [
              "(1797,)"
            ]
          },
          "metadata": {},
          "execution_count": 4
        }
      ],
      "source": [
        "print(type(digits.images))\n",
        "print(type(digits.target))\n",
        "print(digits.images.shape)\n",
        "digits.target.shape"
      ]
    },
    {
      "cell_type": "markdown",
      "metadata": {
        "nbgrader": {
          "grade": false,
          "grade_id": "cell-0516ad0256c94160",
          "locked": true,
          "schema_version": 3,
          "solution": false,
          "task": false
        },
        "id": "xarzYs9vLVaU"
      },
      "source": [
        "### Step 5.\n",
        "\n",
        "You should notice that ```images``` is a three-dimensional array of shape (1797, 8, 8) and that ```target``` is a one-dimensional array of shape (1797,).  Each array contains 1797 elements in it, since these are 1797 examples of hand-written digits in this dataset.  Let's have a look at the data in more detail.\n",
        "\n",
        "In the code cell below:\n",
        "* print the value of the first image in the array\n",
        "* print the value of the first target"
      ]
    },
    {
      "cell_type": "markdown",
      "metadata": {
        "id": "v0tQm3b2LVaV"
      },
      "source": [
        "#### Graded Cell\n",
        "\n",
        "This cell is worth 5% of the grade for this assignment."
      ]
    },
    {
      "cell_type": "code",
      "execution_count": 5,
      "metadata": {
        "nbgrader": {
          "grade": false,
          "grade_id": "cell-8d63bee708334a85",
          "locked": true,
          "schema_version": 3,
          "solution": false,
          "task": false
        },
        "colab": {
          "base_uri": "https://localhost:8080/"
        },
        "id": "vTQo4oNCLVaV",
        "outputId": "6ca2c26a-7686-4a5b-8add-d2d7865a566b"
      },
      "outputs": [
        {
          "output_type": "stream",
          "name": "stdout",
          "text": [
            "[[ 0.  0.  5. 13.  9.  1.  0.  0.]\n",
            " [ 0.  0. 13. 15. 10. 15.  5.  0.]\n",
            " [ 0.  3. 15.  2.  0. 11.  8.  0.]\n",
            " [ 0.  4. 12.  0.  0.  8.  8.  0.]\n",
            " [ 0.  5.  8.  0.  0.  9.  8.  0.]\n",
            " [ 0.  4. 11.  0.  1. 12.  7.  0.]\n",
            " [ 0.  2. 14.  5. 10. 12.  0.  0.]\n",
            " [ 0.  0.  6. 13. 10.  0.  0.  0.]]\n"
          ]
        },
        {
          "output_type": "execute_result",
          "data": {
            "text/plain": [
              "0"
            ]
          },
          "metadata": {},
          "execution_count": 5
        }
      ],
      "source": [
        "import sklearn\n",
        "from sklearn import datasets\n",
        "\n",
        "digits = datasets.load_digits()\n",
        "\n",
        "print(digits.images[0])\n",
        "digits.target[0]"
      ]
    },
    {
      "cell_type": "markdown",
      "metadata": {
        "nbgrader": {
          "grade": false,
          "grade_id": "cell-f5cc83818e67fd08",
          "locked": true,
          "schema_version": 3,
          "solution": false,
          "task": false
        },
        "id": "qVuj4Q3ELVaV"
      },
      "source": [
        "### Step 6.\n",
        "\n",
        "Because the images array has shape (1797, 8, 8), the first entry in that array (```digits.images[0]```) is an 8 x 8 subarray.  This array encodes the grayscale value of the first hand-written image in the dataset, i.e., each entry in the 8 x 8 array encodes the intensity (darkness) of the corresponding pixel.  From the output above, the value of ```digits.target[0]``` is reported to be ```0```.  This means that the first image in the dataset is an example of the digit 0.  It's a bit difficult to see that by staring at the numbers in the 8 x 8 image array, but maybe things will make more sense if we try to visualize the image.\n",
        "\n",
        "Please use the seaborn heatmap function to display the image in the code cell below. Hopefully that looks something like a zero to you."
      ]
    },
    {
      "cell_type": "markdown",
      "metadata": {
        "id": "E-BqMeM2LVaV"
      },
      "source": [
        "#### Graded Cell\n",
        "\n",
        "This cell is worth 10% of the grade for this assignment."
      ]
    },
    {
      "cell_type": "code",
      "execution_count": 6,
      "metadata": {
        "nbgrader": {
          "grade": false,
          "grade_id": "cell-5c5421d475dd0139",
          "locked": true,
          "schema_version": 3,
          "solution": false,
          "task": false
        },
        "colab": {
          "base_uri": "https://localhost:8080/",
          "height": 314
        },
        "id": "bqsIUJdaLVaW",
        "outputId": "a96fc538-1f05-4358-8ee4-fdb77bf5858b"
      },
      "outputs": [
        {
          "output_type": "display_data",
          "data": {
            "text/plain": [
              "<Figure size 400x300 with 2 Axes>"
            ],
            "image/png": "[encoded data removed]"
          },
          "metadata": {}
        }
      ],
      "source": [
        "import matplotlib.pyplot as plt\n",
        "import seaborn as sns\n",
        "import sklearn\n",
        "from sklearn import datasets\n",
        "\n",
        "digits = datasets.load_digits()\n",
        "\n",
        "# Display the first image using seaborn heatmap\n",
        "plt.figure(figsize=(4, 3))\n",
        "sns.heatmap(digits.images[0], annot=True, cmap='gray', fmt='.0f')\n",
        "plt.title('Image of Digit 0')\n",
        "plt.show()"
      ]
    },
    {
      "cell_type": "markdown",
      "metadata": {
        "nbgrader": {
          "grade": false,
          "grade_id": "cell-b2eb91a020b696f3",
          "locked": true,
          "schema_version": 3,
          "solution": false,
          "task": false
        },
        "id": "2MDzdQ9yLVaW"
      },
      "source": [
        "### Step 7.\n",
        "\n",
        "The ```digits``` Bunch also contains an item called ```data```, which is also a numpy array.  In the code cell below, print out the shape of the data item."
      ]
    },
    {
      "cell_type": "markdown",
      "metadata": {
        "id": "BhJXmt6wLVaW"
      },
      "source": [
        "#### Graded Cell\n",
        "\n",
        "This cell is worth 5% of the grade for this assignment."
      ]
    },
    {
      "cell_type": "code",
      "execution_count": 7,
      "metadata": {
        "nbgrader": {
          "grade": false,
          "grade_id": "cell-ac84f50269fc7c80",
          "locked": true,
          "schema_version": 3,
          "solution": false,
          "task": false
        },
        "colab": {
          "base_uri": "https://localhost:8080/"
        },
        "id": "7j_lU470LVaW",
        "outputId": "682f1f89-75c4-4957-9b28-958835ea7258"
      },
      "outputs": [
        {
          "output_type": "execute_result",
          "data": {
            "text/plain": [
              "(1797, 64)"
            ]
          },
          "metadata": {},
          "execution_count": 7
        }
      ],
      "source": [
        "digits.data.shape"
      ]
    },
    {
      "cell_type": "markdown",
      "metadata": {
        "nbgrader": {
          "grade": false,
          "grade_id": "cell-0f8325295b846325",
          "locked": true,
          "schema_version": 3,
          "solution": false,
          "task": false
        },
        "id": "mhtjk1BwLVaW"
      },
      "source": [
        "### Step 8.\n",
        "\n",
        "You should see that ```digits.data``` has shape (1797, 64).  This reflects the fact that for each of the 1797 hand-written images in the dataset, the 8 x 8 image array has been \"flattened\" into a one-dimensional data array of length 64, by concatenating each of the 8 rows one after the other.  (Within numpy, an n-dimensional array can be flattened into a one-dimensional array using the function <code>np.ravel</code>.)  A flattening like this is convenient to be able to feed data into a machine learning algorithm, since we can use the same algorithm for datasets of different dimensions.  No information is lost by this flattening procedure, except for the fact that if we were to plot out the flattened array, we probably would not be able to recognize what digit is encoded. In the code cell below, make a simple line plot using ```plt.plot``` of the one-dimensional data in array <code>digits.data[0]</code> to see what the flattened version of the data looks like."
      ]
    },
    {
      "cell_type": "markdown",
      "metadata": {
        "id": "a8ZD7ixDLVaX"
      },
      "source": [
        "#### Graded Cell\n",
        "\n",
        "This cell is worth 5% of the grade for this assignment."
      ]
    },
    {
      "cell_type": "code",
      "execution_count": 8,
      "metadata": {
        "nbgrader": {
          "grade": false,
          "grade_id": "cell-548d9dcf860d317d",
          "locked": true,
          "schema_version": 3,
          "solution": false,
          "task": false
        },
        "colab": {
          "base_uri": "https://localhost:8080/",
          "height": 430
        },
        "id": "FuGPb00ZLVaX",
        "outputId": "7ab7c4c7-b64d-4bcb-b3bc-181d5eedfb29"
      },
      "outputs": [
        {
          "output_type": "display_data",
          "data": {
            "text/plain": [
              "<Figure size 640x480 with 1 Axes>"
            ],
            "image/png": "[encoded data removed]"
          },
          "metadata": {}
        }
      ],
      "source": [
        "import matplotlib.pyplot as plt\n",
        "plt.plot(digits.data[0])\n",
        "plt.show()"
      ]
    },
    {
      "cell_type": "markdown",
      "metadata": {
        "nbgrader": {
          "grade": false,
          "grade_id": "cell-fb4e446ec6fbca19",
          "locked": true,
          "schema_version": 3,
          "solution": false,
          "task": false
        },
        "id": "faIVZjZnLVaX"
      },
      "source": [
        "### Step 9.\n",
        "\n",
        "We've gone through multiple steps of interrogating the digits dataset, since this is typical in the process of developing a machine learning analysis, where one needs to understand the structure of the data and how the different data items relate to each other.  We're going to carry out a supervised learning classification of the data.\n",
        "\n",
        "In this classification process, we are going to train a classifier on labeled examples, where the labels are the known values in the target array.  For example, the classifier will be instructed that the data in ```digits.data[0]``` corresponds to the digit 0, the data in ```digits.data[314]``` corresponds to the digit 6, etc.\n",
        "\n",
        "The material in the sklearn tutorial on [Learning and predicting](https://scikit-learn.org/stable/tutorial/basic/tutorial.html#learning-and-predicting) describes this next phase of the process, which we will incorporate into the code cell below.\n",
        "\n",
        "In the code cell below please perform the following tasks:\n",
        "\n",
        "* Import the `svm` classifier from `sklearn`\n",
        "* Creates an object of type SVC (Support Vector Classifier) and assigns it to the variable ```clf``` (short for classifier). Set Gamma to 0.01 and C to 100 which are hyperparameters that can be specified by the user before training. They define the classification boundary between classified and missclassified data points. We have selected some sample values for this assignment but in practice there are heuristics and cross-validation procedures to identify good values.\n",
        "* Fits (trains) the data in all of the images and targets except for the last (```digits.data[:-1]```, which stops one item short of the last entry)\n"
      ]
    },
    {
      "cell_type": "markdown",
      "metadata": {
        "id": "AQqZAlkrLVaX"
      },
      "source": [
        "#### Graded Cell\n",
        "\n",
        "This cell is worth 10% of the grade for this assignment."
      ]
    },
    {
      "cell_type": "code",
      "execution_count": 9,
      "metadata": {
        "nbgrader": {
          "grade": false,
          "grade_id": "cell-6d208572fef68179",
          "locked": true,
          "schema_version": 3,
          "solution": false,
          "task": false
        },
        "colab": {
          "base_uri": "https://localhost:8080/",
          "height": 80
        },
        "id": "UK-V_RJ9LVaY",
        "outputId": "4c8164b0-abd0-4ed9-d743-9c7ace25cfe7"
      },
      "outputs": [
        {
          "output_type": "execute_result",
          "data": {
            "text/plain": [
              "SVC(C=100.0, gamma=0.01)"
            ],
            "text/html": [
              "<style>#sk-container-id-1 {\n",
              "  /* Definition of color scheme common for light and dark mode */\n",
              "  --sklearn-color-text: black;\n",
              "  --sklearn-color-line: gray;\n",
              "  /* Definition of color scheme for unfitted estimators */\n",
              "  --sklearn-color-unfitted-level-0: #fff5e6;\n",
              "  --sklearn-color-unfitted-level-1: #f6e4d2;\n",
              "  --sklearn-color-unfitted-level-2: #ffe0b3;\n",
              "  --sklearn-color-unfitted-level-3: chocolate;\n",
              "  /* Definition of color scheme for fitted estimators */\n",
              "  --sklearn-color-fitted-level-0: #f0f8ff;\n",
              "  --sklearn-color-fitted-level-1: #d4ebff;\n",
              "  --sklearn-color-fitted-level-2: #b3dbfd;\n",
              "  --sklearn-color-fitted-level-3: cornflowerblue;\n",
              "\n",
              "  /* Specific color for light theme */\n",
              "  --sklearn-color-text-on-default-background: var(--sg-text-color, var(--theme-code-foreground, var(--jp-content-font-color1, black)));\n",
              "  --sklearn-color-background: var(--sg-background-color, var(--theme-background, var(--jp-layout-color0, white)));\n",
              "  --sklearn-color-border-box: var(--sg-text-color, var(--theme-code-foreground, var(--jp-content-font-color1, black)));\n",
              "  --sklearn-color-icon: #696969;\n",
              "\n",
              "  @media (prefers-color-scheme: dark) {\n",
              "    /* Redefinition of color scheme for dark theme */\n",
              "    --sklearn-color-text-on-default-background: var(--sg-text-color, var(--theme-code-foreground, var(--jp-content-font-color1, white)));\n",
              "    --sklearn-color-background: var(--sg-background-color, var(--theme-background, var(--jp-layout-color0, #111)));\n",
              "    --sklearn-color-border-box: var(--sg-text-color, var(--theme-code-foreground, var(--jp-content-font-color1, white)));\n",
              "    --sklearn-color-icon: #878787;\n",
              "  }\n",
              "}\n",
              "\n",
              "#sk-container-id-1 {\n",
              "  color: var(--sklearn-color-text);\n",
              "}\n",
              "\n",
              "#sk-container-id-1 pre {\n",
              "  padding: 0;\n",
              "}\n",
              "\n",
              "#sk-container-id-1 input.sk-hidden--visually {\n",
              "  border: 0;\n",
              "  clip: rect(1px 1px 1px 1px);\n",
              "  clip: rect(1px, 1px, 1px, 1px);\n",
              "  height: 1px;\n",
              "  margin: -1px;\n",
              "  overflow: hidden;\n",
              "  padding: 0;\n",
              "  position: absolute;\n",
              "  width: 1px;\n",
              "}\n",
              "\n",
              "#sk-container-id-1 div.sk-dashed-wrapped {\n",
              "  border: 1px dashed var(--sklearn-color-line);\n",
              "  margin: 0 0.4em 0.5em 0.4em;\n",
              "  box-sizing: border-box;\n",
              "  padding-bottom: 0.4em;\n",
              "  background-color: var(--sklearn-color-background);\n",
              "}\n",
              "\n",
              "#sk-container-id-1 div.sk-container {\n",
              "  /* jupyter's `normalize.less` sets `[hidden] { display: none; }`\n",
              "     but bootstrap.min.css set `[hidden] { display: none !important; }`\n",
              "     so we also need the `!important` here to be able to override the\n",
              "     default hidden behavior on the sphinx rendered scikit-learn.org.\n",
              "     See: https://github.com/scikit-learn/scikit-learn/issues/21755 */\n",
              "  display: inline-block !important;\n",
              "  position: relative;\n",
              "}\n",
              "\n",
              "#sk-container-id-1 div.sk-text-repr-fallback {\n",
              "  display: none;\n",
              "}\n",
              "\n",
              "div.sk-parallel-item,\n",
              "div.sk-serial,\n",
              "div.sk-item {\n",
              "  /* draw centered vertical line to link estimators */\n",
              "  background-image: linear-gradient(var(--sklearn-color-text-on-default-background), var(--sklearn-color-text-on-default-background));\n",
              "  background-size: 2px 100%;\n",
              "  background-repeat: no-repeat;\n",
              "  background-position: center center;\n",
              "}\n",
              "\n",
              "/* Parallel-specific style estimator block */\n",
              "\n",
              "#sk-container-id-1 div.sk-parallel-item::after {\n",
              "  content: \"\";\n",
              "  width: 100%;\n",
              "  border-bottom: 2px solid var(--sklearn-color-text-on-default-background);\n",
              "  flex-grow: 1;\n",
              "}\n",
              "\n",
              "#sk-container-id-1 div.sk-parallel {\n",
              "  display: flex;\n",
              "  align-items: stretch;\n",
              "  justify-content: center;\n",
              "  background-color: var(--sklearn-color-background);\n",
              "  position: relative;\n",
              "}\n",
              "\n",
              "#sk-container-id-1 div.sk-parallel-item {\n",
              "  display: flex;\n",
              "  flex-direction: column;\n",
              "}\n",
              "\n",
              "#sk-container-id-1 div.sk-parallel-item:first-child::after {\n",
              "  align-self: flex-end;\n",
              "  width: 50%;\n",
              "}\n",
              "\n",
              "#sk-container-id-1 div.sk-parallel-item:last-child::after {\n",
              "  align-self: flex-start;\n",
              "  width: 50%;\n",
              "}\n",
              "\n",
              "#sk-container-id-1 div.sk-parallel-item:only-child::after {\n",
              "  width: 0;\n",
              "}\n",
              "\n",
              "/* Serial-specific style estimator block */\n",
              "\n",
              "#sk-container-id-1 div.sk-serial {\n",
              "  display: flex;\n",
              "  flex-direction: column;\n",
              "  align-items: center;\n",
              "  background-color: var(--sklearn-color-background);\n",
              "  padding-right: 1em;\n",
              "  padding-left: 1em;\n",
              "}\n",
              "\n",
              "\n",
              "/* Toggleable style: style used for estimator/Pipeline/ColumnTransformer box that is\n",
              "clickable and can be expanded/collapsed.\n",
              "- Pipeline and ColumnTransformer use this feature and define the default style\n",
              "- Estimators will overwrite some part of the style using the `sk-estimator` class\n",
              "*/\n",
              "\n",
              "/* Pipeline and ColumnTransformer style (default) */\n",
              "\n",
              "#sk-container-id-1 div.sk-toggleable {\n",
              "  /* Default theme specific background. It is overwritten whether we have a\n",
              "  specific estimator or a Pipeline/ColumnTransformer */\n",
              "  background-color: var(--sklearn-color-background);\n",
              "}\n",
              "\n",
              "/* Toggleable label */\n",
              "#sk-container-id-1 label.sk-toggleable__label {\n",
              "  cursor: pointer;\n",
              "  display: block;\n",
              "  width: 100%;\n",
              "  margin-bottom: 0;\n",
              "  padding: 0.5em;\n",
              "  box-sizing: border-box;\n",
              "  text-align: center;\n",
              "}\n",
              "\n",
              "#sk-container-id-1 label.sk-toggleable__label-arrow:before {\n",
              "  /* Arrow on the left of the label */\n",
              "  content: \"▸\";\n",
              "  float: left;\n",
              "  margin-right: 0.25em;\n",
              "  color: var(--sklearn-color-icon);\n",
              "}\n",
              "\n",
              "#sk-container-id-1 label.sk-toggleable__label-arrow:hover:before {\n",
              "  color: var(--sklearn-color-text);\n",
              "}\n",
              "\n",
              "/* Toggleable content - dropdown */\n",
              "\n",
              "#sk-container-id-1 div.sk-toggleable__content {\n",
              "  max-height: 0;\n",
              "  max-width: 0;\n",
              "  overflow: hidden;\n",
              "  text-align: left;\n",
              "  /* unfitted */\n",
              "  background-color: var(--sklearn-color-unfitted-level-0);\n",
              "}\n",
              "\n",
              "#sk-container-id-1 div.sk-toggleable__content.fitted {\n",
              "  /* fitted */\n",
              "  background-color: var(--sklearn-color-fitted-level-0);\n",
              "}\n",
              "\n",
              "#sk-container-id-1 div.sk-toggleable__content pre {\n",
              "  margin: 0.2em;\n",
              "  border-radius: 0.25em;\n",
              "  color: var(--sklearn-color-text);\n",
              "  /* unfitted */\n",
              "  background-color: var(--sklearn-color-unfitted-level-0);\n",
              "}\n",
              "\n",
              "#sk-container-id-1 div.sk-toggleable__content.fitted pre {\n",
              "  /* unfitted */\n",
              "  background-color: var(--sklearn-color-fitted-level-0);\n",
              "}\n",
              "\n",
              "#sk-container-id-1 input.sk-toggleable__control:checked~div.sk-toggleable__content {\n",
              "  /* Expand drop-down */\n",
              "  max-height: 200px;\n",
              "  max-width: 100%;\n",
              "  overflow: auto;\n",
              "}\n",
              "\n",
              "#sk-container-id-1 input.sk-toggleable__control:checked~label.sk-toggleable__label-arrow:before {\n",
              "  content: \"▾\";\n",
              "}\n",
              "\n",
              "/* Pipeline/ColumnTransformer-specific style */\n",
              "\n",
              "#sk-container-id-1 div.sk-label input.sk-toggleable__control:checked~label.sk-toggleable__label {\n",
              "  color: var(--sklearn-color-text);\n",
              "  background-color: var(--sklearn-color-unfitted-level-2);\n",
              "}\n",
              "\n",
              "#sk-container-id-1 div.sk-label.fitted input.sk-toggleable__control:checked~label.sk-toggleable__label {\n",
              "  background-color: var(--sklearn-color-fitted-level-2);\n",
              "}\n",
              "\n",
              "/* Estimator-specific style */\n",
              "\n",
              "/* Colorize estimator box */\n",
              "#sk-container-id-1 div.sk-estimator input.sk-toggleable__control:checked~label.sk-toggleable__label {\n",
              "  /* unfitted */\n",
              "  background-color: var(--sklearn-color-unfitted-level-2);\n",
              "}\n",
              "\n",
              "#sk-container-id-1 div.sk-estimator.fitted input.sk-toggleable__control:checked~label.sk-toggleable__label {\n",
              "  /* fitted */\n",
              "  background-color: var(--sklearn-color-fitted-level-2);\n",
              "}\n",
              "\n",
              "#sk-container-id-1 div.sk-label label.sk-toggleable__label,\n",
              "#sk-container-id-1 div.sk-label label {\n",
              "  /* The background is the default theme color */\n",
              "  color: var(--sklearn-color-text-on-default-background);\n",
              "}\n",
              "\n",
              "/* On hover, darken the color of the background */\n",
              "#sk-container-id-1 div.sk-label:hover label.sk-toggleable__label {\n",
              "  color: var(--sklearn-color-text);\n",
              "  background-color: var(--sklearn-color-unfitted-level-2);\n",
              "}\n",
              "\n",
              "/* Label box, darken color on hover, fitted */\n",
              "#sk-container-id-1 div.sk-label.fitted:hover label.sk-toggleable__label.fitted {\n",
              "  color: var(--sklearn-color-text);\n",
              "  background-color: var(--sklearn-color-fitted-level-2);\n",
              "}\n",
              "\n",
              "/* Estimator label */\n",
              "\n",
              "#sk-container-id-1 div.sk-label label {\n",
              "  font-family: monospace;\n",
              "  font-weight: bold;\n",
              "  display: inline-block;\n",
              "  line-height: 1.2em;\n",
              "}\n",
              "\n",
              "#sk-container-id-1 div.sk-label-container {\n",
              "  text-align: center;\n",
              "}\n",
              "\n",
              "/* Estimator-specific */\n",
              "#sk-container-id-1 div.sk-estimator {\n",
              "  font-family: monospace;\n",
              "  border: 1px dotted var(--sklearn-color-border-box);\n",
              "  border-radius: 0.25em;\n",
              "  box-sizing: border-box;\n",
              "  margin-bottom: 0.5em;\n",
              "  /* unfitted */\n",
              "  background-color: var(--sklearn-color-unfitted-level-0);\n",
              "}\n",
              "\n",
              "#sk-container-id-1 div.sk-estimator.fitted {\n",
              "  /* fitted */\n",
              "  background-color: var(--sklearn-color-fitted-level-0);\n",
              "}\n",
              "\n",
              "/* on hover */\n",
              "#sk-container-id-1 div.sk-estimator:hover {\n",
              "  /* unfitted */\n",
              "  background-color: var(--sklearn-color-unfitted-level-2);\n",
              "}\n",
              "\n",
              "#sk-container-id-1 div.sk-estimator.fitted:hover {\n",
              "  /* fitted */\n",
              "  background-color: var(--sklearn-color-fitted-level-2);\n",
              "}\n",
              "\n",
              "/* Specification for estimator info (e.g. \"i\" and \"?\") */\n",
              "\n",
              "/* Common style for \"i\" and \"?\" */\n",
              "\n",
              ".sk-estimator-doc-link,\n",
              "a:link.sk-estimator-doc-link,\n",
              "a:visited.sk-estimator-doc-link {\n",
              "  float: right;\n",
              "  font-size: smaller;\n",
              "  line-height: 1em;\n",
              "  font-family: monospace;\n",
              "  background-color: var(--sklearn-color-background);\n",
              "  border-radius: 1em;\n",
              "  height: 1em;\n",
              "  width: 1em;\n",
              "  text-decoration: none !important;\n",
              "  margin-left: 1ex;\n",
              "  /* unfitted */\n",
              "  border: var(--sklearn-color-unfitted-level-1) 1pt solid;\n",
              "  color: var(--sklearn-color-unfitted-level-1);\n",
              "}\n",
              "\n",
              ".sk-estimator-doc-link.fitted,\n",
              "a:link.sk-estimator-doc-link.fitted,\n",
              "a:visited.sk-estimator-doc-link.fitted {\n",
              "  /* fitted */\n",
              "  border: var(--sklearn-color-fitted-level-1) 1pt solid;\n",
              "  color: var(--sklearn-color-fitted-level-1);\n",
              "}\n",
              "\n",
              "/* On hover */\n",
              "div.sk-estimator:hover .sk-estimator-doc-link:hover,\n",
              ".sk-estimator-doc-link:hover,\n",
              "div.sk-label-container:hover .sk-estimator-doc-link:hover,\n",
              ".sk-estimator-doc-link:hover {\n",
              "  /* unfitted */\n",
              "  background-color: var(--sklearn-color-unfitted-level-3);\n",
              "  color: var(--sklearn-color-background);\n",
              "  text-decoration: none;\n",
              "}\n",
              "\n",
              "div.sk-estimator.fitted:hover .sk-estimator-doc-link.fitted:hover,\n",
              ".sk-estimator-doc-link.fitted:hover,\n",
              "div.sk-label-container:hover .sk-estimator-doc-link.fitted:hover,\n",
              ".sk-estimator-doc-link.fitted:hover {\n",
              "  /* fitted */\n",
              "  background-color: var(--sklearn-color-fitted-level-3);\n",
              "  color: var(--sklearn-color-background);\n",
              "  text-decoration: none;\n",
              "}\n",
              "\n",
              "/* Span, style for the box shown on hovering the info icon */\n",
              ".sk-estimator-doc-link span {\n",
              "  display: none;\n",
              "  z-index: 9999;\n",
              "  position: relative;\n",
              "  font-weight: normal;\n",
              "  right: .2ex;\n",
              "  padding: .5ex;\n",
              "  margin: .5ex;\n",
              "  width: min-content;\n",
              "  min-width: 20ex;\n",
              "  max-width: 50ex;\n",
              "  color: var(--sklearn-color-text);\n",
              "  box-shadow: 2pt 2pt 4pt #999;\n",
              "  /* unfitted */\n",
              "  background: var(--sklearn-color-unfitted-level-0);\n",
              "  border: .5pt solid var(--sklearn-color-unfitted-level-3);\n",
              "}\n",
              "\n",
              ".sk-estimator-doc-link.fitted span {\n",
              "  /* fitted */\n",
              "  background: var(--sklearn-color-fitted-level-0);\n",
              "  border: var(--sklearn-color-fitted-level-3);\n",
              "}\n",
              "\n",
              ".sk-estimator-doc-link:hover span {\n",
              "  display: block;\n",
              "}\n",
              "\n",
              "/* \"?\"-specific style due to the `<a>` HTML tag */\n",
              "\n",
              "#sk-container-id-1 a.estimator_doc_link {\n",
              "  float: right;\n",
              "  font-size: 1rem;\n",
              "  line-height: 1em;\n",
              "  font-family: monospace;\n",
              "  background-color: var(--sklearn-color-background);\n",
              "  border-radius: 1rem;\n",
              "  height: 1rem;\n",
              "  width: 1rem;\n",
              "  text-decoration: none;\n",
              "  /* unfitted */\n",
              "  color: var(--sklearn-color-unfitted-level-1);\n",
              "  border: var(--sklearn-color-unfitted-level-1) 1pt solid;\n",
              "}\n",
              "\n",
              "#sk-container-id-1 a.estimator_doc_link.fitted {\n",
              "  /* fitted */\n",
              "  border: var(--sklearn-color-fitted-level-1) 1pt solid;\n",
              "  color: var(--sklearn-color-fitted-level-1);\n",
              "}\n",
              "\n",
              "/* On hover */\n",
              "#sk-container-id-1 a.estimator_doc_link:hover {\n",
              "  /* unfitted */\n",
              "  background-color: var(--sklearn-color-unfitted-level-3);\n",
              "  color: var(--sklearn-color-background);\n",
              "  text-decoration: none;\n",
              "}\n",
              "\n",
              "#sk-container-id-1 a.estimator_doc_link.fitted:hover {\n",
              "  /* fitted */\n",
              "  background-color: var(--sklearn-color-fitted-level-3);\n",
              "}\n",
              "</style><div id=\"sk-container-id-1\" class=\"sk-top-container\"><div class=\"sk-text-repr-fallback\"><pre>SVC(C=100.0, gamma=0.01)</pre><b>In a Jupyter environment, please rerun this cell to show the HTML representation or trust the notebook. <br />On GitHub, the HTML representation is unable to render, please try loading this page with nbviewer.org.</b></div><div class=\"sk-container\" hidden><div class=\"sk-item\"><div class=\"sk-estimator fitted sk-toggleable\"><input class=\"sk-toggleable__control sk-hidden--visually\" id=\"sk-estimator-id-1\" type=\"checkbox\" checked><label for=\"sk-estimator-id-1\" class=\"sk-toggleable__label fitted sk-toggleable__label-arrow fitted\">&nbsp;&nbsp;SVC<a class=\"sk-estimator-doc-link fitted\" rel=\"noreferrer\" target=\"_blank\" href=\"https://scikit-learn.org/1.5/modules/generated/sklearn.svm.SVC.html\">?<span>Documentation for SVC</span></a><span class=\"sk-estimator-doc-link fitted\">i<span>Fitted</span></span></label><div class=\"sk-toggleable__content fitted\"><pre>SVC(C=100.0, gamma=0.01)</pre></div> </div></div></div></div>"
            ]
          },
          "metadata": {},
          "execution_count": 9
        }
      ],
      "source": [
        "from sklearn import svm\n",
        "clf = svm.SVC(gamma=0.01, C=100.)\n",
        "clf.fit(digits.data[:-1], digits.target[:-1])"
      ]
    },
    {
      "cell_type": "markdown",
      "metadata": {
        "nbgrader": {
          "grade": false,
          "grade_id": "cell-201732d68de19423",
          "locked": true,
          "schema_version": 3,
          "solution": false,
          "task": false
        },
        "id": "-Ci2YCyELVaY"
      },
      "source": [
        "### Step 10.\n",
        "\n",
        "Having fit the classifier on all but the last image, we can now try to predict the digit associated with the last image, by calling the ```predict``` method on our classifier ```clf```.\n",
        "\n",
        "In the code cell below:\n",
        "\n",
        "- Apply the trained model to recognize the digit in the last image and print the digit.\n",
        "- Make a heatmap plot of the last image in the dataset.  Does it look like the number 8?  The sklearn tutorial notes: \"As you can see, it is a challenging task: after all, the images are of poor resolution. Do you agree with the classifier?\""
      ]
    },
    {
      "cell_type": "markdown",
      "metadata": {
        "id": "Dq8sij1ALVaY"
      },
      "source": [
        "#### Graded Cell\n",
        "\n",
        "This cell is worth 10% of the grade for this assignment."
      ]
    },
    {
      "cell_type": "code",
      "execution_count": 10,
      "metadata": {
        "nbgrader": {
          "grade": false,
          "grade_id": "cell-46963e0a58459fdc",
          "locked": true,
          "schema_version": 3,
          "solution": false,
          "task": false
        },
        "colab": {
          "base_uri": "https://localhost:8080/",
          "height": 331
        },
        "id": "twrb8qMhLVaY",
        "outputId": "dd41c600-7d87-4a24-ffe7-ca8e3f605250"
      },
      "outputs": [
        {
          "output_type": "stream",
          "name": "stdout",
          "text": [
            "Predicted digit: 8\n"
          ]
        },
        {
          "output_type": "display_data",
          "data": {
            "text/plain": [
              "<Figure size 400x300 with 2 Axes>"
            ],
            "image/png": "[encoded data removed]"
          },
          "metadata": {}
        }
      ],
      "source": [
        "import sklearn\n",
        "from sklearn import datasets\n",
        "import matplotlib.pyplot as plt\n",
        "import seaborn as sns\n",
        "from sklearn import svm\n",
        "\n",
        "digits = datasets.load_digits()\n",
        "\n",
        "clf = svm.SVC(gamma=0.01, C=100.)\n",
        "clf.fit(digits.data[:-1], digits.target[:-1])\n",
        "\n",
        "# Apply the trained model to recognize the digit in the last image and print the digit.\n",
        "predicted_digit = clf.predict(digits.data[-1:])\n",
        "print(f\"Predicted digit: {predicted_digit[0]}\")\n",
        "\n",
        "# Make a heatmap plot of the last image in the dataset.\n",
        "plt.figure(figsize=(4, 3))\n",
        "sns.heatmap(digits.images[-1], annot=True, cmap='gray', fmt='.0f')\n",
        "plt.title('Image of the last digit')\n",
        "plt.show()"
      ]
    },
    {
      "cell_type": "markdown",
      "metadata": {
        "nbgrader": {
          "grade": false,
          "grade_id": "cell-4551d4a281212a40",
          "locked": true,
          "schema_version": 3,
          "solution": false,
          "task": false
        },
        "id": "wg_yKdDILVaZ"
      },
      "source": [
        "### Step 11.\n",
        "\n",
        "The last digit in the dataset was *predicted* to be 8, based on the trained classifier. In the code cell below, write an expression that assigns to the variable <code>true_last_digit</code> the true value of the last digit in the dataset, by extracting the relevant value out of the <code>digits</code> object."
      ]
    },
    {
      "cell_type": "markdown",
      "metadata": {
        "id": "WAcc9zUxLVaZ"
      },
      "source": [
        "#### Graded Cell\n",
        "\n",
        "This cell is worth 20% of the grade for this assignment."
      ]
    },
    {
      "cell_type": "code",
      "execution_count": 13,
      "metadata": {
        "nbgrader": {
          "grade": false,
          "grade_id": "cell-ce7e1e339e56ce7e",
          "locked": false,
          "schema_version": 3,
          "solution": true,
          "task": false
        },
        "id": "gteVKw84LVaZ"
      },
      "outputs": [],
      "source": [
        "true_last_digit = digits.target[-1]"
      ]
    },
    {
      "cell_type": "markdown",
      "metadata": {
        "nbgrader": {
          "grade": false,
          "grade_id": "cell-067eb53d09d8fca5",
          "locked": true,
          "schema_version": 3,
          "solution": false,
          "task": false
        },
        "id": "9RBAej0cLVaZ"
      },
      "source": [
        "### Step 12.\n",
        "\n",
        "In the example above, we trained the classifier using all but one example, and then tried to predict the digit for that last remaining example.  That is just one of many possible workflows, using a particular split of training and testing data.  For example, we could instead train on all but the last 100 examples, and then predict the last 100 examples using that model.  \n",
        "\n",
        "In the code cell below, fit the ```clf``` classifier on all but the last 100 examples, and then predict the digits for the last 100 examples. Save your result to the variable `predict_last_100`, and print out the value of that variable so that you can observe the set of predictions made for this test dataset."
      ]
    },
    {
      "cell_type": "markdown",
      "metadata": {
        "id": "IUJG3AAqLVaa"
      },
      "source": [
        "#### Graded Cell\n",
        "\n",
        "This cell is worth 20% of the grade for this assignment."
      ]
    },
    {
      "cell_type": "code",
      "execution_count": 12,
      "metadata": {
        "nbgrader": {
          "grade": false,
          "grade_id": "cell-4861fc0edc9d9548",
          "locked": false,
          "schema_version": 3,
          "solution": true,
          "task": false
        },
        "colab": {
          "base_uri": "https://localhost:8080/"
        },
        "id": "lhnioSW1LVaa",
        "outputId": "04dfb48b-c945-42a1-c7a9-c02ad091998a"
      },
      "outputs": [
        {
          "output_type": "execute_result",
          "data": {
            "text/plain": [
              "array([0, 9, 5, 5, 6, 5, 0, 9, 8, 9, 8, 8, 1, 8, 7, 3, 5, 1, 8, 8, 2, 2,\n",
              "       7, 8, 2, 8, 8, 8, 6, 8, 8, 8, 8, 8, 4, 8, 6, 8, 8, 9, 1, 5, 0, 9,\n",
              "       5, 8, 8, 2, 8, 0, 8, 7, 6, 8, 2, 8, 8, 8, 6, 3, 1, 3, 9, 1, 7, 6,\n",
              "       8, 4, 8, 1, 8, 8, 5, 3, 6, 9, 6, 1, 7, 5, 4, 8, 7, 2, 8, 2, 2, 5,\n",
              "       7, 9, 5, 4, 8, 8, 4, 9, 0, 8, 9, 8])"
            ]
          },
          "metadata": {},
          "execution_count": 12
        }
      ],
      "source": [
        "clf = svm.SVC(gamma=0.01, C=100.)\n",
        "clf.fit(digits.data[:-100], digits.target[:-100])\n",
        "predict_last_100 = clf.predict(digits.data[-100:])\n",
        "predict_last_100"
      ]
    }
  ],
  "metadata": {
    "kernelspec": {
      "display_name": "Python 3",
      "language": "python",
      "name": "python3"
    },
    "language_info": {
      "codemirror_mode": {
        "name": "ipython",
        "version": 3
      },
      "file_extension": ".py",
      "mimetype": "text/x-python",
      "name": "python",
      "nbconvert_exporter": "python",
      "pygments_lexer": "ipython3",
      "version": "3.7.7"
    },
    "colab": {
      "provenance": []
    }
  },
  "nbformat": 4,
  "nbformat_minor": 0
}